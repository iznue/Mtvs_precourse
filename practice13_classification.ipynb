{
  "nbformat": 4,
  "nbformat_minor": 0,
  "metadata": {
    "colab": {
      "provenance": [],
      "include_colab_link": true
    },
    "kernelspec": {
      "name": "python3",
      "display_name": "Python 3"
    },
    "language_info": {
      "name": "python"
    }
  },
  "cells": [
    {
      "cell_type": "markdown",
      "metadata": {
        "id": "view-in-github",
        "colab_type": "text"
      },
      "source": [
        "<a href=\"https://colab.research.google.com/github/iznue/Mtvs/blob/main/practice13_classification.ipynb\" target=\"_parent\"><img src=\"https://colab.research.google.com/assets/colab-badge.svg\" alt=\"Open In Colab\"/></a>"
      ]
    },
    {
      "cell_type": "markdown",
      "source": [
        "## Machine Learning with Python \n",
        "### 실습02.Classification Modeling\n",
        "\n",
        "1. Load Data & Explore Data\n",
        "2. Preprocess Data\n",
        "3. Model Train\n",
        "4. Model Test\n",
        "5. Model Evaluate"
      ],
      "metadata": {
        "id": "phBf1Qa3cSKW"
      }
    },
    {
      "cell_type": "code",
      "source": [
        "# 1. Load Data & Explore Data\n",
        "import pandas as pd\n",
        "\n",
        "data = pd.read_csv('6강_데이터_Social_Network_Ads.csv')\n",
        "data.head()"
      ],
      "metadata": {
        "id": "Rk8rS2VPcWyM",
        "colab": {
          "base_uri": "https://localhost:8080/",
          "height": 206
        },
        "outputId": "9d235356-022f-4579-c8c2-e18c425166f5"
      },
      "execution_count": 4,
      "outputs": [
        {
          "output_type": "execute_result",
          "data": {
            "text/plain": [
              "    User ID  Gender   Age  EstimatedSalary  Purchased\n",
              "0  15566689  Female  35.0          57000.0          0\n",
              "1  15569641  Female  58.0          95000.0          1\n",
              "2  15570769  Female  26.0          80000.0          0\n",
              "3  15570932    Male  34.0         115000.0          0\n",
              "4  15571059  Female  33.0          41000.0          0"
            ],
            "text/html": [
              "\n",
              "  <div id=\"df-b8a5422c-66e5-4bb5-8cbf-767f32cd00aa\">\n",
              "    <div class=\"colab-df-container\">\n",
              "      <div>\n",
              "<style scoped>\n",
              "    .dataframe tbody tr th:only-of-type {\n",
              "        vertical-align: middle;\n",
              "    }\n",
              "\n",
              "    .dataframe tbody tr th {\n",
              "        vertical-align: top;\n",
              "    }\n",
              "\n",
              "    .dataframe thead th {\n",
              "        text-align: right;\n",
              "    }\n",
              "</style>\n",
              "<table border=\"1\" class=\"dataframe\">\n",
              "  <thead>\n",
              "    <tr style=\"text-align: right;\">\n",
              "      <th></th>\n",
              "      <th>User ID</th>\n",
              "      <th>Gender</th>\n",
              "      <th>Age</th>\n",
              "      <th>EstimatedSalary</th>\n",
              "      <th>Purchased</th>\n",
              "    </tr>\n",
              "  </thead>\n",
              "  <tbody>\n",
              "    <tr>\n",
              "      <th>0</th>\n",
              "      <td>15566689</td>\n",
              "      <td>Female</td>\n",
              "      <td>35.0</td>\n",
              "      <td>57000.0</td>\n",
              "      <td>0</td>\n",
              "    </tr>\n",
              "    <tr>\n",
              "      <th>1</th>\n",
              "      <td>15569641</td>\n",
              "      <td>Female</td>\n",
              "      <td>58.0</td>\n",
              "      <td>95000.0</td>\n",
              "      <td>1</td>\n",
              "    </tr>\n",
              "    <tr>\n",
              "      <th>2</th>\n",
              "      <td>15570769</td>\n",
              "      <td>Female</td>\n",
              "      <td>26.0</td>\n",
              "      <td>80000.0</td>\n",
              "      <td>0</td>\n",
              "    </tr>\n",
              "    <tr>\n",
              "      <th>3</th>\n",
              "      <td>15570932</td>\n",
              "      <td>Male</td>\n",
              "      <td>34.0</td>\n",
              "      <td>115000.0</td>\n",
              "      <td>0</td>\n",
              "    </tr>\n",
              "    <tr>\n",
              "      <th>4</th>\n",
              "      <td>15571059</td>\n",
              "      <td>Female</td>\n",
              "      <td>33.0</td>\n",
              "      <td>41000.0</td>\n",
              "      <td>0</td>\n",
              "    </tr>\n",
              "  </tbody>\n",
              "</table>\n",
              "</div>\n",
              "      <button class=\"colab-df-convert\" onclick=\"convertToInteractive('df-b8a5422c-66e5-4bb5-8cbf-767f32cd00aa')\"\n",
              "              title=\"Convert this dataframe to an interactive table.\"\n",
              "              style=\"display:none;\">\n",
              "        \n",
              "  <svg xmlns=\"http://www.w3.org/2000/svg\" height=\"24px\"viewBox=\"0 0 24 24\"\n",
              "       width=\"24px\">\n",
              "    <path d=\"M0 0h24v24H0V0z\" fill=\"none\"/>\n",
              "    <path d=\"M18.56 5.44l.94 2.06.94-2.06 2.06-.94-2.06-.94-.94-2.06-.94 2.06-2.06.94zm-11 1L8.5 8.5l.94-2.06 2.06-.94-2.06-.94L8.5 2.5l-.94 2.06-2.06.94zm10 10l.94 2.06.94-2.06 2.06-.94-2.06-.94-.94-2.06-.94 2.06-2.06.94z\"/><path d=\"M17.41 7.96l-1.37-1.37c-.4-.4-.92-.59-1.43-.59-.52 0-1.04.2-1.43.59L10.3 9.45l-7.72 7.72c-.78.78-.78 2.05 0 2.83L4 21.41c.39.39.9.59 1.41.59.51 0 1.02-.2 1.41-.59l7.78-7.78 2.81-2.81c.8-.78.8-2.07 0-2.86zM5.41 20L4 18.59l7.72-7.72 1.47 1.35L5.41 20z\"/>\n",
              "  </svg>\n",
              "      </button>\n",
              "      \n",
              "  <style>\n",
              "    .colab-df-container {\n",
              "      display:flex;\n",
              "      flex-wrap:wrap;\n",
              "      gap: 12px;\n",
              "    }\n",
              "\n",
              "    .colab-df-convert {\n",
              "      background-color: #E8F0FE;\n",
              "      border: none;\n",
              "      border-radius: 50%;\n",
              "      cursor: pointer;\n",
              "      display: none;\n",
              "      fill: #1967D2;\n",
              "      height: 32px;\n",
              "      padding: 0 0 0 0;\n",
              "      width: 32px;\n",
              "    }\n",
              "\n",
              "    .colab-df-convert:hover {\n",
              "      background-color: #E2EBFA;\n",
              "      box-shadow: 0px 1px 2px rgba(60, 64, 67, 0.3), 0px 1px 3px 1px rgba(60, 64, 67, 0.15);\n",
              "      fill: #174EA6;\n",
              "    }\n",
              "\n",
              "    [theme=dark] .colab-df-convert {\n",
              "      background-color: #3B4455;\n",
              "      fill: #D2E3FC;\n",
              "    }\n",
              "\n",
              "    [theme=dark] .colab-df-convert:hover {\n",
              "      background-color: #434B5C;\n",
              "      box-shadow: 0px 1px 3px 1px rgba(0, 0, 0, 0.15);\n",
              "      filter: drop-shadow(0px 1px 2px rgba(0, 0, 0, 0.3));\n",
              "      fill: #FFFFFF;\n",
              "    }\n",
              "  </style>\n",
              "\n",
              "      <script>\n",
              "        const buttonEl =\n",
              "          document.querySelector('#df-b8a5422c-66e5-4bb5-8cbf-767f32cd00aa button.colab-df-convert');\n",
              "        buttonEl.style.display =\n",
              "          google.colab.kernel.accessAllowed ? 'block' : 'none';\n",
              "\n",
              "        async function convertToInteractive(key) {\n",
              "          const element = document.querySelector('#df-b8a5422c-66e5-4bb5-8cbf-767f32cd00aa');\n",
              "          const dataTable =\n",
              "            await google.colab.kernel.invokeFunction('convertToInteractive',\n",
              "                                                     [key], {});\n",
              "          if (!dataTable) return;\n",
              "\n",
              "          const docLinkHtml = 'Like what you see? Visit the ' +\n",
              "            '<a target=\"_blank\" href=https://colab.research.google.com/notebooks/data_table.ipynb>data table notebook</a>'\n",
              "            + ' to learn more about interactive tables.';\n",
              "          element.innerHTML = '';\n",
              "          dataTable['output_type'] = 'display_data';\n",
              "          await google.colab.output.renderOutput(dataTable, element);\n",
              "          const docLink = document.createElement('div');\n",
              "          docLink.innerHTML = docLinkHtml;\n",
              "          element.appendChild(docLink);\n",
              "        }\n",
              "      </script>\n",
              "    </div>\n",
              "  </div>\n",
              "  "
            ]
          },
          "metadata": {},
          "execution_count": 4
        }
      ]
    },
    {
      "cell_type": "code",
      "source": [
        "# data info\n",
        "data.info()"
      ],
      "metadata": {
        "colab": {
          "base_uri": "https://localhost:8080/"
        },
        "id": "GHvzeDnNNeHt",
        "outputId": "667cb664-4e31-44d3-f21a-db1ab55c39b8"
      },
      "execution_count": 5,
      "outputs": [
        {
          "output_type": "stream",
          "name": "stdout",
          "text": [
            "<class 'pandas.core.frame.DataFrame'>\n",
            "RangeIndex: 400 entries, 0 to 399\n",
            "Data columns (total 5 columns):\n",
            " #   Column           Non-Null Count  Dtype  \n",
            "---  ------           --------------  -----  \n",
            " 0   User ID          400 non-null    int64  \n",
            " 1   Gender           394 non-null    object \n",
            " 2   Age              390 non-null    float64\n",
            " 3   EstimatedSalary  388 non-null    float64\n",
            " 4   Purchased        400 non-null    int64  \n",
            "dtypes: float64(2), int64(2), object(1)\n",
            "memory usage: 15.8+ KB\n"
          ]
        }
      ]
    },
    {
      "cell_type": "code",
      "source": [
        "# data describtion\n",
        "data.describe(include='all')"
      ],
      "metadata": {
        "colab": {
          "base_uri": "https://localhost:8080/",
          "height": 394
        },
        "id": "2SAULQZLNjV6",
        "outputId": "3c803029-071e-4335-a3f3-46e4ee9daab6"
      },
      "execution_count": 6,
      "outputs": [
        {
          "output_type": "execute_result",
          "data": {
            "text/plain": [
              "             User ID  Gender         Age  EstimatedSalary   Purchased\n",
              "count   4.000000e+02     394  390.000000       388.000000  400.000000\n",
              "unique           NaN       2         NaN              NaN         NaN\n",
              "top              NaN  Female         NaN              NaN         NaN\n",
              "freq             NaN     202         NaN              NaN         NaN\n",
              "mean    1.569154e+07     NaN   37.782051     69628.865979    0.357500\n",
              "std     7.165832e+04     NaN   10.452300     33889.337949    0.479864\n",
              "min     1.556669e+07     NaN   18.000000     15000.000000    0.000000\n",
              "25%     1.562676e+07     NaN   30.000000     43000.000000    0.000000\n",
              "50%     1.569434e+07     NaN   37.000000     70000.000000    0.000000\n",
              "75%     1.575036e+07     NaN   46.000000     87250.000000    1.000000\n",
              "max     1.581524e+07     NaN   60.000000    150000.000000    1.000000"
            ],
            "text/html": [
              "\n",
              "  <div id=\"df-0935623a-7040-40bf-a335-478f1967c2b4\">\n",
              "    <div class=\"colab-df-container\">\n",
              "      <div>\n",
              "<style scoped>\n",
              "    .dataframe tbody tr th:only-of-type {\n",
              "        vertical-align: middle;\n",
              "    }\n",
              "\n",
              "    .dataframe tbody tr th {\n",
              "        vertical-align: top;\n",
              "    }\n",
              "\n",
              "    .dataframe thead th {\n",
              "        text-align: right;\n",
              "    }\n",
              "</style>\n",
              "<table border=\"1\" class=\"dataframe\">\n",
              "  <thead>\n",
              "    <tr style=\"text-align: right;\">\n",
              "      <th></th>\n",
              "      <th>User ID</th>\n",
              "      <th>Gender</th>\n",
              "      <th>Age</th>\n",
              "      <th>EstimatedSalary</th>\n",
              "      <th>Purchased</th>\n",
              "    </tr>\n",
              "  </thead>\n",
              "  <tbody>\n",
              "    <tr>\n",
              "      <th>count</th>\n",
              "      <td>4.000000e+02</td>\n",
              "      <td>394</td>\n",
              "      <td>390.000000</td>\n",
              "      <td>388.000000</td>\n",
              "      <td>400.000000</td>\n",
              "    </tr>\n",
              "    <tr>\n",
              "      <th>unique</th>\n",
              "      <td>NaN</td>\n",
              "      <td>2</td>\n",
              "      <td>NaN</td>\n",
              "      <td>NaN</td>\n",
              "      <td>NaN</td>\n",
              "    </tr>\n",
              "    <tr>\n",
              "      <th>top</th>\n",
              "      <td>NaN</td>\n",
              "      <td>Female</td>\n",
              "      <td>NaN</td>\n",
              "      <td>NaN</td>\n",
              "      <td>NaN</td>\n",
              "    </tr>\n",
              "    <tr>\n",
              "      <th>freq</th>\n",
              "      <td>NaN</td>\n",
              "      <td>202</td>\n",
              "      <td>NaN</td>\n",
              "      <td>NaN</td>\n",
              "      <td>NaN</td>\n",
              "    </tr>\n",
              "    <tr>\n",
              "      <th>mean</th>\n",
              "      <td>1.569154e+07</td>\n",
              "      <td>NaN</td>\n",
              "      <td>37.782051</td>\n",
              "      <td>69628.865979</td>\n",
              "      <td>0.357500</td>\n",
              "    </tr>\n",
              "    <tr>\n",
              "      <th>std</th>\n",
              "      <td>7.165832e+04</td>\n",
              "      <td>NaN</td>\n",
              "      <td>10.452300</td>\n",
              "      <td>33889.337949</td>\n",
              "      <td>0.479864</td>\n",
              "    </tr>\n",
              "    <tr>\n",
              "      <th>min</th>\n",
              "      <td>1.556669e+07</td>\n",
              "      <td>NaN</td>\n",
              "      <td>18.000000</td>\n",
              "      <td>15000.000000</td>\n",
              "      <td>0.000000</td>\n",
              "    </tr>\n",
              "    <tr>\n",
              "      <th>25%</th>\n",
              "      <td>1.562676e+07</td>\n",
              "      <td>NaN</td>\n",
              "      <td>30.000000</td>\n",
              "      <td>43000.000000</td>\n",
              "      <td>0.000000</td>\n",
              "    </tr>\n",
              "    <tr>\n",
              "      <th>50%</th>\n",
              "      <td>1.569434e+07</td>\n",
              "      <td>NaN</td>\n",
              "      <td>37.000000</td>\n",
              "      <td>70000.000000</td>\n",
              "      <td>0.000000</td>\n",
              "    </tr>\n",
              "    <tr>\n",
              "      <th>75%</th>\n",
              "      <td>1.575036e+07</td>\n",
              "      <td>NaN</td>\n",
              "      <td>46.000000</td>\n",
              "      <td>87250.000000</td>\n",
              "      <td>1.000000</td>\n",
              "    </tr>\n",
              "    <tr>\n",
              "      <th>max</th>\n",
              "      <td>1.581524e+07</td>\n",
              "      <td>NaN</td>\n",
              "      <td>60.000000</td>\n",
              "      <td>150000.000000</td>\n",
              "      <td>1.000000</td>\n",
              "    </tr>\n",
              "  </tbody>\n",
              "</table>\n",
              "</div>\n",
              "      <button class=\"colab-df-convert\" onclick=\"convertToInteractive('df-0935623a-7040-40bf-a335-478f1967c2b4')\"\n",
              "              title=\"Convert this dataframe to an interactive table.\"\n",
              "              style=\"display:none;\">\n",
              "        \n",
              "  <svg xmlns=\"http://www.w3.org/2000/svg\" height=\"24px\"viewBox=\"0 0 24 24\"\n",
              "       width=\"24px\">\n",
              "    <path d=\"M0 0h24v24H0V0z\" fill=\"none\"/>\n",
              "    <path d=\"M18.56 5.44l.94 2.06.94-2.06 2.06-.94-2.06-.94-.94-2.06-.94 2.06-2.06.94zm-11 1L8.5 8.5l.94-2.06 2.06-.94-2.06-.94L8.5 2.5l-.94 2.06-2.06.94zm10 10l.94 2.06.94-2.06 2.06-.94-2.06-.94-.94-2.06-.94 2.06-2.06.94z\"/><path d=\"M17.41 7.96l-1.37-1.37c-.4-.4-.92-.59-1.43-.59-.52 0-1.04.2-1.43.59L10.3 9.45l-7.72 7.72c-.78.78-.78 2.05 0 2.83L4 21.41c.39.39.9.59 1.41.59.51 0 1.02-.2 1.41-.59l7.78-7.78 2.81-2.81c.8-.78.8-2.07 0-2.86zM5.41 20L4 18.59l7.72-7.72 1.47 1.35L5.41 20z\"/>\n",
              "  </svg>\n",
              "      </button>\n",
              "      \n",
              "  <style>\n",
              "    .colab-df-container {\n",
              "      display:flex;\n",
              "      flex-wrap:wrap;\n",
              "      gap: 12px;\n",
              "    }\n",
              "\n",
              "    .colab-df-convert {\n",
              "      background-color: #E8F0FE;\n",
              "      border: none;\n",
              "      border-radius: 50%;\n",
              "      cursor: pointer;\n",
              "      display: none;\n",
              "      fill: #1967D2;\n",
              "      height: 32px;\n",
              "      padding: 0 0 0 0;\n",
              "      width: 32px;\n",
              "    }\n",
              "\n",
              "    .colab-df-convert:hover {\n",
              "      background-color: #E2EBFA;\n",
              "      box-shadow: 0px 1px 2px rgba(60, 64, 67, 0.3), 0px 1px 3px 1px rgba(60, 64, 67, 0.15);\n",
              "      fill: #174EA6;\n",
              "    }\n",
              "\n",
              "    [theme=dark] .colab-df-convert {\n",
              "      background-color: #3B4455;\n",
              "      fill: #D2E3FC;\n",
              "    }\n",
              "\n",
              "    [theme=dark] .colab-df-convert:hover {\n",
              "      background-color: #434B5C;\n",
              "      box-shadow: 0px 1px 3px 1px rgba(0, 0, 0, 0.15);\n",
              "      filter: drop-shadow(0px 1px 2px rgba(0, 0, 0, 0.3));\n",
              "      fill: #FFFFFF;\n",
              "    }\n",
              "  </style>\n",
              "\n",
              "      <script>\n",
              "        const buttonEl =\n",
              "          document.querySelector('#df-0935623a-7040-40bf-a335-478f1967c2b4 button.colab-df-convert');\n",
              "        buttonEl.style.display =\n",
              "          google.colab.kernel.accessAllowed ? 'block' : 'none';\n",
              "\n",
              "        async function convertToInteractive(key) {\n",
              "          const element = document.querySelector('#df-0935623a-7040-40bf-a335-478f1967c2b4');\n",
              "          const dataTable =\n",
              "            await google.colab.kernel.invokeFunction('convertToInteractive',\n",
              "                                                     [key], {});\n",
              "          if (!dataTable) return;\n",
              "\n",
              "          const docLinkHtml = 'Like what you see? Visit the ' +\n",
              "            '<a target=\"_blank\" href=https://colab.research.google.com/notebooks/data_table.ipynb>data table notebook</a>'\n",
              "            + ' to learn more about interactive tables.';\n",
              "          element.innerHTML = '';\n",
              "          dataTable['output_type'] = 'display_data';\n",
              "          await google.colab.output.renderOutput(dataTable, element);\n",
              "          const docLink = document.createElement('div');\n",
              "          docLink.innerHTML = docLinkHtml;\n",
              "          element.appendChild(docLink);\n",
              "        }\n",
              "      </script>\n",
              "    </div>\n",
              "  </div>\n",
              "  "
            ]
          },
          "metadata": {},
          "execution_count": 6
        }
      ]
    },
    {
      "cell_type": "code",
      "source": [
        "# missing value 확인\n",
        "\n",
        "data.isnull().sum()"
      ],
      "metadata": {
        "colab": {
          "base_uri": "https://localhost:8080/"
        },
        "id": "QAP4cvYaNsLQ",
        "outputId": "3e19059a-100a-418c-c75e-a51fd12a820b"
      },
      "execution_count": 7,
      "outputs": [
        {
          "output_type": "execute_result",
          "data": {
            "text/plain": [
              "User ID             0\n",
              "Gender              6\n",
              "Age                10\n",
              "EstimatedSalary    12\n",
              "Purchased           0\n",
              "dtype: int64"
            ]
          },
          "metadata": {},
          "execution_count": 7
        }
      ]
    },
    {
      "cell_type": "code",
      "source": [
        "# 2. Preprocess Data\n",
        "# X/y feature selection\n",
        "# 1. X = data[['Gender', 'Age', 'EstimatedSalary']] y = data['Purchased']\n",
        "\n",
        "X = data.iloc[:, 1:-1]\n",
        "y = data.iloc[:, -1]\n",
        "\n",
        "print(\"X : \", X[:5])\n",
        "print(\"y : \", y[:5])"
      ],
      "metadata": {
        "id": "AW9c28o9c1eH",
        "colab": {
          "base_uri": "https://localhost:8080/"
        },
        "outputId": "098f02fd-db69-4dc9-918a-ffa5a457ebfe"
      },
      "execution_count": 8,
      "outputs": [
        {
          "output_type": "stream",
          "name": "stdout",
          "text": [
            "X :     Gender   Age  EstimatedSalary\n",
            "0  Female  35.0          57000.0\n",
            "1  Female  58.0          95000.0\n",
            "2  Female  26.0          80000.0\n",
            "3    Male  34.0         115000.0\n",
            "4  Female  33.0          41000.0\n",
            "y :  0    0\n",
            "1    1\n",
            "2    0\n",
            "3    0\n",
            "4    0\n",
            "Name: Purchased, dtype: int64\n"
          ]
        }
      ]
    },
    {
      "cell_type": "code",
      "source": [
        "# missing value 채우기 (numeric) -> age, EstimatedSalary\n",
        "\n",
        "from sklearn.impute import SimpleImputer\n",
        "\n",
        "imputer = SimpleImputer(strategy='mean')  # 채워넣는 전략 : 평균\n",
        "imputer.fit(X.iloc[:, 1:]) # gender만 제외한 나머지를 불러옴\n",
        "X.iloc[:, 1:] = imputer.transform(X.iloc[:, 1:])  # 기존의 데이터를 transform함\n",
        "\n",
        "X.isnull().sum()"
      ],
      "metadata": {
        "colab": {
          "base_uri": "https://localhost:8080/"
        },
        "id": "1Jlc7d8EO6By",
        "outputId": "37b61d95-31fb-4a90-c193-75895a5ff65c"
      },
      "execution_count": 9,
      "outputs": [
        {
          "output_type": "execute_result",
          "data": {
            "text/plain": [
              "Gender             6\n",
              "Age                0\n",
              "EstimatedSalary    0\n",
              "dtype: int64"
            ]
          },
          "metadata": {},
          "execution_count": 9
        }
      ]
    },
    {
      "cell_type": "code",
      "source": [
        "# missing value 채우기 (categorical) -> Gender\n",
        "\n",
        "string_imputer = SimpleImputer(strategy='most_frequent') # 채워넣는 전략 : 최빈값 \n",
        "X.iloc[:,0] = string_imputer.fit_transform(X.iloc[:,:1])\n",
        "\n",
        "X.isnull().sum()"
      ],
      "metadata": {
        "colab": {
          "base_uri": "https://localhost:8080/"
        },
        "id": "bp82mu6xPsBI",
        "outputId": "ba996e86-3a5e-4f7b-ed86-70f9bce3297e"
      },
      "execution_count": 10,
      "outputs": [
        {
          "output_type": "execute_result",
          "data": {
            "text/plain": [
              "Gender             0\n",
              "Age                0\n",
              "EstimatedSalary    0\n",
              "dtype: int64"
            ]
          },
          "metadata": {},
          "execution_count": 10
        }
      ]
    },
    {
      "cell_type": "code",
      "source": [
        "# one hot encoding -> Gender\n",
        "\n",
        "from sklearn.compose import ColumnTransformer\n",
        "from sklearn.preprocessing import OneHotEncoder\n",
        "ct = ColumnTransformer(transformers=[('encoder', OneHotEncoder(), [0])],\n",
        "                       remainder='passthrough')\n",
        "\n",
        "X = ct.fit_transform(X)\n",
        "\n",
        "print(X[:5])"
      ],
      "metadata": {
        "colab": {
          "base_uri": "https://localhost:8080/"
        },
        "id": "czDkU7e2Q6eg",
        "outputId": "bbd62349-a0e5-4eb2-bc25-e213f768f408"
      },
      "execution_count": 11,
      "outputs": [
        {
          "output_type": "stream",
          "name": "stdout",
          "text": [
            "[[1.00e+00 0.00e+00 3.50e+01 5.70e+04]\n",
            " [1.00e+00 0.00e+00 5.80e+01 9.50e+04]\n",
            " [1.00e+00 0.00e+00 2.60e+01 8.00e+04]\n",
            " [0.00e+00 1.00e+00 3.40e+01 1.15e+05]\n",
            " [1.00e+00 0.00e+00 3.30e+01 4.10e+04]]\n"
          ]
        }
      ]
    },
    {
      "cell_type": "code",
      "source": [
        "# train test set split\n",
        "\n",
        "from sklearn.model_selection import train_test_split\n",
        "\n",
        "X_train, X_test, y_train, y_test = train_test_split(X, y, test_size=0.2, random_state=1)\n",
        "\n",
        "print(X_test.shape)\n",
        "print(X_train.shape)\n",
        "print(y_test.shape)\n",
        "print(y_train.shape)"
      ],
      "metadata": {
        "colab": {
          "base_uri": "https://localhost:8080/"
        },
        "id": "feoQHrbpRdxl",
        "outputId": "ea323b63-0343-4df7-e903-7bc0e724d365"
      },
      "execution_count": 12,
      "outputs": [
        {
          "output_type": "stream",
          "name": "stdout",
          "text": [
            "(80, 4)\n",
            "(320, 4)\n",
            "(80,)\n",
            "(320,)\n"
          ]
        }
      ]
    },
    {
      "cell_type": "code",
      "source": [
        "# feature scaling\n",
        "\n",
        "from sklearn.preprocessing import StandardScaler\n",
        "\n",
        "scaler = StandardScaler()\n",
        "scaler.fit(X_train) # X_train 평균, 표준편차 구함\n",
        "X_train = scaler.transform(X_train)\n",
        "X_test = scaler.transform(X_test)\n",
        "\n",
        "print(X_train[:5]) # 0에 가까운 값들로 변하는 것을 확인할 수 있음"
      ],
      "metadata": {
        "colab": {
          "base_uri": "https://localhost:8080/"
        },
        "id": "iihOhkUhUGFj",
        "outputId": "c4934d8c-1aa7-4b65-dc0c-358fc728fe83"
      },
      "execution_count": 31,
      "outputs": [
        {
          "output_type": "stream",
          "name": "stdout",
          "text": [
            "[[-1.07128475  1.07128475  0.94451912 -0.84357642]\n",
            " [-1.07128475  1.07128475  0.24517775  0.21487646]\n",
            " [ 0.93345864 -0.93345864 -0.05453998 -0.42019527]\n",
            " [ 0.93345864 -0.93345864 -1.55312863 -0.23874621]\n",
            " [-1.07128475  1.07128475  0.04536593 -0.29922923]]\n"
          ]
        }
      ]
    },
    {
      "cell_type": "code",
      "source": [
        "# 3. Model Train\n",
        "# logistic regression\n",
        "\n",
        "from sklearn.linear_model import LogisticRegression\n",
        "\n",
        "lr = LogisticRegression()\n",
        "lr.fit(X_train, y_train)"
      ],
      "metadata": {
        "id": "5RguYy4fc1qa",
        "colab": {
          "base_uri": "https://localhost:8080/",
          "height": 74
        },
        "outputId": "a6ce5ea0-ba1d-4b55-b2f2-b1e0c0cc28f4"
      },
      "execution_count": 32,
      "outputs": [
        {
          "output_type": "execute_result",
          "data": {
            "text/plain": [
              "LogisticRegression()"
            ],
            "text/html": [
              "<style>#sk-container-id-8 {color: black;background-color: white;}#sk-container-id-8 pre{padding: 0;}#sk-container-id-8 div.sk-toggleable {background-color: white;}#sk-container-id-8 label.sk-toggleable__label {cursor: pointer;display: block;width: 100%;margin-bottom: 0;padding: 0.3em;box-sizing: border-box;text-align: center;}#sk-container-id-8 label.sk-toggleable__label-arrow:before {content: \"▸\";float: left;margin-right: 0.25em;color: #696969;}#sk-container-id-8 label.sk-toggleable__label-arrow:hover:before {color: black;}#sk-container-id-8 div.sk-estimator:hover label.sk-toggleable__label-arrow:before {color: black;}#sk-container-id-8 div.sk-toggleable__content {max-height: 0;max-width: 0;overflow: hidden;text-align: left;background-color: #f0f8ff;}#sk-container-id-8 div.sk-toggleable__content pre {margin: 0.2em;color: black;border-radius: 0.25em;background-color: #f0f8ff;}#sk-container-id-8 input.sk-toggleable__control:checked~div.sk-toggleable__content {max-height: 200px;max-width: 100%;overflow: auto;}#sk-container-id-8 input.sk-toggleable__control:checked~label.sk-toggleable__label-arrow:before {content: \"▾\";}#sk-container-id-8 div.sk-estimator input.sk-toggleable__control:checked~label.sk-toggleable__label {background-color: #d4ebff;}#sk-container-id-8 div.sk-label input.sk-toggleable__control:checked~label.sk-toggleable__label {background-color: #d4ebff;}#sk-container-id-8 input.sk-hidden--visually {border: 0;clip: rect(1px 1px 1px 1px);clip: rect(1px, 1px, 1px, 1px);height: 1px;margin: -1px;overflow: hidden;padding: 0;position: absolute;width: 1px;}#sk-container-id-8 div.sk-estimator {font-family: monospace;background-color: #f0f8ff;border: 1px dotted black;border-radius: 0.25em;box-sizing: border-box;margin-bottom: 0.5em;}#sk-container-id-8 div.sk-estimator:hover {background-color: #d4ebff;}#sk-container-id-8 div.sk-parallel-item::after {content: \"\";width: 100%;border-bottom: 1px solid gray;flex-grow: 1;}#sk-container-id-8 div.sk-label:hover label.sk-toggleable__label {background-color: #d4ebff;}#sk-container-id-8 div.sk-serial::before {content: \"\";position: absolute;border-left: 1px solid gray;box-sizing: border-box;top: 0;bottom: 0;left: 50%;z-index: 0;}#sk-container-id-8 div.sk-serial {display: flex;flex-direction: column;align-items: center;background-color: white;padding-right: 0.2em;padding-left: 0.2em;position: relative;}#sk-container-id-8 div.sk-item {position: relative;z-index: 1;}#sk-container-id-8 div.sk-parallel {display: flex;align-items: stretch;justify-content: center;background-color: white;position: relative;}#sk-container-id-8 div.sk-item::before, #sk-container-id-8 div.sk-parallel-item::before {content: \"\";position: absolute;border-left: 1px solid gray;box-sizing: border-box;top: 0;bottom: 0;left: 50%;z-index: -1;}#sk-container-id-8 div.sk-parallel-item {display: flex;flex-direction: column;z-index: 1;position: relative;background-color: white;}#sk-container-id-8 div.sk-parallel-item:first-child::after {align-self: flex-end;width: 50%;}#sk-container-id-8 div.sk-parallel-item:last-child::after {align-self: flex-start;width: 50%;}#sk-container-id-8 div.sk-parallel-item:only-child::after {width: 0;}#sk-container-id-8 div.sk-dashed-wrapped {border: 1px dashed gray;margin: 0 0.4em 0.5em 0.4em;box-sizing: border-box;padding-bottom: 0.4em;background-color: white;}#sk-container-id-8 div.sk-label label {font-family: monospace;font-weight: bold;display: inline-block;line-height: 1.2em;}#sk-container-id-8 div.sk-label-container {text-align: center;}#sk-container-id-8 div.sk-container {/* jupyter's `normalize.less` sets `[hidden] { display: none; }` but bootstrap.min.css set `[hidden] { display: none !important; }` so we also need the `!important` here to be able to override the default hidden behavior on the sphinx rendered scikit-learn.org. See: https://github.com/scikit-learn/scikit-learn/issues/21755 */display: inline-block !important;position: relative;}#sk-container-id-8 div.sk-text-repr-fallback {display: none;}</style><div id=\"sk-container-id-8\" class=\"sk-top-container\"><div class=\"sk-text-repr-fallback\"><pre>LogisticRegression()</pre><b>In a Jupyter environment, please rerun this cell to show the HTML representation or trust the notebook. <br />On GitHub, the HTML representation is unable to render, please try loading this page with nbviewer.org.</b></div><div class=\"sk-container\" hidden><div class=\"sk-item\"><div class=\"sk-estimator sk-toggleable\"><input class=\"sk-toggleable__control sk-hidden--visually\" id=\"sk-estimator-id-8\" type=\"checkbox\" checked><label for=\"sk-estimator-id-8\" class=\"sk-toggleable__label sk-toggleable__label-arrow\">LogisticRegression</label><div class=\"sk-toggleable__content\"><pre>LogisticRegression()</pre></div></div></div></div></div>"
            ]
          },
          "metadata": {},
          "execution_count": 32
        }
      ]
    },
    {
      "cell_type": "code",
      "source": [
        "# K-Nearest Neighbors (kNN)\n",
        "\n",
        "from sklearn.neighbors import KNeighborsClassifier\n",
        "\n",
        "knn = KNeighborsClassifier(n_neighbors=5, metric='minkowski', p=2)\n",
        "knn.fit(X_train, y_train)"
      ],
      "metadata": {
        "colab": {
          "base_uri": "https://localhost:8080/",
          "height": 74
        },
        "id": "DsJ0pJxsSIRQ",
        "outputId": "f9f426b7-bc48-4033-8393-ed48f5c662ad"
      },
      "execution_count": 33,
      "outputs": [
        {
          "output_type": "execute_result",
          "data": {
            "text/plain": [
              "KNeighborsClassifier()"
            ],
            "text/html": [
              "<style>#sk-container-id-9 {color: black;background-color: white;}#sk-container-id-9 pre{padding: 0;}#sk-container-id-9 div.sk-toggleable {background-color: white;}#sk-container-id-9 label.sk-toggleable__label {cursor: pointer;display: block;width: 100%;margin-bottom: 0;padding: 0.3em;box-sizing: border-box;text-align: center;}#sk-container-id-9 label.sk-toggleable__label-arrow:before {content: \"▸\";float: left;margin-right: 0.25em;color: #696969;}#sk-container-id-9 label.sk-toggleable__label-arrow:hover:before {color: black;}#sk-container-id-9 div.sk-estimator:hover label.sk-toggleable__label-arrow:before {color: black;}#sk-container-id-9 div.sk-toggleable__content {max-height: 0;max-width: 0;overflow: hidden;text-align: left;background-color: #f0f8ff;}#sk-container-id-9 div.sk-toggleable__content pre {margin: 0.2em;color: black;border-radius: 0.25em;background-color: #f0f8ff;}#sk-container-id-9 input.sk-toggleable__control:checked~div.sk-toggleable__content {max-height: 200px;max-width: 100%;overflow: auto;}#sk-container-id-9 input.sk-toggleable__control:checked~label.sk-toggleable__label-arrow:before {content: \"▾\";}#sk-container-id-9 div.sk-estimator input.sk-toggleable__control:checked~label.sk-toggleable__label {background-color: #d4ebff;}#sk-container-id-9 div.sk-label input.sk-toggleable__control:checked~label.sk-toggleable__label {background-color: #d4ebff;}#sk-container-id-9 input.sk-hidden--visually {border: 0;clip: rect(1px 1px 1px 1px);clip: rect(1px, 1px, 1px, 1px);height: 1px;margin: -1px;overflow: hidden;padding: 0;position: absolute;width: 1px;}#sk-container-id-9 div.sk-estimator {font-family: monospace;background-color: #f0f8ff;border: 1px dotted black;border-radius: 0.25em;box-sizing: border-box;margin-bottom: 0.5em;}#sk-container-id-9 div.sk-estimator:hover {background-color: #d4ebff;}#sk-container-id-9 div.sk-parallel-item::after {content: \"\";width: 100%;border-bottom: 1px solid gray;flex-grow: 1;}#sk-container-id-9 div.sk-label:hover label.sk-toggleable__label {background-color: #d4ebff;}#sk-container-id-9 div.sk-serial::before {content: \"\";position: absolute;border-left: 1px solid gray;box-sizing: border-box;top: 0;bottom: 0;left: 50%;z-index: 0;}#sk-container-id-9 div.sk-serial {display: flex;flex-direction: column;align-items: center;background-color: white;padding-right: 0.2em;padding-left: 0.2em;position: relative;}#sk-container-id-9 div.sk-item {position: relative;z-index: 1;}#sk-container-id-9 div.sk-parallel {display: flex;align-items: stretch;justify-content: center;background-color: white;position: relative;}#sk-container-id-9 div.sk-item::before, #sk-container-id-9 div.sk-parallel-item::before {content: \"\";position: absolute;border-left: 1px solid gray;box-sizing: border-box;top: 0;bottom: 0;left: 50%;z-index: -1;}#sk-container-id-9 div.sk-parallel-item {display: flex;flex-direction: column;z-index: 1;position: relative;background-color: white;}#sk-container-id-9 div.sk-parallel-item:first-child::after {align-self: flex-end;width: 50%;}#sk-container-id-9 div.sk-parallel-item:last-child::after {align-self: flex-start;width: 50%;}#sk-container-id-9 div.sk-parallel-item:only-child::after {width: 0;}#sk-container-id-9 div.sk-dashed-wrapped {border: 1px dashed gray;margin: 0 0.4em 0.5em 0.4em;box-sizing: border-box;padding-bottom: 0.4em;background-color: white;}#sk-container-id-9 div.sk-label label {font-family: monospace;font-weight: bold;display: inline-block;line-height: 1.2em;}#sk-container-id-9 div.sk-label-container {text-align: center;}#sk-container-id-9 div.sk-container {/* jupyter's `normalize.less` sets `[hidden] { display: none; }` but bootstrap.min.css set `[hidden] { display: none !important; }` so we also need the `!important` here to be able to override the default hidden behavior on the sphinx rendered scikit-learn.org. See: https://github.com/scikit-learn/scikit-learn/issues/21755 */display: inline-block !important;position: relative;}#sk-container-id-9 div.sk-text-repr-fallback {display: none;}</style><div id=\"sk-container-id-9\" class=\"sk-top-container\"><div class=\"sk-text-repr-fallback\"><pre>KNeighborsClassifier()</pre><b>In a Jupyter environment, please rerun this cell to show the HTML representation or trust the notebook. <br />On GitHub, the HTML representation is unable to render, please try loading this page with nbviewer.org.</b></div><div class=\"sk-container\" hidden><div class=\"sk-item\"><div class=\"sk-estimator sk-toggleable\"><input class=\"sk-toggleable__control sk-hidden--visually\" id=\"sk-estimator-id-9\" type=\"checkbox\" checked><label for=\"sk-estimator-id-9\" class=\"sk-toggleable__label sk-toggleable__label-arrow\">KNeighborsClassifier</label><div class=\"sk-toggleable__content\"><pre>KNeighborsClassifier()</pre></div></div></div></div></div>"
            ]
          },
          "metadata": {},
          "execution_count": 33
        }
      ]
    },
    {
      "cell_type": "code",
      "source": [
        "# decision tree\n",
        "\n",
        "from sklearn.tree import DecisionTreeClassifier\n",
        "\n",
        "dtree = DecisionTreeClassifier(max_depth=10, min_samples_leaf=5)\n",
        "dtree.fit(X_train, y_train)"
      ],
      "metadata": {
        "colab": {
          "base_uri": "https://localhost:8080/",
          "height": 74
        },
        "id": "zQ0ojh35Sdtl",
        "outputId": "45b34900-149c-4991-da7b-7ef646817064"
      },
      "execution_count": 34,
      "outputs": [
        {
          "output_type": "execute_result",
          "data": {
            "text/plain": [
              "DecisionTreeClassifier(max_depth=10, min_samples_leaf=5)"
            ],
            "text/html": [
              "<style>#sk-container-id-10 {color: black;background-color: white;}#sk-container-id-10 pre{padding: 0;}#sk-container-id-10 div.sk-toggleable {background-color: white;}#sk-container-id-10 label.sk-toggleable__label {cursor: pointer;display: block;width: 100%;margin-bottom: 0;padding: 0.3em;box-sizing: border-box;text-align: center;}#sk-container-id-10 label.sk-toggleable__label-arrow:before {content: \"▸\";float: left;margin-right: 0.25em;color: #696969;}#sk-container-id-10 label.sk-toggleable__label-arrow:hover:before {color: black;}#sk-container-id-10 div.sk-estimator:hover label.sk-toggleable__label-arrow:before {color: black;}#sk-container-id-10 div.sk-toggleable__content {max-height: 0;max-width: 0;overflow: hidden;text-align: left;background-color: #f0f8ff;}#sk-container-id-10 div.sk-toggleable__content pre {margin: 0.2em;color: black;border-radius: 0.25em;background-color: #f0f8ff;}#sk-container-id-10 input.sk-toggleable__control:checked~div.sk-toggleable__content {max-height: 200px;max-width: 100%;overflow: auto;}#sk-container-id-10 input.sk-toggleable__control:checked~label.sk-toggleable__label-arrow:before {content: \"▾\";}#sk-container-id-10 div.sk-estimator input.sk-toggleable__control:checked~label.sk-toggleable__label {background-color: #d4ebff;}#sk-container-id-10 div.sk-label input.sk-toggleable__control:checked~label.sk-toggleable__label {background-color: #d4ebff;}#sk-container-id-10 input.sk-hidden--visually {border: 0;clip: rect(1px 1px 1px 1px);clip: rect(1px, 1px, 1px, 1px);height: 1px;margin: -1px;overflow: hidden;padding: 0;position: absolute;width: 1px;}#sk-container-id-10 div.sk-estimator {font-family: monospace;background-color: #f0f8ff;border: 1px dotted black;border-radius: 0.25em;box-sizing: border-box;margin-bottom: 0.5em;}#sk-container-id-10 div.sk-estimator:hover {background-color: #d4ebff;}#sk-container-id-10 div.sk-parallel-item::after {content: \"\";width: 100%;border-bottom: 1px solid gray;flex-grow: 1;}#sk-container-id-10 div.sk-label:hover label.sk-toggleable__label {background-color: #d4ebff;}#sk-container-id-10 div.sk-serial::before {content: \"\";position: absolute;border-left: 1px solid gray;box-sizing: border-box;top: 0;bottom: 0;left: 50%;z-index: 0;}#sk-container-id-10 div.sk-serial {display: flex;flex-direction: column;align-items: center;background-color: white;padding-right: 0.2em;padding-left: 0.2em;position: relative;}#sk-container-id-10 div.sk-item {position: relative;z-index: 1;}#sk-container-id-10 div.sk-parallel {display: flex;align-items: stretch;justify-content: center;background-color: white;position: relative;}#sk-container-id-10 div.sk-item::before, #sk-container-id-10 div.sk-parallel-item::before {content: \"\";position: absolute;border-left: 1px solid gray;box-sizing: border-box;top: 0;bottom: 0;left: 50%;z-index: -1;}#sk-container-id-10 div.sk-parallel-item {display: flex;flex-direction: column;z-index: 1;position: relative;background-color: white;}#sk-container-id-10 div.sk-parallel-item:first-child::after {align-self: flex-end;width: 50%;}#sk-container-id-10 div.sk-parallel-item:last-child::after {align-self: flex-start;width: 50%;}#sk-container-id-10 div.sk-parallel-item:only-child::after {width: 0;}#sk-container-id-10 div.sk-dashed-wrapped {border: 1px dashed gray;margin: 0 0.4em 0.5em 0.4em;box-sizing: border-box;padding-bottom: 0.4em;background-color: white;}#sk-container-id-10 div.sk-label label {font-family: monospace;font-weight: bold;display: inline-block;line-height: 1.2em;}#sk-container-id-10 div.sk-label-container {text-align: center;}#sk-container-id-10 div.sk-container {/* jupyter's `normalize.less` sets `[hidden] { display: none; }` but bootstrap.min.css set `[hidden] { display: none !important; }` so we also need the `!important` here to be able to override the default hidden behavior on the sphinx rendered scikit-learn.org. See: https://github.com/scikit-learn/scikit-learn/issues/21755 */display: inline-block !important;position: relative;}#sk-container-id-10 div.sk-text-repr-fallback {display: none;}</style><div id=\"sk-container-id-10\" class=\"sk-top-container\"><div class=\"sk-text-repr-fallback\"><pre>DecisionTreeClassifier(max_depth=10, min_samples_leaf=5)</pre><b>In a Jupyter environment, please rerun this cell to show the HTML representation or trust the notebook. <br />On GitHub, the HTML representation is unable to render, please try loading this page with nbviewer.org.</b></div><div class=\"sk-container\" hidden><div class=\"sk-item\"><div class=\"sk-estimator sk-toggleable\"><input class=\"sk-toggleable__control sk-hidden--visually\" id=\"sk-estimator-id-10\" type=\"checkbox\" checked><label for=\"sk-estimator-id-10\" class=\"sk-toggleable__label sk-toggleable__label-arrow\">DecisionTreeClassifier</label><div class=\"sk-toggleable__content\"><pre>DecisionTreeClassifier(max_depth=10, min_samples_leaf=5)</pre></div></div></div></div></div>"
            ]
          },
          "metadata": {},
          "execution_count": 34
        }
      ]
    },
    {
      "cell_type": "code",
      "source": [
        "# random forest\n",
        "\n",
        "from sklearn.ensemble import RandomForestClassifier\n",
        "\n",
        "rfm = RandomForestClassifier(n_estimators=100, max_depth=20, min_samples_leaf=3)\n",
        "rfm.fit(X_train, y_train)"
      ],
      "metadata": {
        "colab": {
          "base_uri": "https://localhost:8080/",
          "height": 74
        },
        "id": "fivq1m9iSvKi",
        "outputId": "c45726bd-93cf-4f92-b0e1-2aa9afe0d821"
      },
      "execution_count": 35,
      "outputs": [
        {
          "output_type": "execute_result",
          "data": {
            "text/plain": [
              "RandomForestClassifier(max_depth=20, min_samples_leaf=3)"
            ],
            "text/html": [
              "<style>#sk-container-id-11 {color: black;background-color: white;}#sk-container-id-11 pre{padding: 0;}#sk-container-id-11 div.sk-toggleable {background-color: white;}#sk-container-id-11 label.sk-toggleable__label {cursor: pointer;display: block;width: 100%;margin-bottom: 0;padding: 0.3em;box-sizing: border-box;text-align: center;}#sk-container-id-11 label.sk-toggleable__label-arrow:before {content: \"▸\";float: left;margin-right: 0.25em;color: #696969;}#sk-container-id-11 label.sk-toggleable__label-arrow:hover:before {color: black;}#sk-container-id-11 div.sk-estimator:hover label.sk-toggleable__label-arrow:before {color: black;}#sk-container-id-11 div.sk-toggleable__content {max-height: 0;max-width: 0;overflow: hidden;text-align: left;background-color: #f0f8ff;}#sk-container-id-11 div.sk-toggleable__content pre {margin: 0.2em;color: black;border-radius: 0.25em;background-color: #f0f8ff;}#sk-container-id-11 input.sk-toggleable__control:checked~div.sk-toggleable__content {max-height: 200px;max-width: 100%;overflow: auto;}#sk-container-id-11 input.sk-toggleable__control:checked~label.sk-toggleable__label-arrow:before {content: \"▾\";}#sk-container-id-11 div.sk-estimator input.sk-toggleable__control:checked~label.sk-toggleable__label {background-color: #d4ebff;}#sk-container-id-11 div.sk-label input.sk-toggleable__control:checked~label.sk-toggleable__label {background-color: #d4ebff;}#sk-container-id-11 input.sk-hidden--visually {border: 0;clip: rect(1px 1px 1px 1px);clip: rect(1px, 1px, 1px, 1px);height: 1px;margin: -1px;overflow: hidden;padding: 0;position: absolute;width: 1px;}#sk-container-id-11 div.sk-estimator {font-family: monospace;background-color: #f0f8ff;border: 1px dotted black;border-radius: 0.25em;box-sizing: border-box;margin-bottom: 0.5em;}#sk-container-id-11 div.sk-estimator:hover {background-color: #d4ebff;}#sk-container-id-11 div.sk-parallel-item::after {content: \"\";width: 100%;border-bottom: 1px solid gray;flex-grow: 1;}#sk-container-id-11 div.sk-label:hover label.sk-toggleable__label {background-color: #d4ebff;}#sk-container-id-11 div.sk-serial::before {content: \"\";position: absolute;border-left: 1px solid gray;box-sizing: border-box;top: 0;bottom: 0;left: 50%;z-index: 0;}#sk-container-id-11 div.sk-serial {display: flex;flex-direction: column;align-items: center;background-color: white;padding-right: 0.2em;padding-left: 0.2em;position: relative;}#sk-container-id-11 div.sk-item {position: relative;z-index: 1;}#sk-container-id-11 div.sk-parallel {display: flex;align-items: stretch;justify-content: center;background-color: white;position: relative;}#sk-container-id-11 div.sk-item::before, #sk-container-id-11 div.sk-parallel-item::before {content: \"\";position: absolute;border-left: 1px solid gray;box-sizing: border-box;top: 0;bottom: 0;left: 50%;z-index: -1;}#sk-container-id-11 div.sk-parallel-item {display: flex;flex-direction: column;z-index: 1;position: relative;background-color: white;}#sk-container-id-11 div.sk-parallel-item:first-child::after {align-self: flex-end;width: 50%;}#sk-container-id-11 div.sk-parallel-item:last-child::after {align-self: flex-start;width: 50%;}#sk-container-id-11 div.sk-parallel-item:only-child::after {width: 0;}#sk-container-id-11 div.sk-dashed-wrapped {border: 1px dashed gray;margin: 0 0.4em 0.5em 0.4em;box-sizing: border-box;padding-bottom: 0.4em;background-color: white;}#sk-container-id-11 div.sk-label label {font-family: monospace;font-weight: bold;display: inline-block;line-height: 1.2em;}#sk-container-id-11 div.sk-label-container {text-align: center;}#sk-container-id-11 div.sk-container {/* jupyter's `normalize.less` sets `[hidden] { display: none; }` but bootstrap.min.css set `[hidden] { display: none !important; }` so we also need the `!important` here to be able to override the default hidden behavior on the sphinx rendered scikit-learn.org. See: https://github.com/scikit-learn/scikit-learn/issues/21755 */display: inline-block !important;position: relative;}#sk-container-id-11 div.sk-text-repr-fallback {display: none;}</style><div id=\"sk-container-id-11\" class=\"sk-top-container\"><div class=\"sk-text-repr-fallback\"><pre>RandomForestClassifier(max_depth=20, min_samples_leaf=3)</pre><b>In a Jupyter environment, please rerun this cell to show the HTML representation or trust the notebook. <br />On GitHub, the HTML representation is unable to render, please try loading this page with nbviewer.org.</b></div><div class=\"sk-container\" hidden><div class=\"sk-item\"><div class=\"sk-estimator sk-toggleable\"><input class=\"sk-toggleable__control sk-hidden--visually\" id=\"sk-estimator-id-11\" type=\"checkbox\" checked><label for=\"sk-estimator-id-11\" class=\"sk-toggleable__label sk-toggleable__label-arrow\">RandomForestClassifier</label><div class=\"sk-toggleable__content\"><pre>RandomForestClassifier(max_depth=20, min_samples_leaf=3)</pre></div></div></div></div></div>"
            ]
          },
          "metadata": {},
          "execution_count": 35
        }
      ]
    },
    {
      "cell_type": "code",
      "source": [
        "# support vector machine (SVM) with lenear\n",
        "\n",
        "from sklearn.svm import SVC\n",
        "\n",
        "svm = SVC(kernel='linear')\n",
        "svm.fit(X_train, y_train)"
      ],
      "metadata": {
        "colab": {
          "base_uri": "https://localhost:8080/",
          "height": 74
        },
        "id": "dd-_d1_yTAHo",
        "outputId": "96586ebf-d83a-495d-f652-571853b3b254"
      },
      "execution_count": 36,
      "outputs": [
        {
          "output_type": "execute_result",
          "data": {
            "text/plain": [
              "SVC(kernel='linear')"
            ],
            "text/html": [
              "<style>#sk-container-id-12 {color: black;background-color: white;}#sk-container-id-12 pre{padding: 0;}#sk-container-id-12 div.sk-toggleable {background-color: white;}#sk-container-id-12 label.sk-toggleable__label {cursor: pointer;display: block;width: 100%;margin-bottom: 0;padding: 0.3em;box-sizing: border-box;text-align: center;}#sk-container-id-12 label.sk-toggleable__label-arrow:before {content: \"▸\";float: left;margin-right: 0.25em;color: #696969;}#sk-container-id-12 label.sk-toggleable__label-arrow:hover:before {color: black;}#sk-container-id-12 div.sk-estimator:hover label.sk-toggleable__label-arrow:before {color: black;}#sk-container-id-12 div.sk-toggleable__content {max-height: 0;max-width: 0;overflow: hidden;text-align: left;background-color: #f0f8ff;}#sk-container-id-12 div.sk-toggleable__content pre {margin: 0.2em;color: black;border-radius: 0.25em;background-color: #f0f8ff;}#sk-container-id-12 input.sk-toggleable__control:checked~div.sk-toggleable__content {max-height: 200px;max-width: 100%;overflow: auto;}#sk-container-id-12 input.sk-toggleable__control:checked~label.sk-toggleable__label-arrow:before {content: \"▾\";}#sk-container-id-12 div.sk-estimator input.sk-toggleable__control:checked~label.sk-toggleable__label {background-color: #d4ebff;}#sk-container-id-12 div.sk-label input.sk-toggleable__control:checked~label.sk-toggleable__label {background-color: #d4ebff;}#sk-container-id-12 input.sk-hidden--visually {border: 0;clip: rect(1px 1px 1px 1px);clip: rect(1px, 1px, 1px, 1px);height: 1px;margin: -1px;overflow: hidden;padding: 0;position: absolute;width: 1px;}#sk-container-id-12 div.sk-estimator {font-family: monospace;background-color: #f0f8ff;border: 1px dotted black;border-radius: 0.25em;box-sizing: border-box;margin-bottom: 0.5em;}#sk-container-id-12 div.sk-estimator:hover {background-color: #d4ebff;}#sk-container-id-12 div.sk-parallel-item::after {content: \"\";width: 100%;border-bottom: 1px solid gray;flex-grow: 1;}#sk-container-id-12 div.sk-label:hover label.sk-toggleable__label {background-color: #d4ebff;}#sk-container-id-12 div.sk-serial::before {content: \"\";position: absolute;border-left: 1px solid gray;box-sizing: border-box;top: 0;bottom: 0;left: 50%;z-index: 0;}#sk-container-id-12 div.sk-serial {display: flex;flex-direction: column;align-items: center;background-color: white;padding-right: 0.2em;padding-left: 0.2em;position: relative;}#sk-container-id-12 div.sk-item {position: relative;z-index: 1;}#sk-container-id-12 div.sk-parallel {display: flex;align-items: stretch;justify-content: center;background-color: white;position: relative;}#sk-container-id-12 div.sk-item::before, #sk-container-id-12 div.sk-parallel-item::before {content: \"\";position: absolute;border-left: 1px solid gray;box-sizing: border-box;top: 0;bottom: 0;left: 50%;z-index: -1;}#sk-container-id-12 div.sk-parallel-item {display: flex;flex-direction: column;z-index: 1;position: relative;background-color: white;}#sk-container-id-12 div.sk-parallel-item:first-child::after {align-self: flex-end;width: 50%;}#sk-container-id-12 div.sk-parallel-item:last-child::after {align-self: flex-start;width: 50%;}#sk-container-id-12 div.sk-parallel-item:only-child::after {width: 0;}#sk-container-id-12 div.sk-dashed-wrapped {border: 1px dashed gray;margin: 0 0.4em 0.5em 0.4em;box-sizing: border-box;padding-bottom: 0.4em;background-color: white;}#sk-container-id-12 div.sk-label label {font-family: monospace;font-weight: bold;display: inline-block;line-height: 1.2em;}#sk-container-id-12 div.sk-label-container {text-align: center;}#sk-container-id-12 div.sk-container {/* jupyter's `normalize.less` sets `[hidden] { display: none; }` but bootstrap.min.css set `[hidden] { display: none !important; }` so we also need the `!important` here to be able to override the default hidden behavior on the sphinx rendered scikit-learn.org. See: https://github.com/scikit-learn/scikit-learn/issues/21755 */display: inline-block !important;position: relative;}#sk-container-id-12 div.sk-text-repr-fallback {display: none;}</style><div id=\"sk-container-id-12\" class=\"sk-top-container\"><div class=\"sk-text-repr-fallback\"><pre>SVC(kernel=&#x27;linear&#x27;)</pre><b>In a Jupyter environment, please rerun this cell to show the HTML representation or trust the notebook. <br />On GitHub, the HTML representation is unable to render, please try loading this page with nbviewer.org.</b></div><div class=\"sk-container\" hidden><div class=\"sk-item\"><div class=\"sk-estimator sk-toggleable\"><input class=\"sk-toggleable__control sk-hidden--visually\" id=\"sk-estimator-id-12\" type=\"checkbox\" checked><label for=\"sk-estimator-id-12\" class=\"sk-toggleable__label sk-toggleable__label-arrow\">SVC</label><div class=\"sk-toggleable__content\"><pre>SVC(kernel=&#x27;linear&#x27;)</pre></div></div></div></div></div>"
            ]
          },
          "metadata": {},
          "execution_count": 36
        }
      ]
    },
    {
      "cell_type": "code",
      "source": [
        "# support vector macheine (SVM) with non-linear\n",
        "\n",
        "from sklearn.svm import SVC\n",
        "\n",
        "svm_rbf = SVC(kernel='rbf')\n",
        "svm_rbf.fit(X_train, y_train)"
      ],
      "metadata": {
        "colab": {
          "base_uri": "https://localhost:8080/",
          "height": 74
        },
        "id": "FDRylduFTQWd",
        "outputId": "41f8d1b9-de36-4534-9e01-68c2c711a155"
      },
      "execution_count": 37,
      "outputs": [
        {
          "output_type": "execute_result",
          "data": {
            "text/plain": [
              "SVC()"
            ],
            "text/html": [
              "<style>#sk-container-id-13 {color: black;background-color: white;}#sk-container-id-13 pre{padding: 0;}#sk-container-id-13 div.sk-toggleable {background-color: white;}#sk-container-id-13 label.sk-toggleable__label {cursor: pointer;display: block;width: 100%;margin-bottom: 0;padding: 0.3em;box-sizing: border-box;text-align: center;}#sk-container-id-13 label.sk-toggleable__label-arrow:before {content: \"▸\";float: left;margin-right: 0.25em;color: #696969;}#sk-container-id-13 label.sk-toggleable__label-arrow:hover:before {color: black;}#sk-container-id-13 div.sk-estimator:hover label.sk-toggleable__label-arrow:before {color: black;}#sk-container-id-13 div.sk-toggleable__content {max-height: 0;max-width: 0;overflow: hidden;text-align: left;background-color: #f0f8ff;}#sk-container-id-13 div.sk-toggleable__content pre {margin: 0.2em;color: black;border-radius: 0.25em;background-color: #f0f8ff;}#sk-container-id-13 input.sk-toggleable__control:checked~div.sk-toggleable__content {max-height: 200px;max-width: 100%;overflow: auto;}#sk-container-id-13 input.sk-toggleable__control:checked~label.sk-toggleable__label-arrow:before {content: \"▾\";}#sk-container-id-13 div.sk-estimator input.sk-toggleable__control:checked~label.sk-toggleable__label {background-color: #d4ebff;}#sk-container-id-13 div.sk-label input.sk-toggleable__control:checked~label.sk-toggleable__label {background-color: #d4ebff;}#sk-container-id-13 input.sk-hidden--visually {border: 0;clip: rect(1px 1px 1px 1px);clip: rect(1px, 1px, 1px, 1px);height: 1px;margin: -1px;overflow: hidden;padding: 0;position: absolute;width: 1px;}#sk-container-id-13 div.sk-estimator {font-family: monospace;background-color: #f0f8ff;border: 1px dotted black;border-radius: 0.25em;box-sizing: border-box;margin-bottom: 0.5em;}#sk-container-id-13 div.sk-estimator:hover {background-color: #d4ebff;}#sk-container-id-13 div.sk-parallel-item::after {content: \"\";width: 100%;border-bottom: 1px solid gray;flex-grow: 1;}#sk-container-id-13 div.sk-label:hover label.sk-toggleable__label {background-color: #d4ebff;}#sk-container-id-13 div.sk-serial::before {content: \"\";position: absolute;border-left: 1px solid gray;box-sizing: border-box;top: 0;bottom: 0;left: 50%;z-index: 0;}#sk-container-id-13 div.sk-serial {display: flex;flex-direction: column;align-items: center;background-color: white;padding-right: 0.2em;padding-left: 0.2em;position: relative;}#sk-container-id-13 div.sk-item {position: relative;z-index: 1;}#sk-container-id-13 div.sk-parallel {display: flex;align-items: stretch;justify-content: center;background-color: white;position: relative;}#sk-container-id-13 div.sk-item::before, #sk-container-id-13 div.sk-parallel-item::before {content: \"\";position: absolute;border-left: 1px solid gray;box-sizing: border-box;top: 0;bottom: 0;left: 50%;z-index: -1;}#sk-container-id-13 div.sk-parallel-item {display: flex;flex-direction: column;z-index: 1;position: relative;background-color: white;}#sk-container-id-13 div.sk-parallel-item:first-child::after {align-self: flex-end;width: 50%;}#sk-container-id-13 div.sk-parallel-item:last-child::after {align-self: flex-start;width: 50%;}#sk-container-id-13 div.sk-parallel-item:only-child::after {width: 0;}#sk-container-id-13 div.sk-dashed-wrapped {border: 1px dashed gray;margin: 0 0.4em 0.5em 0.4em;box-sizing: border-box;padding-bottom: 0.4em;background-color: white;}#sk-container-id-13 div.sk-label label {font-family: monospace;font-weight: bold;display: inline-block;line-height: 1.2em;}#sk-container-id-13 div.sk-label-container {text-align: center;}#sk-container-id-13 div.sk-container {/* jupyter's `normalize.less` sets `[hidden] { display: none; }` but bootstrap.min.css set `[hidden] { display: none !important; }` so we also need the `!important` here to be able to override the default hidden behavior on the sphinx rendered scikit-learn.org. See: https://github.com/scikit-learn/scikit-learn/issues/21755 */display: inline-block !important;position: relative;}#sk-container-id-13 div.sk-text-repr-fallback {display: none;}</style><div id=\"sk-container-id-13\" class=\"sk-top-container\"><div class=\"sk-text-repr-fallback\"><pre>SVC()</pre><b>In a Jupyter environment, please rerun this cell to show the HTML representation or trust the notebook. <br />On GitHub, the HTML representation is unable to render, please try loading this page with nbviewer.org.</b></div><div class=\"sk-container\" hidden><div class=\"sk-item\"><div class=\"sk-estimator sk-toggleable\"><input class=\"sk-toggleable__control sk-hidden--visually\" id=\"sk-estimator-id-13\" type=\"checkbox\" checked><label for=\"sk-estimator-id-13\" class=\"sk-toggleable__label sk-toggleable__label-arrow\">SVC</label><div class=\"sk-toggleable__content\"><pre>SVC()</pre></div></div></div></div></div>"
            ]
          },
          "metadata": {},
          "execution_count": 37
        }
      ]
    },
    {
      "cell_type": "code",
      "source": [
        "# 4. Model Test\n",
        "\n",
        "y_pred_lr = lr.predict(X_test)\n",
        "print(y_test.values) # actual data value\n",
        "print(y_pred_lr) # model predict value"
      ],
      "metadata": {
        "id": "Q_JN0S2rc5M_",
        "colab": {
          "base_uri": "https://localhost:8080/"
        },
        "outputId": "4d374560-1fb5-4cf0-f7db-eb348c2604b5"
      },
      "execution_count": 38,
      "outputs": [
        {
          "output_type": "stream",
          "name": "stdout",
          "text": [
            "[0 1 0 0 0 1 1 0 0 1 0 1 0 1 0 0 1 0 1 1 1 0 0 1 0 0 1 0 0 0 1 0 1 1 1 1 1\n",
            " 0 1 0 1 0 0 0 1 1 0 0 0 1 0 0 0 0 0 0 1 1 0 1 0 0 1 0 0 0 1 0 0 0 1 0 0 0\n",
            " 0 0 1 1 0 0]\n",
            "[0 0 0 0 1 1 1 0 0 0 0 1 0 1 0 0 1 0 1 1 1 0 0 1 0 0 1 0 0 0 1 0 1 1 0 1 0\n",
            " 0 1 0 1 0 0 0 1 0 0 0 0 1 0 0 0 0 0 0 0 1 0 1 0 1 0 0 0 1 1 0 0 0 0 0 0 0\n",
            " 0 0 0 1 0 1]\n"
          ]
        }
      ]
    },
    {
      "cell_type": "code",
      "source": [
        "y_pred_knn = knn.predict(X_test)\n",
        "y_pred_dtree = dtree.predict(X_test)\n",
        "y_pred_rfm = rfm.predict(X_test)\n",
        "y_pred_svm = svm.predict(X_test)\n",
        "y_pred_svm_rbf = svm_rbf.predict(X_test)"
      ],
      "metadata": {
        "id": "82qy7mGhQngJ"
      },
      "execution_count": 39,
      "outputs": []
    },
    {
      "cell_type": "code",
      "source": [
        "import numpy as np\n",
        "\n",
        "print('a, lr, knn, dtree, rfm, svm, rbf')\n",
        "print(np.concatenate((y_test.values.reshape(len(y_test), 1),\n",
        "                      y_pred_lr.reshape(len(y_pred_lr), 1),\n",
        "                      y_pred_knn.reshape(len(y_pred_knn), 1),\n",
        "                      y_pred_dtree.reshape(len(y_pred_dtree), 1),\n",
        "                      y_pred_rfm.reshape(len(y_pred_rfm), 1),\n",
        "                      y_pred_svm.reshape(len(y_pred_svm), 1),\n",
        "                      y_pred_svm_rbf.reshape(len(y_pred_svm_rbf), 1)),1))"
      ],
      "metadata": {
        "colab": {
          "base_uri": "https://localhost:8080/"
        },
        "id": "rJ6RlcovQ1IN",
        "outputId": "37dde576-23ea-409f-9bb3-db24565f9199"
      },
      "execution_count": 40,
      "outputs": [
        {
          "output_type": "stream",
          "name": "stdout",
          "text": [
            "a, lr, knn, dtree, rfm, svm, rbf\n",
            "[[0 0 0 0 0 0 0]\n",
            " [1 0 1 1 1 0 1]\n",
            " [0 0 0 0 0 0 0]\n",
            " [0 0 0 0 0 0 0]\n",
            " [0 1 1 1 1 1 1]\n",
            " [1 1 1 1 1 1 1]\n",
            " [1 1 1 1 1 1 1]\n",
            " [0 0 0 0 0 0 0]\n",
            " [0 0 0 0 0 0 0]\n",
            " [1 0 0 0 0 0 0]\n",
            " [0 0 0 0 0 0 0]\n",
            " [1 1 1 0 1 1 1]\n",
            " [0 0 0 0 0 0 0]\n",
            " [1 1 1 1 1 1 1]\n",
            " [0 0 0 0 0 0 0]\n",
            " [0 0 0 0 0 0 0]\n",
            " [1 1 1 1 1 1 1]\n",
            " [0 0 0 0 0 0 0]\n",
            " [1 1 1 1 1 1 1]\n",
            " [1 1 1 1 1 0 1]\n",
            " [1 1 1 1 1 1 1]\n",
            " [0 0 0 0 0 0 0]\n",
            " [0 0 0 0 0 0 0]\n",
            " [1 1 1 1 1 1 1]\n",
            " [0 0 0 0 0 0 0]\n",
            " [0 0 0 0 0 0 0]\n",
            " [1 1 1 1 1 1 1]\n",
            " [0 0 0 0 0 0 0]\n",
            " [0 0 0 0 0 0 0]\n",
            " [0 0 1 0 1 0 1]\n",
            " [1 1 1 1 1 1 1]\n",
            " [0 0 0 0 0 0 0]\n",
            " [1 1 1 1 1 1 1]\n",
            " [1 1 1 0 1 1 1]\n",
            " [1 0 0 0 0 0 0]\n",
            " [1 1 1 1 1 1 1]\n",
            " [1 0 1 1 1 0 1]\n",
            " [0 0 0 0 0 0 0]\n",
            " [1 1 1 1 1 1 1]\n",
            " [0 0 0 0 0 0 0]\n",
            " [1 1 1 1 1 1 1]\n",
            " [0 0 0 0 0 0 0]\n",
            " [0 0 0 0 0 0 0]\n",
            " [0 0 0 0 0 0 0]\n",
            " [1 1 1 1 1 1 1]\n",
            " [1 0 1 1 1 0 1]\n",
            " [0 0 0 0 0 0 0]\n",
            " [0 0 0 0 0 0 0]\n",
            " [0 0 0 0 0 0 0]\n",
            " [1 1 1 1 1 1 1]\n",
            " [0 0 0 0 0 0 0]\n",
            " [0 0 0 0 0 0 0]\n",
            " [0 0 0 0 0 0 0]\n",
            " [0 0 0 0 0 0 0]\n",
            " [0 0 0 0 0 0 0]\n",
            " [0 0 0 0 0 0 0]\n",
            " [1 0 0 1 1 0 0]\n",
            " [1 1 1 1 1 1 1]\n",
            " [0 0 0 0 0 0 0]\n",
            " [1 1 1 1 1 1 1]\n",
            " [0 0 0 0 0 0 0]\n",
            " [0 1 1 1 1 1 1]\n",
            " [1 0 0 0 0 0 0]\n",
            " [0 0 0 0 0 0 0]\n",
            " [0 0 0 0 0 0 0]\n",
            " [0 1 1 1 1 1 1]\n",
            " [1 1 1 1 1 1 1]\n",
            " [0 0 0 0 0 0 0]\n",
            " [0 0 0 0 0 0 0]\n",
            " [0 0 0 0 0 0 0]\n",
            " [1 0 1 1 1 0 1]\n",
            " [0 0 0 0 0 0 0]\n",
            " [0 0 0 0 0 0 0]\n",
            " [0 0 0 0 0 0 0]\n",
            " [0 0 0 0 0 0 0]\n",
            " [0 0 0 0 0 0 0]\n",
            " [1 0 1 1 1 0 1]\n",
            " [1 1 1 1 1 1 1]\n",
            " [0 0 0 0 0 0 0]\n",
            " [0 1 1 1 1 1 1]]\n"
          ]
        }
      ]
    },
    {
      "cell_type": "code",
      "source": [
        "# 5. Model Evaluate \n",
        "\n",
        "from sklearn.metrics import accuracy_score\n",
        "\n",
        "acc_lr = accuracy_score(y_test, y_pred_lr)\n",
        "print('ACC of lr : {:.2f}%'.format(acc_lr*100))"
      ],
      "metadata": {
        "id": "Fvc-Tr8cg_jg",
        "colab": {
          "base_uri": "https://localhost:8080/"
        },
        "outputId": "d8aa3ac4-7979-408f-a69f-39f353504479"
      },
      "execution_count": 41,
      "outputs": [
        {
          "output_type": "stream",
          "name": "stdout",
          "text": [
            "ACC of lr : 83.75%\n"
          ]
        }
      ]
    },
    {
      "cell_type": "code",
      "source": [
        "acc_lr = accuracy_score(y_test, y_pred_lr)\n",
        "print('ACC of lr : {:.2f}%'.format(acc_lr*100))\n",
        "acc_knn = accuracy_score(y_test, y_pred_knn)\n",
        "print('ACC of knn : {:.2f}%'.format(acc_knn*100))\n",
        "acc_dtree = accuracy_score(y_test, y_pred_dtree)\n",
        "print('ACC of dtree : {:.2f}%'.format(acc_dtree*100))\n",
        "acc_rfm = accuracy_score(y_test, y_pred_rfm)\n",
        "print('ACC of rfm : {:.2f}%'.format(acc_rfm*100))\n",
        "acc_svm = accuracy_score(y_test, y_pred_svm)\n",
        "print('ACC of svm : {:.2f}%'.format(acc_svm*100))\n",
        "acc_svm_rbf = accuracy_score(y_test, y_pred_svm_rbf)\n",
        "print('ACC of svm_rbf : {:.2f}%'.format(acc_svm_rbf*100))"
      ],
      "metadata": {
        "colab": {
          "base_uri": "https://localhost:8080/"
        },
        "id": "qDK6N4GQRxBM",
        "outputId": "bd662c6f-f42e-4ea1-f794-ba288afc1500"
      },
      "execution_count": 42,
      "outputs": [
        {
          "output_type": "stream",
          "name": "stdout",
          "text": [
            "ACC of lr : 83.75%\n",
            "ACC of knn : 88.75%\n",
            "ACC of dtree : 88.75%\n",
            "ACC of rfm : 90.00%\n",
            "ACC of svm : 82.50%\n",
            "ACC of svm_rbf : 88.75%\n"
          ]
        }
      ]
    },
    {
      "cell_type": "code",
      "source": [
        "# 학습 성능 높이기\n",
        "# 어떻게? -> age와 salary의 값 차이가 큼 -> feature scaling (범위를 일정하게 맞춰줌)\n",
        "# train test set split 과정 다음 feautre scaling 진행\n",
        "\n",
        "# lr, knn, svm_rbf의 변화가 큼\n",
        "# 따라서 lr, knn, svm_rbf가 데이터의 영향을 많이 받음을 알 수 있음\n",
        "# dtree의 경우 데이터 크기의 영향을 받지 않음"
      ],
      "metadata": {
        "id": "BgJvu8kPSytr"
      },
      "execution_count": 43,
      "outputs": []
    },
    {
      "cell_type": "markdown",
      "source": [
        "![image.png](data:image/png;base64,iVBORw0KGgoAAAANSUhEUgAAAmgAAADSCAYAAAD+ITxzAAAgAElEQVR4nOydeZxcVZn3v+fce2vrvTvd6XQ63dl3krBlgUBYlB3EhUV2R2dxRgdwG2dxhhkdfdURZpx31HcUGQQBBUHBBUHZCUtWCEnIvnaS7nR6X6rucp73j1vVqXQSDJJoRs/386l0pe6ps9yq86vnPOc55ygRESwWi8VisVgsxw36910Bi8VisVgsFsuBWAPNYrFYLBaL5TjDGmgWi8VisVgsxxnWQLNYLBaLxWI5zrAGmsVisVgsFstxhjXQLBaLxWKxWI4z3N93Bf54OJLdTNQxr4XFYrFYLJbjn2NgoNlt1X57/jfeO2tUWizvjP+N/f6PHat7lmPPMTDQ7BfXYrFYjoTYNFNF/1osFkvMH/4UZ/Hg9HehgIcaDP/BKq/kH4o/4EZaLMeIuP/IUB/S+V5U3K8K/Db960jF75148ArvVSCHKEMdS+/godr3uxB89Tv/WbH8caKO+lFPAuY48dgrDtQHUcd2MmF4eUPlcmjt+l+PAqWsQFksvw0FM8xI3I+0DNMPdXD63zeH7OtvVbFjrLm/N1TBhBaUVUDLMeLoG2gWi8VieUv2+8jkdzLB+dYif6irRZ6xIg6u5W+wwP7ADLThfjprmlmOJe9wijP/NRUFRKA6QNoR+hHls99Nv//rrNCIOPmiNXLQTh+Hc1ULEKEIAQPKxK/n8xKcg96rDshGgZLfOAMpw6+IPijdQZ1TRUN1U0Rx/YbQCC6Sb2/8/0OjRIY5z/PlvYXIKQwU7gma/dONhvgzIX+PvKGfgkO3Yn8JxSNCOeBZ/FAIgouSMpSqQKlSRFyUsnJlsRwZBvAR6QW6UTIAEhL32ZB46lPHuiZO/FwVtEiK0pm8zinAobBzklIF00/l+2VBG4YjRY9D919VNAm73+IquPtkSP/iNhWHPDj5h4scMH17OH7TNKUU/c3r2wHl6fzr4VD5UnxPDspveL6HqkshRaEcD0ihKAPK+GOIErL8/jgK367CFzdEZDuDg4vJZjeiVW/ccUUjeb+9Eo3WLo6bQekkYgqdqthYKPz/QCMnJkTwCYMBxARxeuXieaVonUCk0FELsR0U5Ru/figD6MB3FXM4Udv/vrj5giJCkSUI+jEmAEy+NBfHSeO6GWLBKBbZQ+VZXAvJ//tWho8ByREEWQSN5yRwXZfIBPhBFsHgOmkcN503Noe39HCiOLzMIiFXEVCKmCY8dzrJ1FQUVW+l8RaLpYh4oNlDGG0gDFaiZBeIj0hAFGUJoxBwcJwk2k0dYGjEhlFIFA0ShFkQQaFxnASuk0QpBxGJDTOl48dh40QPVr1CDUGh5MDrimK9jHXPSI4wHCSSXJw2byy6ThLHySDKIzbUflN5h75TB9Y1/1dFGJMjDANEBNdN4jguYgKCaAAx4LoZHCeZ1z19iDyHD8elSGuHlavyBrPJYEwd6dRMPG8mSJnVPMsx4x0aaEVfdJUD2UEisZJMZivQHb+OR9w5IuIR4yBB0IfWDlonEeOilObgmdYDDQatwBBhxFBaUg7EBg8SYkwvxoRoXRilGQTJ/wsFQyv2UBmGd9CDzbdi4+VQ3qTCFQExKGVAhYRhSCqVAacq3+4IyCHSSRQOonUCIx5KOUVBaQfmKrB/ZHqIO33gizoel4qgSpOARsTHhAEJ5VFSWpJ/bRCRLKAwUUG4h5dR3M58uyVfowPSChAgUkUUnoijU8AYoOpQNbRYLIckQtGDVhtwnadRei0wCEqR0imUShAbOwFGQozEsw2Sj1cTMWjt4OpyIE08oO3DmB7CcBAQtEqitJf3sSnUIYencGijqbBoQfJGWvEVQSRCqbhuSoREqgzHqSD+SQmBQaKomyjyUcoD5aFwUWp4eXndkWLTr7hehb/xNSOxl04haMdD60ScQnyiKEJrjxJd0MIcxuRncgSKlf7AdpJ3IsROASUH798ueQPNRNUYMxGl08A4oJTDqLPF8o45Ch60+MfemAilEvT3e2zetIsw7CSZSOKoFKpgoOkc1bUJRtZXYaQFI524TgJjQOv9njSlNGZo5CZoDCIapBQxI1i7toO1q1eRch2amioYOz5NaXkuFgvtEHdgA2IQlffESezqV8PGgPu9bbEIqCF3+H53kBRc98rkx1hxLloMiCBKE0ZptNvI3vaQ9eu209kxgFIBoxszNDZ51IxwCU17fjDroNCoIlGK25wXPxUVudTj0pQUph7jusaCojAmTbY/w/at28iFvdSPqmTkyDp6e3O0tHTj+4a6esPIkQoxObQzvP356RApCFT8CxA7Bgsthf0iaUAFKDGI6kLpgfiztVgsb4PYC6ZUH9rdi6hWDIowrKBtV5a9rW1onWX06Ax1tS6OzmIUgIOJXBxdzeBACW+u3cXO7R2UlbqMnZCmvsElnXLRWiHiA/1oIpB4YCroof4uQx7xIoNlaOC4fzZDqWJtyGugEqJI0KqMhFPL7l0BWzbvYF97L4mEoXZkgnHjK6mqShOafQgBWrn5cItigyb//IBBYLHH70BjziE2TpUqp7szYlfLDkKTpaGhiuqaCnr7fHa19OFn+2lo0FSP8NA6QCQqKrfYQCvcA4Ng8rrsEmsyQ44DhaCUS4QC1YVS/Vjdsxxz5CgQmVByfqsEwdOy+MUPS/MYJOEiFaVI2kNKPaQyjYyoQiZORP76E8jOPYgRLZGJtaL4YfKPodcMYkJXenur5O67tdTXIQkHcTRy6izkzTcQY5AoPDivQ+Z3pA9zcB7RsLxMiIR+Utrb6+SOO5AJE5GSTNzrXQepqUBOPRm5+3uODPolEubzeKuyiss7XN2NIEGE+EGpLHlpnMydg4xtRr7z7XIJw1ny0uJRMvdUpKEB+epXPYlMmfjhwXkdKv+3KncojUlL4M+XMPg3EdkgYkSMORrfJovlj4E+EXldjPm8RDJJsiGSC8tk7bpy+eB1WkrKkKoa5LOfRfbsQcIwfvghEkQZ2bq1TP7yo65UlSNOPi7iT/8M2bJ1vKx8vVG++jXk108R6+thtOVt62GRBmYjJIjS0rq3Qr745YRMn4akk3E9PBeprEDmn4bcfa+Sjm4kNIfWmSMts/i57yNh2CwP/aBGZs1Exo9Dvve9tPT3N8njv6yQuaciI+uQb30D6enxxBjnoHtwuN+I4WUNTxeajOSCkySKviQiW8VY0bMcQ45KhGMcjqpBaonCsfj5UAQ/hFwIjgNRBIN90NEN/3MnODrF177ahMgWhAAAP4gHcEpBZOJxlOfGf4Mgxb72cTxw33La98HIETBtBsyfn6BhTA0iu/HD/NhL7S/fdSDhQsFLH4YQheDGgySUhiAE7YCnIYhAovh9irgeSsfpi8NRIR6UGpNhMNfMYz/p5jOfjvNKp2DKJDAhbN8Gb6yGf74tIpWG979vArlgE6lkfE/CMD9W1fn8VXy/CttXRBLfFyS+FwiYvFNQawctNURhE7lgC0YgiNKIjMX3QwazuxEBYzyQCsKwlzCIy9JOfB/IlydR/LrrDvnJMGZ/WYX2al14XQMJPDeBPdLVYnm7FIIkHIxxEOOiVRPLl2VZsawHV0Pow8oVsGVzDdU1EdCVj2Gt441VPkuW9pL1YfxEGN0Ec04Zx9KVIf95xy62bYV/vC3B4KAhmQhxXAijeEsPne+uJgKnSG/ExHpU0CHyGiQCjgaVDyMzBjBlBDKOu+7ax9fv6KZ1D5SVQlMT9PZCVzcsWwJf+bJQXV3DBedHiPSgtCEI8/peFJam9f56QXw9DOPnjpPXbwGtIDIapUdixEPoRCKDiUYi0kAul8MPuxnMwkAugZEMQZCNpz/duF0mr3X56BCcfNmFNU5hFGszOr4nSsXXowhEXByVAp0A7AYblmPLUVokYFCiEVWBmFF4iTK8VI5L33MCH7v5MrLZNhRJtmzWfP3fH2Tjxm28tNiwbr3P5EkVDPrtOI5LMlELlGHIkiQA+jDSSxC6OIkxiJxEGOwkmerh3eedyXe/99f45scEwROERpNKlgN1CCEiISXJAYx0kPMNCQ+MuHheJZ6XBAIgjtFyEoMY00su6CWVSIJbn781AZoAIx34YQ7XPdAUESAyJbTvbebJXz6P4DDzhGZuvfVCzjl7HN1dhu/f+wz/+X9/zu498MiPDZdcGuJ5HrkgIOVlcJ16QCGiUcpHpItIuoeEEZMmnRgFpCis/IpjTToJQ0GTwTAKKEOpXrR2ESlj8pQx3H//AqIoQ82INzBsJJWsRuENfWaeUxVPHdONcgKQ3vy0SF6EJUnCrQYS+YcBOonjOyoJo0qkMCUyPLTDYrH8BvJBC0ZwdSXdXZUsX9bGjm0pBgdTODrLqtezrFgBs08ELwkSVaCYgzEg5kVqakI+9ekPce0NZ5BIdnHvPT9m9+42MuksVeXjKMm4ROFmfH8Q1y2L+zyJeJGC7sNIT77PK5TO4CVKiVXOAZLE03gRIn0o6UFUhDHgqAa2bqpl+ZIOejvhnLOn8pd/fSEzTxjDvr0D3HP3L3nooVdY/6bPr57cx+wTqqivSxOYfrxEBZ5bHcfjEqJUFqGT0AzGBpQBrTKkE3VAAiFA4QM+RnoIogCRMkQqEOlAqQ48twpHJznjjFO5997J+EEfdaPeJJnZhev2kcjHzoIGtzLfrkHiuOi+/K4DsRGmVSluoorIJNGOi1J9QD+eUwJUEgbl+ftjzTPLseXoxKBRCDqPiGQAIwO4rqFxdAunze0kYgshZcya/i5WvzGNNau3EeRgcEAjJoHvp9Aylgce2cBPH9uN70NNDcydr7nyqkpKM/W8+uoAd3ztO6xaA0GgeHXZr7jxpic478ISrr5qJv29mkce384TP+9ioD+u0thJcOVVCWbNqCY72EU2O5L779vGc8/BOeekSCYy/PiRTVTVwA03lXP66QtZuXIr931/G5s3xZ6z0Y1wxZUJTjutjsi0gYpHcQUiUURRgv5+hZaI0pJ+Zs/xGTt2PZCkrHw8XT0pWluznDDTMDjok0hUoCXJ8uXC/fdtZuuWuKy6Ojj/wiQXXjQSkQEiU0NnezUPPLCSJa8a+vpiD1fdSLjsPQne/e4RiEkSRYMYBuP5BTEolaWreycP/uhX7NwZccklZVx0QRNLlwfc9d09JLwU77t8JOvX9/GLX+zG8WJv5LXXekyeUkYUDeK5tWzdlubeezbz2orYe3fq/EpOmD2SRx5ZR8Ib4E8+1MisE1KI5LA7bFgsbx9BE0YOWteydo3PyhVtaOUwvrmawcFe9u7Nsmx5N+dfWEHTmHKyA2me+OUyvnvnHrZsCjACd377P3lp8X3Ujqzk9df20rY7i1Zwx9fWsXEDvP+KSprHjuHlVzv4ySPb2bgh9gjNmAEfuKKCKVM9tCph88aQe+9upb0dTjt9NDtbeli6bC/TpsE111YxZUoapA8REOUy0KcZ6IFsDrxkH6NHdTB2rM+4cRlKMpPxvG1s3badqVPynnnt4bnNLH6xj0d/vIWtWwEFdfVw0aUJzliYwU0EOLqeXTuTPPrj3Sxb2k9XJ3gJaB4Pl16eZvZJ5XgeRDKAEBAZCMJ4wcKO7ev5wQ+eZndrP+95XxXnLJrI88/088ADexjTCIvOHM/SJV0sW9ZOGMGck+Cqq0uYOEEThDkc3cDaNT4PPbiLNWsicj6cf+EI6usDnnxyJxUVO7n+uhFMnZL8fX91LH8MHI15UmN8Cfx94vvb5Kmn/ktGN3hSUoJcd32JrN20QF55vVZeWTVZ7vzeGTJrdomk08iVV5ZJT985EpgG2dU6XT5+y9AiyqFHSQly/fUV0rb3Urn//lNFqTiuy3G0AFJeiXzsEyOlZdeN8qE/PfC95Jf6jJ2APPJjT6JokmzberpceUUcI1FXg5Sl43QTxnvys8emyssvfUAmTDg4n7FjkR88mJIoapKcXxSPECH9A3Wyq+UqueXjJ4jrIlVVWpomIH/yF8g992Vkxcozxff/QYzcJn50vgz6E2RwcI78+NEJ0jj6wHIUSGMD8uWvlEpg5snGTQvk2usO0S7iWL4HflApudxF8uSTl8vMGUlpakK++c0GCYKr5JlnZ8n0mUhtHfKP/1Qt/f3nyr33zJHyUqS0BGluHNpeTRRIMolcdpkjO1uqxZgp8vrrU+S88/ZfJ5+mtg4pKUWmT0/Jj398lhhztwTBqvz34Gh8myyWP2CG+kiviLwuQfglGQxOlWywUP7rGzNlzBhkbHOFfPELfyl/9pH3SiqJzJmDPPqT0RKFzdK+d7LccvNoSacQ13XEdRwBpLIyjjfNZBDP8STjueJq5NxzkeefP1Hue2CKTJ95sI7Mm4888miZDGRPkyefOEFOOy0hZSVIVQWS8OI051+AvPTyaPHDERJGcRxcGE2TXTuukZuumSnlSSUlSSVTpiJ//lfI/9xbKq+tOkf6+28TkU9Lzl8oA9nxEoaz5e676mXK5IN1r34Ucvv/Tcq+rlny+qopcsX7U5JKIrpIfwCZczLy0GPV0pe7VO75/iKZPr1cmhqRO78zU3p73yUPPzxKZs9GMiXIv365Qto73iNfu326jG5ERtQgNVXxbwjEcdKOg3z4T5ENG0eJkanyyquj5KxFCXGKyk2l43tbWoqcegry7DOXShR+V4zZbkXPckw56rvsCZDzAwYG4EcP9vPzn70Uz9+bvfT1rUcB06eX8w+fexeZdCd+tpIXn4/j0qpr4Oyz67j+2mt54fmXueu7L/H4493Mmf0SV1/zXr7wLynuuusNdu3p4fSFDVxz3UzGjU9w/wOb+N53oa4WTjmlmksuu4DWvW3cf9+v2L4NPvcPIaNGDlA/aiImWoaYLGEAM6aXcPY5zaTS3Ywdewaf+czdbN0Kk6aU8JE/O50xjZP5+n/czarXevl//2WYe8ogY8fq/Gqf2OvlJfqpGbGTmz40kSVL3+TFlwI6u+C734LvfWeA2hHPMXP2c1xzXQmXXd5MOumwdXMZ//61lbS2wuyZVdx44yJGNZRz53d+wfPP7+X792ZZeHoHg4PjeOF5qK/XfPCaKVx99TUsffV1br/9QTr2wZJXHN733gyuLkxbAmiUypD0yigvgW4XyktdtKogmRDKyqGjE5Rbzu1fO43xE5r5r2/8lFdeaWHjxogXni/j7LNn8fBDz/DMU9AwChadM5oPXvMuVqzYwze/8UsU5PdbKyde7RS7z6wTzWI5AuIl0kBEZDRQy5atHSx+uYPWNjjlFMOcUw0VNQ51T2g2bzQseTXH/Pkp0pkM11w3Be2M4Yc/fIPA7+PyyydzxpnTSKQq+PWv1/HIj14DyXL+BdV84IqZ7OsJuPPOzaxfC7NOKOHDf3oWyaTH/fcuZsnSNu69u5dxTTWIGgW0EEkHysB5541nTFOWeQsCJk9OoXVvHLMKBEErtfX7uOaGUazfvIfFL7ezYR2sXwff+VYfdSOfYu7cp7jxxlHMm+9QXTWSV17K8t27utm+DeadUsV11y8imczw/Xuf55VXd/DgfTlOnDmaLZv3sPL1LCUl8NcfP5PLLl/I4sWvc9ddz7F1Sw/LXx1g/skliMlhJMrvCOQCZXjeSBynm3RqgEyiDEfVoPUOHA1dnTBpouILX7iYTKaG//ffT7N06XZeegE2f2AMdXW13PXd5Sxb6jNiBFx15QlccOGZ/PJXi7n//tcwoSGTAcdNxtt7KMnHoVjlsxwbjqKBVliOXLSfloH+7jjI0s8HfGoNba09PHDf43zyk/OIogk8/8wyBgbghEmj+ZvP/iunnjSfk0++kG1b/pVf/vJZVq4UPvynFVx9zRX8/BcttO3rY+r00dx4/fVs3LySnz/2XRKOpnHMCD7/xY9w0pxmOjp9EomRfP4f76O1VXj6qQQfvGYqJqomNLuoqK7j7z93PRdePJHurhaWLtnD6jd8KivLufLKS7n1Ex8l159GgvF87C8+Qcv2gNdW9NPUXE0UtePlg+kd7RPKeiZONXzzv9/Pt775Os88u42dO/vp6YbWNuh8Bl57rZ9du3Zx81/NY/mKAd5YCXXVJVxxxUJu/dT7yOW20NT0Xh595FecMFsY3dBIZeVEnn1uLr19KRoapqJ1hq1bA1KpJpTajuu4RGEZcsBybwUkEZMmCOJ4jjBwMFJBEET4vqK0tIRrrzuTv/z4+/BzPbR3lPHi4m/S29tP254q2tumsWTJL0Arps8cyyc+cwEzZ1Zw4qy5dO4r4T/+/WFC42KiTOymlOJNhS0Wy28m3hcSNIZq3ljbwurV+3ATsPDsqZx00kzqawNOOXkDv/zFa7z+WjtbtjjMmFXCzJmNLFw4kqee2kZfbx/nnDOW910xB0U1uUHFM09tIAiyvPu8E3n3BefywwdfpaVlFVVVI7jxpo9w441nk06V0d/zMzZuuJOtm/awq2UEyq0kMiUMDPZxxhnT+eSnr+D0hYbIPIfSbyJkh9Td9frI+StZcMZ07vj3hdzzvTd46tfbaNkZ0DcA7XvhZ4/Bayt38w+fq+Dqq05h5WstbNnqk0q5fODKc7juhhMpL08xenSKpcteZNLUiKaxLrPnnM6is85jYKCW+lGTcN0Er68KiaI3CP0ecoMlRGEFIr3xdCsgOAgpTFSBMUnC3ACRn0CkEjENGLOeVCrLjTddwZVXnUp5RSObtzps2PAIOb+TKBrHpo0Ob75p6O2H886bwUf+/HxmzGxkxuwptLXdw8MPL2FwMEMYJONFDrqwBYnFcmw46h40rTWpZIJ0OuSSSxq49daLGejfSxQm2Lk9wdf/81FWruri298ZYFT9at5z+XvYsH4XANu3tnD1VTfhOICBznboz8H6TT57OzfT1S1k/S7EBAwO7qCjey3t+zbR0dWJTsDMWYYJU3awq+MJtC5nwYJxjBtfSsuuXlpaBPBxdIDrwKiRERMmbWVg4GXEVNPWNkBrK4Smh29/+/s8+OD3MaEiO6Dp7YNMubB7lwESQ6IQe48cXNfDcyOmzfC5/Y530dISsWZtO0tf2c7zz65jxYoOjA+PPhxx2cUBilpyAZRVBIxq2IgfPExX70pmnVjP/NOmo3QHIt0EwU76drXxk5+s4dlndrBsWS8d++L7XFUZr+5UetiGj0DhGJj9sXJx27XyUQilZYZx49vJBb+ip68Dz0nh6P7YK6hcQpMmlxU8T6ir76dmxOt097WhknNpbvapqgKlBK0LR0xZLJYjprA3K4LjltHVmWbJq/1s2xpQUuKxeWMrd931MIP9Sdr3doPAsuWwbHk/k6b2oJ2N9PR1EwTdGAPdPetpa+vH9Rro799OFPYRRtA3uIt9HWvYvm0LXZ199PX1cfvt/4dvfuv/4GhFdwfs6xCCCNr2RowaHaK1kE77nHACNI5egZ/bhlLbSSb70CqisKE3okknEhivn5PnjuSE2ZfQ0hKxetVeli3ZxlNPr2Pjxg727IZHHu5m1gkpsn6GIBSqaiJGNbQgehc9/e2ce94YLrpkMoYeAtNJFCk6tgT84qc7eOqprax6rY/OTkglHbTW5AZDTAQHBOqrwtF2g/HCAw3xUVgBkAUCqmpC6upbCEw3/QONVJbvJpMxQwZeGGo8N17BX13TRaZkMR1dCjcxjgkT+6isBM8VtC4caVX0YVosx4CjZ6BJfqGAGBBwXUNDwwCnzgvJ+T14ugJkFuPHjeGGG/6V7h5YucLjssvHIKYW2Btv4SD5bScchylTq0klU9Q27kOcflKlgnYDlIqD1ksyEa5j4q0jFKTSWRKJNeSiZSS8EZSW1pJIpDFRL/0DGoiDzpSGRCpLSelaSst20WMmAiVxfxfwnLgpSgm1dR4zpzXg6F3U1qaJj1TJN1k0UZhizZtZfvjDV9mz51XOWlTFtdfOo7ExwYXnL2Lnjiu57R8f4+57nqKuV9OyowIlY+ItLrSPm9yJ1kIqvR0v0YEf1OXrXMErL+/lox99iTVroLQUTp1bwdQp43n+ua3s2tUZG2AmjpTY78USCqfwFQzJwqFTSqv8cnafdLKFdNLgp/bheA359BoxJZioGt/PoFU/rpslld5DKrGPiFZSKYf8rAJK5Q9GsRplsRwZav+TKFKgqtm8UbFiWS/9vaUIhoce2M5DD2wfekvCc9nXActW9HHe+VU0Nfskkx04Tg7tQDrTQ0lpfCxUItWPdkK0ED93exgcDMnl4u0qtCpsKSGMGzeCmTMglelkxIgkmhRaxRqR8PbieVk8dzdad+PoeEGDSLziXKSU11Z18bOf72DLtle5/PKJvPvc8TSNqeaiSy7iQ3/yYb74hcf44YNPsmfPAB1ddYSRhzFpHK+fRKYVLzWA57aizF6yQRXKqcDVo3j852/wL7dtZvkyyJTC6afVU1/XyIsv7qBlZyuek0CrxNDNFMhvbF4wnGRoW6X9IRgKx4F0potMSRvJRITW7YjkMAKRpAnDJL7vERlIpgZw3e1o1yedKI1PTTBgCpuj5XO3E5yWY8lR9qAZlIpwdBR3GhWhVReJ5F7E9OEP1LN9ewt9fbFQKAWpZIIJE8fwq2f2Mn7CSO6651amTZpEz0AXq19rQUnAmAktpErb2dWXxcnvc6GVoAhIpyOqq2HjBti6Rdjb6tDUMJfevjJWrdrNps1tpNIwbrwCPAwhSkEypUinU4hoHEfR0FjJiBGQy5XwVx9bxGc/ezW5IMee1gE2vLmZCWPTjKhbilHL93d+pdGqiu69ddz936/Q2QUtW3OcNm834yaUEkRrUTrE9brQ+eNZhIBMiYN2YHAQNm/O4DrTKUmW8MorA3zh82sZPyHJxRePZ+3qWjash5NPqeKfP38hF19wMWtW72b9utvZvbszv1dbfMxUPFokrxaGoYPh84ts44OvTLwKVWs8N0m8jD4Zb3Ck4/cJ/SSTvVRXO/g52LYpZMu6BKfNn8vmXY0sefUlurqhoVGITL4M6+W3WN4mGqVLyAalLFm2l7VrWnEch7FjK2kcXYLnZTyo47MAACAASURBVFHKo78vxbatPbTs7uHF52Hpu1KMaSpBoeNBmYCIh5AGSaFVEq0dosjgOKXU1oxm6mSfurptdHdl+bu/v5YbbzqTVNJl08Zu2vfupqpqgFGjR7NkyTbiDAt1VCgdbxYpSKwfQBBGOHoU69b08cD3e9m0CUxuCxOak4wd14eDEJlegnAXocli8ksBtPZRKqB9L+xqSSBBFclEMz96eCcP/GALjWPg4ovKeOLnSTauh0Vn1fI3f3s5Zy06k5cXb2Ljpvvo3NdKSamL44ZAjvg3J/49iA+Ol/1ONVXQx6hIDz200ijx4qMBVaG5PqmMi87vubZhQyd728fQ3DyD9RscVixbR28n6KG5E4vl2HOU9kErdAoPoQR0JYG/j5df6eaWz/6IKARtYKDnZZ56Avr7oaw6wdQZo0hnAmbMHIvDctav28uXvvhtPvHJj/LCc6/w+X9+kDCED95Qwr988QyCQHCdCrTuI510MWaA6hrhggsW8MILL7Hs1X4+9tFVfPgjE9nZ0s5/3LGZwSyMHpNh4ZlTQRscrxytO0kmIIp8RHrRupvGxgmMG1fGSy/18uAPX2T82HKaxk3i3+64h1/8bCszpmq+8m8ZFp2ZIpT8IShGCKIE4yecxKXn57jv/pWseX2Aj/7Fa7z3/R7pTBmPP/4Tfvm4JpFMUjsyycQpjQz0VDBxUgmr1/bzox91UFq6nIkT6vjWN9by1FOwfUeSs89uxs9V4yjAaDo7Emzasof7H/gJLy/eRUUpJFwXpaqAHI5bAaoLtEZIgvLwErEh7LkKpZI4Thmu4+IojdaJ+OAXpdE6iesqHFdwvUHqR/WzaNE4nnxiD68tH+Dv/2YdF1+6nWXLHB55uIdUMv+xGx0fvqLsRrUWy9shMg5KjaS1pY9Vr7l0drlMmFjOP992HZddOosobEW0JgpH89/feJE77niA1l1dvLbSYdGZ1Ti6DqV24LqDuDp/zrAyhCEEAWSz8OILO2lo2ExlVR0NDfVsXL+R7939BFXVUFGZ5lvfeJKnn97EiSfBP/3TDYipRcTF8yCRdNBaIH/snMkbJloVjJMEc2YtYvL4DLu2rebxn0W0t6/m3Rck8bw3+PlPc7z0guDnNM1jS6mrgxnT6hgzppYVy1u487/X4ehmKsocvndXJy8uhukzYeH8CYRZTTC4ls522NfmsX7DJh776RPs2t6J56TwvApcpxZH96JVCs8dwHU8lPLQTglaJXBdcJwEkMHRFWiVxPNyJJIeSpk4NEWXoVUCL5klMN00jx/J7JNKWb4CXlwM//wvr3PGwg6efbqX55/tJgzBmCg/W2FHpZZjz1HyoBXcypqcb9jX0UU2C68ujh/DyWTgnHMzfPD6KbjppZzz7kbe9/453P+DlXz/7k08cM+nMPkd/GfNTHPNVVMoSWhM4NPT1UsUCr09ObTbTyLdznvfP5sXn2vjZ49v4rFHB3ns0VVDZY0Zk+Lv/34i8xdUsnvXFkAIQ+jqVBiTIj7UvJvRDcKffeQiliz5AStWdHPtdQ+QTMLAQLwn27vPK2fu/BlkzSt4jorXcSqDVh2MqNnBNTdMYfGS13j9TWHHU/DkUwHQka+FoakZbrppFM1NfXR07OLmmy/kllsf4o1VAZ/+1FZgKwC1tXDllZVceOFJDPZvx9GwbPk+brzuf9DO/t21sz689LJP295elCqls6MLI5AdjEeAgzlDV3ccp9bVrTBG09fv09UVkkwrBgZ9wMOIJpsVenuEZAL6B/qprGzl3PNLefrZFI8+luWZ5wzPPNdPSQmMqod9+4inS534AGerVRbLkSMCYjSoNK++sp7Fz6+ivydk+rQyJk/ejh+8SRDswIhHMnkqs2Z5NDVX8+LLXTz55JuccUYzAwNJBgcjsgNxn8f4aHKk05BIaHq64O47e1i18klu+/yVXHrZBNau2cRLL+9m6fV3IwJhACPr4Zxzm5k6tYYVKwYIwoCubujuiY3I4q25CyfzegnB93czdsIkrrthAlt3trJiZTs//Rn89Gc5Ys9WzEknwvXXNTF+/E4mjBvFdVeNY++edlatyvHxv9o2lK6mCq64chaLzh3D7j3t1P4qxetv7OVDH/oGYvInuuQ3zl3zZgvt7T65nEMYRnR1QW+vYIzCzwWEYUg2C7lsPB0Z+FmiKKC3Bwb6DCY/sBzoH8D3fZQDQbabZLKVK68ez7KlXTz/7B5++ij89NGdVJTBiBrNPi2IjlA6KronFsuxw7nttttue2dZKBSCkEOpTgaz28lm9zF5chPz5s9g/rzpnHzKZObNnc6pJ0/llJPruOGmZj7xmROpql5LFK2jotzjjNPnUlXhkE4oEu4gs2aWc9nFDXz2b09j3vwUuWAzDpXkBoQxDYPMm1/N7JMjlLuRivI07zrrbJrqK6hKpylNCk2NCS57z1g++Tcnctll5QzkluHpFN1d/dRUdXPaaWWcOjdFSclelBpEETB+wnjmzpuNo3vIpHwqK10WLhzNn//5TD72sQUkkhsR2vKu83gFj6NDlA5pHNPA2edcSmm6mooyD1f3UV9byrxTxnHh+WP427+bz4WXZPCjJXheB9OnNjJ71gyIXNIJYVS9y7vPnciNH5rNjTfNJJXawbjmOqZNa6K/dzeJRJZZs0Zwy83v49JLFlFZ3sX0mV1Mn15OWVkV/QN7GT+xj9PPqGbchDKy2W76+7KMaSrjzDPTTJlcQn9fBKaPmSdEnLloJI2NWYzpJ/BrcLRh5sw+Fi2qpnmsQ1mFy7nnfIApEyczerTH3LmjuemmKzj55LksXvwKZWUlnPfuKUyaNBWlRqJUbeHrYLFY3gqJwwyiKGDnzi1kB9o4+USf979fcdKJbaRTb5BI7Mb1WtGqk/KyEkpSDiOqHZrHljD9hEpqakqI/JDp0wLOPttldGOEdn3q68eSTI6kp6uH8rJBFiyoZOGZlSxcOJEpk8ZRXqZwvX5G1msWntHALbecypVXN1BdM0guyOH7XTQ1CWedPYIZM0LS6U6UCg7YnDuOP42IJMekKZM4+cQ5jKguoySlSbgR9aMyzDmpkUsuncQnPnkqZ54ZkvDW4TntzJw+hXFNUylJZUh6PmObKjhn0WRu+cR8Ln1vHWWVPYwfV09lhYMy/aRTESeeXMktt1zNu849ibqRbTQ3dzB7ziiSCQj8HUydkuWss2oYO1bj50L8bIqJE7Kcschj/IRqsrkIpJ2ZMxMsWlTD6NH9ONphoD8D0sG0aSFnnFlNVW0/zY3jOPOMCxg3roHmphJOOrGRT9zyYepGjmLNmzsYUQPnnjuNMU2TUaoZVIU98MlyzFAichT8HwahC+QNgnAZnptFqYhi10q8d1gI9CLsJpQ3MVELnhMRBBWINJNMnICfK6WnJ0c6pSgtH8SYdeT8tSQSgshkXGc68VFDu4mi18FpIwprwEwgmZxM5JfS0+mjHUNFdYRhB4PhMrxEFsxYXD0ZTTnQhZGVaLUJQWGicvxgNF5iKkoa6e42GAMVlQ6u04ofrkDYgev1xTcu3y6Ng5EyorAOR09H66lkB6GnO97NO1OiKCnLEZktZP1VeIluIEkY1JFJnkwQNNPV0Q8qpKpa0M4eQrMaZXpQajSuM5Vcrpqu3oiysgSZVOHsywCRrURmF2JG4Hm1QDdGdhGaLrQqwdXTEEowshoTteE6E1GqEejByBaM2YTWGpiDVhNB9iG00tHp85OfrObZp4UFC+ax4PRpzJ51Iq2tab75zfv5ypd/xLRpdXz5K5dw7rnnIXICWk+3EbMWyxETAt3EnvM1wOuIWYJiA9ABKovgIVKLUuNRajwwAshhTAtKOSg1hrjPL0PYgTEKrSbg6JPo6UngB72UlvWinJ0YIySciYTBCHr7DEobSksUycQeIrOe0IRo3Yirx6DIYGQnRlaiVEs+vjXu3EMLkPCIpIwgHIGnJ+LqZgb6MvT0GnCgtFyRSfmYaD1GVuM5/YhJIjIa7czC92vo6/PRWigrU3heK7ngTSIziOuMxHUm0D9QSc4PKS3RJBMpIIGiF9iJH/Th6AocpyK+J9KCkd1ALVrNRisfI28QBFlcpxnHqQUMIluAdYikgWkoXYOiH6GXfV1dfP0/1rF9W4a582ZzyUXzaRoznc7OLH/32a/z/e+/zMyZab761Q8wb8EFaH16/BkobWXPckw4KgaaICg6EXkcP3yIMFwFpg3HcRHjIYp8oOYgSg2Cis/GdIryiASCwEVRi+tlMFGOMGxDa59kIk5jRBOGSUwoaBWSSIX58vMHj/sOjq7ES1RgohA/aAUnV/R+RRA5RJFGJCKTNPng0sJ18AMFZEh4dShFfMB42I7nFR3uy347pPgIyjCEMPRwnTocpwKlAsJgH2HUgevFK08LW2IjkAsdlFTi6ApACKK9iOoj5cWHGBsDfuCidCWOW0kY9hFGfTgq3odEkSWZdDBGEYWCEKB1hOvGK6380EHQeDrAdQRjPIIgv6jcNbhOBCgik8APHGAQTRkDA2O48869fPrTbTguTJmmuPjiDK170jzzVDttbXDWWU1885vvo7l5KsachuOcYA00i+WIyQK78INfEwY/wHGW4Hk9BxwYDoUVihCGDiZM4mgX1zUIgh8KRgJcN8DNB6uIKKIwgVKlIC6oPlxnIJ7qCyDezLUWpYUwakNMP66TPwxcNGHoIKHGcQyeFw7t8zV8U4niVYx+BCZK4KgROLqcUHwiuoikB88JSer9E6UC5AJAleM6VRgTEEYdKJWN48byuhcaD6WrQHmE0QAmyqGUQpkQzxE818GIEIZRvEjAFRwlGHHwQxdNhOsEaC1EkUsYKkQUCc/gOCECBJFLFBkwEa5TRRA28LnP7eHOO/cxmIMFp8P8eY1sWt/Ly4u7aW2Fa6+dwN/+3buYMGE+Si1C62YOPKHZYjl6HJ0YNIH9hzEatIpwEqCVj0hEvPw5FhVUIu70xhDlR2P5LV9xXJcw6ieb68PRCtd10VphjAEUEQ6iNE5Co0QTRRqlDIKOgz49B5GAXNCGMRGOq3CcJEbiEaDgoJQTbzWhdJyv2h/wacTBdRyMgVyuHRHBcTSuW4JSISaK27F/xaPk3dsaJQ5au7iuxpgeoqAHiNBa4SVKiHcND+OgW4n3G3O1i5iAKNqbL8ugdTJ+TQmKBK7rEUU+gd+G1pBKuPHKI1EgbnyoOQrlCIiLUi7GxEs3tS5stZHAiMrvuwSxTe7kdzGPD5HXjqCVA2JIpV3ec/mpbFj3Ovffv4M1q4Q1q/qBfhIJOPWUUj7+sfGMrE+Ty/mkUomj8jWyWP54ECBAkUXpHErHMbwmMiilEBX7qgzxYEtrB+UpNPm9B0VwHIVGo7Wb79MKwQHtEJkBRMgbLbHMO65GTEQQtIKSeDDneGgMJlIIGkdplBuv3ow1IxqqrcqXECtJoRUKRym0AybqIud35fdIFFzHjXVWTH6RQVyGdjRiAgK/Na974DhJxEQYJSgcHKWJTC+REbRSeG7spVKORmHiFfEi+VWmChGIVFwfrc3QtkEFfXRcDQiiNGEU7zKulMZ1BYVH4AckvCQ3XDebLRtX8/gvW3n2V/Dsr3ZCvu0LT3e47vrp1DekMBLgOdoOSi3HlKMzxSmA6gWeRvg5who07cSGWX7XWQyxZeMCCeLgfE387c5vMoiff5B/3S1Kr4g3HQzyBTr5PNz8+8OiRyFNgngrCXfY+wt1SRbVo1CHMF+HQiCok8+nMLVYSFu8QWuhDYX3Bvn3F3pvEkgVvZ9h7Y2K2ptg/waMkr9WyK94HEpRuwpl6WHtKbQ1mc+zUJ5b9Ci+LxHxXnFNiJlNT+cslrwyyIaNu9GOwpgs9Q2GBadlGDnSJ4wiXHcSWs1FZKzdE81iOWIGgRbgReBnwDr2a1YhOL/Q/4u1jaJrw3WMfPpcUdqCfsF+bSy+5hW9N2S/ljjs187DIUV5FvIt6GKxbroMbTJJwOF1r1CW4cDfgoIeFtrrFKWjKA+nqP1qWLsLeu7l2yX5dEE+z1JMVI9Sc9nXPoMlS7rYtq0DY1wgpLk5Yu78FFU1vRhCXDUTrRaCjLSr2C3HjKMUgwZxZ1oPbAL2Af3s71DDi8hvznUQh6uKOkyaw+UxPM1wx/xbvf+t0h0un0O993B1eKu0w9McSXnFeR2qnvvHvgf+f3h5xUZ0CVABMgbUxPg5sVBBJ8IGkHaUKgOqgUag5gjqaLFYYgLiGLQdwEagjQMHdQXkMM8LHK7PD79efO2trhe//ptGW4fSumItO1QexeUfTouK0x3piO9wmje8fsO1sJDWATIgNaDGAc1AObHuRUAbwnoUncQGXj0wPp/Gjkotx4ajaKAZYADoR4iPFBpWVP7voTr18DTDORJBGX6tODrscAbQkdbj7dyi4XUovP/ttHd42W9XAA7V3sPlU/x6YVSej+0TJz7H06SBBEYFoLJ4ro+rFbG3rQRFmv2jcIvF8psxICGoHLE3Lcd+A62Yw/X9w+npoaJjGfba8NffSht+E4d636G091Dph9fxSNrwVgwfjP6mdMWYodfFuIShh5hEPGWsQpQaxHWz+UVVKeJBbClW9yzHkqNooAn7p/fsRn7/+ylMJRSmDgpTDPFUsBww3eCibKCsxfI2KAyGClOYhVjdY8WRGC5/jAz3uDkcrHvFU7mFUJLCdat7lmPHUTTQ8hTlZiBewWn5X4WSQ0xOFP3nrSaRLRbLkTNcfYVjpJnWLjs8RXbr4SZmhzjIyWdXCViOHUffQLNYLBaLxWKxvCOO8mHpFovFYnl7/K68MHYsfjBHEqc7HOs1s/xusB40i8VisVgsluMMG+FosVgsFovFcpxhDTSLxWKxWCyW4wxroFksFovFYrEcZ1gDzWKxWCwWi+U4wxpoFovFYrFYLMcZ1kCzWCwWi8ViOc6wBprFYrFYLBbLcYY10CwWi8VisViOM6yBZrFYLBaLxXKcYQ00i8VisVgsluMMa6BZLBaLxWKxHGdYA81isVgsFovlOMMaaBaLxWKxWCzHGdZAs1gsFovFYjnOsAaaxWKxWCwWy3GGNdAsFovFYrFYjjOsgWaxWCwWi8VynGENNIvFYrFYLJbjDPf3XYE/BEQEEcEYg9YarX87uzeKIkQEAKUUWmuUUkezqhaLxfJ7p6CZIjKkdb9NHsaYIc0E3pH+WizHG0qKv93HkCiKMMbgOM4fRAcqCEtBIBzH+X1X6XeOiBCG4QFGpeu6hzQqi8VUKfWO75cx5iCD9lBlF9IppQ5IW2wAF+pksRwvFPeXPzSjo7hdf0z9TkSGfgeBIR0c/tkWPvti4/OttPVIyi3kebjrhboU9DCKogOuFSiksfxu+J0YaH9oP4DFxllx5yrueG+3vcUdMooiwjAkmUzied5RrfvRoFDH32RoFUShkPZotaVYtA5V3m8j/FEUHSBKjuNYMbJYfgcUdPO3MULDMDxANx3HwfO8486gLfYWFmtKYZB5JFpT0NFj1ba3+zstIgRBAOz/zbOaeXQ55gaaiNDX18ebb75Jb28vkyZNYvTo0b+VEXM8YYwhCAJWr17NQw89xOrVq8lmsyxYsIBbb72VioqKI/rCF8Rl8+bNfO5zn+ONN96grq6OdDrNVVddxfXXXz8kPMfD/SoWwp6eHtauXcu2bdsIw5Dx48czZcoUqqurh9pe+JvNZtmxYwf79u1j1KhRNDU1vaP2dHV1sXr1arZv344xhqamJqZOncqIESOGhCyKInbu3MmOHTsOMrg8z6O5uZmampqhz8B198/4H84ItFiOJYXvXTabZcuWLbS1tTFq1CjGjh1LMpn8PdfunVHQgk2bNvHoo4/y6quvsmfPHubMmcNHPvIRpkyZckTe9TAMUUqxb98+br/9dn79619TWlqKMYb3vve9XHPNNdTW1gLHR/8tfKZhGLJx40ZWr15NT08P9fX1nHjiiYwcOfKAenZ3d7Nt2zY2b95MZ2cnZWVlTJo0iUmTJpHJZN62EQXQ0tLC7t27CYJg6P1KKcIwJJvNUl1dzeTJkykpKWHHjh1s2bLlkIPUMWPGDNX3UAPhPzRnzO+bYxaDVmxdL1myhFtvvZX29nauvPJKvvSlL5FIJIamPIspeDIKo6rCl+RQo4aCp6nwJXQc57d2A0NsLBXyK4xqhudnjMH3fUSEjRs38qlPfYqXX36ZCRMmUFNTg+/7h3UlH4qCoZpOp5k+fTqe59HW1sbSpUuZN2/eUF0OVdcoiobuS6HeBVd48X0tfBaFaYV34ioPwxDf91m+fDlf+cpXePrpp+nv7wdg9OjR3HLLLdx8881D7RocHGTZsmXcf//9vPDCC0RRxHXXXcdnPvOZoc5/JHUpGFHZbJYnn3ySr371q6xYsYLBwUEAMpkMCxYs4Oabb+aiiy7i/7N33vFRVXn/f987fdJ7JYFApASSGDBUkaJYESkrgm19dFUEe8MCNpaiuxbE1dW1LBYEG0V2aYKKIJESSgo1gYQkkErazGRm7r2/P2buzSQESBD3+e1jPr58BcK5555z7jmf8z3fdhRFobq6mo8++oiFCxciyzI2m00bl27duvHss88yZcoUJEmiqqqKVatWkZWVRVJSEuPGjaN3797a+HaSTif+E1CFj927dzNv3jy2b9/Otddey4MPPkhKSgpwuqapNWeqa/xMprP2lG0vfDX+Z6pPURScTieiKFJSUsKcOXP46quviIqKIjQ0tAWHtwe+2pq4uDjS0tIoLy9n+/btFBcXa1ynlm09Tqpg0ZozfQUOX3PkmUyR7YH6vpKSEt5++22WLFlCWVkZ4OG0Pn368Mwzz3D11Vfj5+enjc/nn3/OqVOntHoiIyO56aabeOCBB0hKSjqtb21B5WtRFPn0009ZuHAh1dXV2p4iSRLBwcFIksSAAQN45ZVX6NevH19++SULFy7k1KlTNDU1aXW5XC7mz5/PnXfeSWBgIA0NDaxZs4b169djtVr5wx/+QEZGBhaLpcPj1Im28ZsGCciyTFNTE9nZ2RQXFxMYGMjevXuprq4mJiZG08RAS38mo9Go1eE7yXy1Mqpq2PdUqWq1fJ/vSFslScJgMGgTX63P93fqYpYkiUOHDpGbm8v06dN55ZVXTquzPZu6WiY+Pp7Zs2djs9n4+uuvycnJwc/PTxuD1lD9UtR2+45D6/KCIJzXmLSGWm9eXh7PPfcc+/btY8KECYwcORJRFCkqKtK+q8FgoLq6mvfff5+XX34Zp9NJVFQUFotFMyWejxnY6XRy6NAhysvLueeee0hLS0Ov17Np0yZWrlzJwoULSUxMJDU1VTND+/n5cc0113DRRRfhcrnQ6/UEBASQnp6OTqejpKSE1157jY8++oiIiAjWrFnDjz/+yIIFC0hNTdUOEudrPu1EJ9oDXxNYUVERJ0+eBODw4cMUFxdrApovVKFDp9Npa7y1n1NrvyJfPlN59Hw0H76HRLPZ3OJ30FKQVAWco0ePcvjwYf7whz8wc+ZMkpOTO/ROtS6A0NBQZsyYgSAIfPvtt5SWlmI2m8/oSqEe9tWx8DWFquPQmudVnI+hyVfAW7duHcuWLSMqKorZs2fTu3dv1q9fz/vvv897771HUlISGRkZgGcvuPPOO0lOTiY6OpqysjKWLVvGxx9/TEREBHfffTchISHtEhrVQ/CIESOwWq04HI4WCogdO3bwww8/0K9fP8LCwrQ6JUlizJgxXHzxxdqY6HQ6hg4ditlsxu12s2jRIhYtWkRoaCjl5eV89913/PWvf2XEiBEtNG//7day/038pho0QRBoaGjgp59+wmQyMXToULZv387WrVuZOHFii0mvKAoGgwG3201paSm1tbWA5+QQFhZ2Wt16vR6Xy0VRURENDQ3o9XqioqIICgo6r7aqAmBVVRWVlZXodDrCw8MJCQlpUdblcmkni5KSEqxWK7GxsdTW1tLQ0IDVaiU4OPi81NDqgrbb7Zpw2BZUbVB9fT1WqxWLxUJxcTF1dXX4+fkRExODyWTSvoHb7aa2thaHw4HZbCYoKKgF+bS3jYqiUF9fz6ZNm8jNzeXee+/lmWee0cjZV9unKAqNjY2Ul5czcOBA7rvvPo4cOcKbb74JcE4zRmuohOnn58eUKVOYOHGidpIEGDx4MKIosnnzZvbs2UO/fv00NXxkZCTjxo3juuuuO61PkiSRn5/Ptm3buP/++3n44YdZv349f/nLX1ixYgWpqaktfNvU5zoJpxMXGuocO3XqFNnZ2UiSRGpqKhUVFezdu5dhw4bh5+enCWS+AQQ1NTVUVlYiSRJhYWGEhoYCLeeqXq/H7XZTXl5OdXU1AFFRUadxXHtwtneHhIS0cG9Q+QegtLQUm82Gv78/ACdPnkSn02mc1NF11dTUhE6no6mpCZfLdVpUpy9sNhs1NTX4+fkRGBhIeXk5lZWVWCwWYmJisFqtWpslSaKurg673Y5erycoKKjDJmb1YFdXV0dWVhZut5s//vGPTJw4kYCAAJKSkjh8+DDbt2/n8OHD9O7dm8jISGbOnHkaP8bHx/P000+zb98+qqqqNDeSs8FXMBo4cCADBw48rczDDz+MxWJh6NChREZGAs3C9JgxY5gyZYqmKIDmverYsWNs2LCBa665hqeffpoTJ04wffp01q5dS0pKCqGhoS0sUJ0uI+eH31SDJggClZWVHDx4kL59+zJ+/Hg2btxIdnY2EydO1DY81UH+wIEDvPnmm6xcuZK6ujoEQaB79+489NBDmi8WgNPpZN++fSxcuJBNmzZx6tQpTCYT/fr147HHHmPs2LFtmk/bgrr5njp1in/+85988MEHFBUVodPpSElJ4b777mPixIlaXfn5+Tz99NNkZ2cTGBiIoii88cYbvPbaa4iiyJVXXsmcOXOIiIho90buO4HVv6tt84U6Tg6Hg5UrV/L3v/+dCRMmYLfbmTt3Li6Xi/DwQ2IyRAAAIABJREFUcKZNm8ZDDz2knXQOHz7M3Llzyc3NJTU1lZkzZ9KzZ892j5FvW8rKyti8eTPdunVj/Pjx6PV6bDYbRqNRa7eqZYqKiuLhhx/GarViNpspLy8/K4Gea4zAc/qPj4/XVO6qacXPz4/o6GjAQ8SqqdntdiNJEk6nE6fTSVNTE2azWRMmjUYjLpcLnU5HbGwsISEhdOnShfDwcCorK3E6nZoA2olO/CdQWVlJYWEh8fHxjBo1ihUrVnDkyBGqq6uxWq1As8N4cXExS5cuZdmyZRw5cgS32010dDS33norf/zjH4mLi9PKHjhwgMWLF/P1119TWloKQPfu3Zk2bRqTJk0iODgYaL+zfl1dHatWreKdd95h3759yLJM165dueOOO7jpppsICwtDFEWKi4t5+eWXWbt2rXZoWrVqFatWraKxsZFLL72Up556irS0tPOK8Pbl2La0NWr/N2/ezOuvv86QIUMwmUx8+OGHHD58GLPZzB//+Ecefvhh4uPj0el0nDhxgjfeeIPvv/+emJgYHn/8cYYMGXLGd5ytXaqQCmCxWHC73ZrpULWCtK5XFTZdLhcmkwl/f3+Nq9T+dETYUV1T1LqtVivff/89mzZtIjU1ld69e2uCqcqNdrsdSZJobGzEZDJpFgyz2YzD4UAURfr06UNQUBBGo5G4uDhOnTqF3W4/zczZKZidH34TAU3VTLhcLrZv305ZWRmTJ0+mX79+xMbGsnv3bioqKoiIiMDlciGKIgUFBTz44INs2bKF4cOHc/nllyPLMuvWreNf//oXN910k/aRd+3axf33309hYSHXXXcdAwcOpKamhlWrVrFixQpNQDuXOUptZ2NjI59++ilPP/00KSkpPP744zQ2NvLNN9/w1FNPIcsyU6dOxel0Eh4eznXXXUdaWhoFBQX88ssv9O/fn/T0dFwuF71799ZItKPwXdBngrpoKysrOXToEIsXL6a+vp7Ro0fTp08fDhw4QFlZGbW1tZhMJiRJwm63U1BQwLFjx/D399d8xs7H78PpdGK32wkNDaWsrIwlS5awZ88eUlJSuPrqqxk+fLgmAFksFmJjY5EkCYfDcUaNYEegkogsy5rfiCRJmmOtxWIhLi5OO+0qikJZWRlvvPEG7777LhEREQwbNozRo0eTlJSEJElER0djtVr529/+RklJCXv37uX48ePceeedAOzZs4eVK1dy8uRJbr/9dvr376+9vxOduBDwXYv5+fkcPnyYwYMH079/f7Zt28bhw4c5duwYXbp00TRox48fZ8GCBSxZsoTevXtz//33ExISwsaNG9m2bRuXXnopkZGRiKJIfn4+L730Ehs2bGDgwIHcdtttGI1G1q5dy88//8yQIUMIDAxsl1+T2tZ169bxyiuv4HA4uPPOOwkJCWHt2rUsWLCApqYm/vSnPxEaGkpQUBAjR44kPj6eo0ePsm3bNuLi4sjMzEQURbp06UJERMR5+XipHH82gUU9KNfV1VFTU8MXX3yB3W4nKSmJCRMmcOTIEerr66mpqSE+Ph7wKAGKi4s5duwYDoeDhoaG0w7S54LKVQEBAVxyySVs2rSJDRs2cMkll9CjRw+ysrLYtWsXcXFxdO/eXROCVLOoikOHDvH1119TVFTEsGHDCAoKOi2DwLmg0+mwWq1IkoRer0dRFLKzs6mrq2PIkCFERUWdVueyZctYuXIlYWFhpKenc/3115OUlIROpyM6OpqYmBjeffddqqurOXr0KL/88gtz5swhOjqawsJCvv32W3bs2MFdd93FoEGDOqM8zwO/6Q5js9nYvXs3FouFvn374u/vT9euXdm5cycHDx4kPDxciyJZunQp27dvZ/r06cyfP1+bKDNmzKCoqAhAi9xZtmwZpaWlzJ49m0ceeQTwnJLuu+8+qqqqPB07x+apas5UH6TPP/+cbt268dZbbzFo0CDsdjuXXHIJDz74IMuWLeOKK64gMjKSyMhIpk2bRmNjI1988QU//fQTo0eP5t577z2t/t9iIqpEZDabMRqNNDY28sILLzBlyhTAE/1VU1NDUFAQoihq/iY6na5FUIFaV3ugjpUgCDQ2NmKz2Th69CgzZ87UTAbbt2/nyy+/5KGHHmLGjBkYDIYWZC6K4gXLFaf6kqjaOLfbzY4dO9i2bRsDBgwgNTVVa7d6ej1+/DgOh4Pa2lo+//xzLr30UubMmcPAgQPp2bMnjz32GK+//jpLly6lW7du3HbbbTQ2NjJhwgR+/vlnoqOjuemmm4iKiurQ2HWiE+2FKIo0NTWRn59PaWkpYWFhdO3albi4OLKysti/fz8DBw5EEARcLhcbN25k48aNXHHFFcyaNYt+/foBcNddd1FdXU1QUBAGgwGbzca3337Ltm3buP3223nsscfo0qULAHfccQf19fWaSepc81r1By4pKWHVqlW43W6effZZJk2ahNlsZvjw4cyaNYsNGzYwfPhwBg8eTFhYGJMnTwZg5cqVZGdnM2DAAB588EHCw8N/20Glea2azWYsFgtlZWU89NBD3H777YSGhiJJEpWVlVitVk3gU/lODdo4H+HR10ds6tSp6HQ6/va3vzFp0iSCgoIoKyujZ8+ePPLII/Tp0wdoNosePnyY+fPns337dhobG3E6nUyZMoVp06YRExPTYV9Y37IGg4GCggI2bNhAaGioJpyrbXa73eh0OoqLiwHYsWMHX375JcuWLeP555/n8ssvJyAggAceeIC//OUvfPPNNwQGBnLvvfditVqZNm0a69evR6/Xc91112kuP7/HXKG/FhdcQPMVfE6cOMGOHTvo1asXmZmZ+Pn5kZmZyQ8//MDWrVsZOnQoer2euro6Nm/eTGRkJBMmTNBSc5jNZsxmMz179tS0XeXl5fzyyy/06dOHSZMmaf5YJpOJ8PDwDi14dYOvrq6mvLycjIwM0tPTaWpqQpIk0tPTSU1NpaCggPLyciIiIjQVsNvtprGxUTO1SZJEU1MTBoPhV0WStge+puERI0Zw/fXXa+png8FATEwM0Hwqj4uL49FHH6W8vJzIyEgSExPPi3TUPqpC4MiRI3nuuecICQlhzZo1vPTSSyxfvpxLL72UAQMGtPCV8W1PW/ANAPH1V2hrHNUyKnnu2rWLd955h4CAAG6//Xbi4+ORJInAwEAmTJjAmDFjyMjIQBRF9uzZw9tvv82GDRv47LPPSE5OJjw8nDFjxjB48GB2797Nhg0b+OabbygpKWHkyJEsXbqUIUOGaH4zqv9NJzpxoaCauUpKSti3bx9xcXEMHDiQ6Oho0tLS2LBhA3l5eVRUVBAfH09FRQV79uzBYDBw7bXXkpycjN1u1zTXiYmJmlmtqqqK/fv3ExcXx1VXXUV0dDQOhwNBEAgODiYsLKzDB8rq6moqKipISkqid+/emutFamoq6enprF27lmPHjjFo0CDcbjdutxuDwYDT6cTtdmO32zWXA0EQWgQuXGj4+pWdOnWKzMxMLr/8cs1p3mAwEBkZqZURBIHIyEjuvPNORo4cSXBwMCkpKe2ycLR+r6/2rqSkhPr6egRBoKmpSfPNq6mpweVytXCl0Ov1REREEBcXR2VlJaWlpZSXl1NbW3taUIe656q/O5Pwpj6nKArbtm3j2LFjjB49mi5durTgtBEjRpCWlqalLSoqKuKdd97hk08+4cMPPyQ5OZmLLrqI/v378/nnn7Nnzx6+++471q9fz6effkqvXr147bXXuOqqqwgJCen02f0V+E00aKqatqCggNzcXG666SasVisul4uLLroIo9FIVlYWTqcTo9GI3W6noqICf39/EhMTNc2PGi2pnmZEUcThcFBRUcGAAQM0DZzZbNZs+Wp0SnugCn3V1dXIskxsbKxmFlSFTDW/jprOwVdN2zpK5be8JaF16g7VvyomJkaLjDQajVqf1EUqiiIRERGMGzfutDo7umh0Oh0WiwWj0UhCQgJTp04lOjoat9vNwIEDGTVqFN9++y0HDx7UzIDtHY+2/PDO5VhqMBjYs2cP8+bN48SJE8ycOZNRo0Zp5ker1cqAAQNaPDN06FAEQaCgoIB9+/ZRVFSkRYF++umnbN26lZCQEK699lq6du3K4cOHWbJkCYWFhdxwww1ERkZ2yHevE504F3w33KKiIo4fP058fDwhISHU1tZquaf2799PcXExcXFx2Gw2KioqMJlMmnlQDZ5S01qoXNjY2KhpydTgAdWBu3W6nnNBXYu1tbU0NjaSmJiIn5+fZrEwmUzodDpsNpvmw+TLjSpXqn/uSKqdXwuV12NiYggKCmqhMVTHQG1XQEAAo0ePZvTo0W32vz1Q9y2Xy8Wbb77JP/7xDyZNmsSMGTNITEzkp59+YtasWTz33HP4+flx5ZVXat8hKSmJBQsWIEkSJ0+e5IMPPuDdd99FFEVmz56tBUipfWjP91N5q76+nh9//JHa2loyMjK0IDz1O6jRpOCZm8nJydx///3k5eWRnZ3N8ePH6dq1K1u2bOHTTz9l06ZNNDU1ccMNN3DNNddQXFzMqlWrOHbsGJMnTyYhIaEz+v088Zto0ARBoL6+nu+//x5RFFmzZg2rVq3yvNBLCsePH2fnzp0MHjy4hYTdWhDx9S9QBT/1963NdR2V1FuX9X3XmTbgs9V/Ll+I9raptSbpTGHwOp2uxanrTAv1QkTQqO1SBTS9Xk9MTIwmEJrNZi2nkc1ma9EW376of/d1dFXHWu332XKP+T6bn5/PnDlzyMvL45FHHuHmm29uITypG5WqyVO1n/7+/kRFRVFWVkZ9fT05OTksWrQIvV7PggULGDFiBIWFhcyZM4eDBw9itVpZuXIlR44c4dlnn8Xf379FiphOdOLXQJ3zTqeTnJwcysrKyMnJYdu2bZrQpTr/Hzx4kPT09NM4Alpyh6/zua/mpPX6Oh+tUFsc58vbqjuDKpT5trH1Rn2hhDPf/eNMfKkKYBaLRUvF0RZn+mrzf03bVC46fvw4eXl5JCcnc8stt9CnTx9kWeaqq65i9+7dLFq0iLy8PIYOHYrFYtHapGrGoqKiuOWWW9i3bx95eXkUFhbSvXv3Fm1sTztVgTE/P5/s7GxSUlLIyMjQfKbV+lTO9G1HVFQUUVFR7Nmzh4aGBk6ePMmiRYsoLS3lnnvuYcqUKTQ1NfHkk0+SnZ1NVFQUa9asYe/evbz44ot069btvE3Fv2dcUAFNnVCqxik3N5fg4GDGjh2rhUIDWv6wHTt2MGjQIC2lxbFjxygqKiI6OlpLbOh70pNlGavVSkREBCdPnqSsrIzExEQtivB8Ei7q9XqCg4NRFIWioiKtjeokVZ1DfX3aziWk/Rr4kou6OFS/D1/fiDMRa1ukUlNTw44dO6iqqiI8PJyMjAzCw8M7FGWqwmAw4O/vT3V1NTabrUWkpBrwoZKf2hffjQLQTC++RAie6KKsrCw++eQTGhsbSU5O5rbbbiMxMVHTBqjPHDp0iLlz5/Lzzz9z3333cdttt50m8ImiqGlE1fxn6vvV8Hyj0UhqaiqffPIJoaGhmM1mKioq2LRpE7W1tbz33nv069ePt99+m23btpGdnc2wYcM6tWiduGBQ539tbS2HDx9GEARGjRpFVFSUptkpLi5m79697Nu3jyuvvBKDwaAdiCoqKjRzv6pJV32JwBM56O/vz8mTJ6mpqdECjdS12pF5rK7ngIAArFarpklTOcrlcmlmQ9/ci7+V9qS1FUPlnLNFOp5Nm6Nq/evr69m1axfHjx8nMDCQjIwMYmJiOiRQquUaGhpwOp0EBARgMBhwOBw0NTXh5+en+RKrHKqaelXNm+o+YzQasVqtNDY20tDQ0CLX3O7du/nss88oKSkhJiaGW265hX79+rXQEKr8KQgCv/zyC+Xl5YwePZqYmJjTAup8rUgqn9bV1eFwODShOzY2lrfeeouQkBBNwHvzzTcpKChg3rx53HDDDbz33nssXryY/Px8EhISWvB3J9qHCy7OqmRz6NAhioqKGDBgAHPmzOGNN97gnXfe4dVXX+XOO+9EFEWOHTuGJElERERw2fDLqK6uZvXq1eh0Om0yu1wuCgoKtbQJkZGRZGT0Jz8/n2+//RZRFPH390ev19PQ0KAFFLQn2kYUPae80NBQIiMj2b9/P7t27dLuwMzJySE/P5+LLrqI2NhYHxJoNnWq//9a+AoXnr4bKSsrQ5Ik/Pz8tIWrCqBnygDuO/k9Qq1CcXExL7zwArfffjsvvfgSRUVFXqLtWLoLWVaIjIzkkksuoby8nJ07d2IymQgKCtL+bjZbCA9vvmZFEEQMBs+GoY6rmkzSd3OQZQ+pFhUVsXr1atasWcOWLVu0/EnNfhZQWFjIX//6V7Zt28ajjz7Ko48+SmBgIEajUUv3oSgKNTWnKCoq0jR8qjl9165dHD58mLCwMMLDw/H39yc2NlYzzciyjCIrhIeFaxGeqhlJDVXvRCcuBHy1YOoVO927d+eRRx5h0aJFvP3227z11ltMnz6duLg4SkpKqKqqIiIigvT0dOx2O+vWrdMimC0WC84mJ2VlZZomOzIyktTUVCorK9m4cSPl5eVa6pu6ujqKi4tpaGg4TSPXFlSeCgkJISoqiqKiIg4ePKi5FOTk5JCbm0tcXBxdunRpU2OmHrzb0gKeL9R1XFRURHV1NUaj8TS/NkEQWnBOW4KCqgioqqrinXfe4a677uKxxx5j7959KMrp1oCzQS0XEhJCYGCg9n0FQSA0NJSGhgaOHj2qpa7Q6XSUlZVx+PBhGhsbMRqNBAQE4OfnR3b2bu0awNjYWM2UDZ5cclu2bGH9+vV89913nDx5sk2XGIATJ06wZcsWTCYTgwYN0hLeqmNRV1enRa76+lP/9NNP5OfnEx8fT0xMDAaDgbi4OAwGA/X19ZqAGRISouXhjIuL03LLqeNxIb717wkX3MQpywoOh51fftlOeXk5U6feTGBgEDa7AwEQBJHevVOIiorm3/9ew5/+9CeSk5O59rqxrFu/noUL3+TIkUKPL5Eis37deoKCAnnrrbcQBJGQkBAmTfoDGzdu5Pnnnyc/fz+ZmQM5daqGlatWkZraj9defRVJkr0Tr+12eojCo5GKi4tn0qQ/MHv2LB577HEm/eEP2Gw2li1dhtstMXbsOKKior1aEwOKol7OK3uvOZHA0zvv/+cLAb3eQGpqGikpKSxZsoSqqhoSExNISEhg/PjxhIZ6kkpKkozd0UST06U9e/q7BWRZQpI8go3V6oes0GLBtLtl3vEKDQ3lsstGsGLFSubNW0Dh0WPExcaxZs0aNm/+iSlTpjB02DBkxTMXcnL28vHHn1BSUkJFRTkNDY2sXv0vDh06QkBgALfdeisDBvT3MV2L6PQGDAYZUadHVhRvPxQURaahoZ4vv/qaTz75lISEBDZv/onde/bidrkRBM/pb+TIkYwfP55ffvmFWbNnExEerpnS9+3bx6ZNGwkPD+fGGyfTvXsPnE7P/XSCqMNs0aPT6enZqzeffvYZjzzyKN27d2f9+vUMGjSI3r37aIJnJzrxa+F1PkAQBHJz88jP38+oUaOIi4unqcmpaU+6detGXFwcu3fvIS9vP336pDB8+GX88MNmVq5cQUVFJVdddRXBwSFs2LABl8vJgw8+QP/+AzAYjVxxxRh++mkrH374EUePHmPkyJEYjEbW/HsNMTHRzJgxnR49khGEsyeR1un0SJLn7tsxY65k+/YdzJs3j7y8/YSEhPDvNf9m7959TJ8+nZ49e3nWLc3rRZJU3pS9B13xjBx9Lng4ydPWnj170adPCitXrsRms9OjRw8SEhK47rrrSEhI0LRqTU1OXG4JH8MwLXlT9UmTcbklLBY/9HqvOVQUwctH7YEo6pFlhejoGAYNGkxWVhZz5swhJyePbt26kZW1jW+/XUWXLl1ITU3D3z+AH374kfnz5xMYFMTF6emEhIRQfPw469auo6SkhAceuN9rUWhuu6jTYzSaMBpN6PUGRFHnHdfmdnrGGr7//geys7NJS0ujZ8+eXkHPY1XQ63UcPXqMJ554gqamJvr37094RASFBYWsW7eOysoKZs2aRVJSdyRJTQciYjSaEEWRSzIH8s/FHzPzqacZMngwK1euJC4ujsTErp6rHRUF4Vftj78/XCABTZ3uMno9NNSf4tChfLp27cLQoQMRRTCbPAvJ5XITGxvFoIH92bx5M0ePHqFXr4vo0yeZ1197hb/89a98t2EtGzeuRZZlwsLCuP/+BzCZDEhuJ6JOx7Chg/ng/b8zf8ECvv5qKUs//wRRpyMqKorBg/4HAFGUz7nwPWQEQYFWbr3lJlxOGx988AEvPv8sRu8JYNasp5g69Q8IgoQoKt6+yoiiQFCQH0lJiQQGWhFQEHCjKCoZnU8yVgWdTqFbt0Rmz3qKhQsXkrVtM1lZApdccglXXjmaiIhQBMDPaqRLXBTBQf7eZepWa/GpUUYUFUwmHTExEZSXBxMTE47J6PnsOp2nLy2/4dmgICAzZEgmLy/4M3PnzePdv7+FIAj4+/lx0+SJPProQwQHBSBLThRFory8lO2/bKGwsNCbwdtKVeUJNhYXEhcfz3XXXukVFN0IKFgtBqIiQ6ivqyc8LAijQYeAjIAbARFZlrCa9XRNjEOnF9i7Z6dmrpFkGbPZTEKXGBTZSWhIAFGRoWzd+hM//7wZ2fvv/fr25r7p07n++nGIggw6BZ1O/WYKRqOOq68eg7Opgffee48ff/iOyy8fwfTpM4iLi0FRJHQ6AZA6/I070YkWkCVEUaCurp6ysmLCw4Pp1683ISGBGPQiep2CIMpERoaRnt6Po0ePUF5eQkPDKbp3T2T27KdISIhh+fJvmD/vJWRFwWqxMHnyZOLiYjAZ9ciym/T0vsyb9yLvvfce//7Xv9i0aT2KohASEsLAgXcTGhriWQvn4ExR9PAUKFw/9moa6mt49913+dvf3kAQBMLDw3n4oRncdvvthIUFIQjN7g2CoMPPz0RcXBShIQHoRBCQvELP+VkhRNGjlQkLC2LGjHuxWo388P337Nj+Myl9+zJgwMUkJMQCeixmI1GRoYQE+6PXiQiCgihINHMgXp7RYzTqiIkKIyI8iNiYCPz8TKCc7TB8OnQ61e9Lxx//eCvg5rPPPuMf/3gbh8OB1WJh0ODBzJg+nUGDL0GvF0nqlkBSUgJbt24le2cWTU4nJm8S2Oeff4abb76ZuLhoH1cYBRQ3BoOAv5+JiPBgjEYRRXFpbfT4MQo47DaOHDmA1Wri8stHEhMTjYAMeMZBQCQ42J/ExDhWrVrFzp1ZgMcNKD4+nieemMuNN95IWFiwt14BULx7HgwZnMmcF2fzxhtvsHLl16T06cPDDz9Mz57JgIwo4B3rtsZOaPWzEwCCcoF0jh6tkmeyu1wuamvrEEURPz+rdu0Q4PWjUqirq8XtdmOxWPHzs3pt5Hokt0R5+UmKjxcjCAJdu3YlODjEu4ECCFrItsvlUeWXlpZhMOjp2rWrdm1JR+3cnvaJVFSUc/z4cURRJDExwXttieh1rhW8mh7PArXZGmls9Fzv5O8foI1Dyzo71pbmZ3Q0NTmw222AZ5FYLFb0eh2K4skxZ7M1YrVa8fPz9y7WtrRinvGqq6vV0nAEBgZ5Iz49fWlu37lV0L7/3tDQwIkTJ6ipqSEiwqN6N5tNLRItulwubDYbiteEKcmSZhbW6/WauVMlnKamJurq6pBlWVPx+zr0KgpeP4x6PBpHffPcUABBwGQyaolqGxttlJefpLKyElmWCQ/3mC2DgoJRFI8J2OPr1/q7eU6gDocNl8uFxWLFYDCiEoxv+U504nzg62/qdrtpaGjA5XJjtVqxWi0tHOw96YTs2k0YFosnOEgUdd6bUGooLS2lqclJbGwMkZGRPpGTnoMNePyaamqqKS0tRZYV4uPjtTsYPfwB7TmsqdoTQYBTp05x/HgJLpeTqKhoIiOj0Ot1gKJxp+fPAjabnfr6ekwmI/7+AV5t3a/fgjx+VDpcLhdNTQ5cLreWnFU109ntNhoaGjCZTPj5+Xt9ok6/2UT15WtoaKCpqQlRFAkMDPLZxzqarFblQ4VTp05RUlJKY2MjERHhxMTEYDabkWXP/ifLkpcDazl5spz6+nqCg4O9V3KFIYoeYcjDhR4ustvt1NXVaQElAQEBmEwe/z/P/BI1nzbPLSueOWS1+rXgPtXkbLc7vKmnTuJwOAgJ8bgANV8JprSYm+qz6k+bzY7T2YTVasVoNGnj1fbcUp8TvYqNTsuELy6ggAaS19Knrjm3u9kJXBRbO7N7NFiCCG6XrC0KUDCbDS3Kud2KNjFluTnFhKgTMRr1iF5icblkZEVGr/MEFYg6kfbGDEhuT50mkxFR9OrJZAWn0+11ptXR1p7s1bCjjmJ79m2172eCLCu4Je979ToE0dNvRfaMl3ete30iWtUltPy7yieirlV5pbnN0Pwt2jMbZFlBcstePzj1uyi43DICPiYS4fR3KYq3D/i8y9teRfZph6wgK3g1VS37o47xaWMogDrNZFndAD11qPNAlsHlkrymI4Mm9LV8R3Nwg8GgBxQkqTlaSmt/W23QKmk5luqfW5dXv0ena8bvFyo/ijqQJcWrmTgdsiwjiKDXix4elHwvQNdpa8VjRmzmXMHLnW6Xx91Bp9dh0HuEK5dL8qwzsVmD1Z75KAie1BRuScKg16E36BC873a5JK+fWevoSM/aBs8abo5A9L4TWuzf51ob6r+pa8rl8lgRPG0RfJ73OqYLrXjnDPBdq63bJXTQi0XlX7f3UnuDQY9eL2pj4HJLXp7RISDiltSxEzQuUxSVtzyBIHq9qDVMbY8sqaZXz09fnvHwqeenKHj207Y6oX4bWVIQdXj2XG+Nbrc38ILmFCmnc5miCcaiKOJ2u1FQMBj02vdoY4SaOVXo1J+1xq8U0Dwfuv1W+U50ohO2zZzxAAAgAElEQVSd6EQnOtGJllAAodWh/feOX+WD5kkBIeFyy2z4MYcvvvo3Zmsokuyj5vgdQb4AahCxMwT5gkPBx3RMx83fnejEfxqKV/3TkZnakWfOp/7/ZH2d8OB8x/VCfY/f7rt6dHOiXsDuaCA+Joi7bhtH98QYxDOZG36H+NUmTkUBlwIna2TKKptAZ0H29T1XX3QOU+N/qzx3wYP5lHOr4P9X0B7zQOsyQjvW2Jn66/tse8akPe860zvb+2xb7TjTs229gw4834n/82jLnamjJrT/diiKt7u/ss8ddA37/xpnmgO+fbyQ8+S3qret+rV34H2PoCDLTViMEglRZoItOkRNlfY7WghnwK8X0ADJawsX8cS1tbVWfDWXZ9jPOn5KOI9nLjR8ZVGPa3nz/x2tR43DvDBusxcWrce5bVfP08uo30j1ZWir3rZ+30q20eo/Ux2ty/nWI3P2+af+XS3XVh2+fRBalWtdZ+v5r84L3/a3bs//9jzuxH8WvnOkrbn0f0jeaBMyzbwp0Lw+RNq3FtTxUfeb881Eea41/J/cY9TvrY5F6zFq3VZfTmzNcb58cy5+aT0X22NlPBNvt1WudTtaj7PaXjfNe2cnH3rw64MEFFAEcMkeB1HF65PmW6nHqVxCVhT0Oh2iTr1qxFvFr2Si/y0NhKJ4neV1Agav4yeCN1jiPKDXeyamW2oek/9NbdqvHVfJ68Tc+saA5voFjwOpjyOwmrDWN+O0xzH2zDntzoTmXHVyi/oAdDrRG2nW/G5JkrWM7OrzoCYF1rV4XpYVFFlGEIXTnKE70YlfAzWYR10HOt3pDvf/rfD0S0YUwWBozoEmSZ7/27PGfYMDdDpP6g9ZPn/eVetsq61tvfe3hocD1TxjzQ0TNa5ReRFvEJ2kcZX6U6cTz+jM3xZ8AzI8SWfbNmmpt+qoAShub5CD77vbKqf+uyeitfk2B49VQUYnKBgNIrpOM3kLXBABDUHmdN1Zs+zs2ciMNMvJ6r+3lt3/m+CZzbICjY11VFVVIUsyFqsnk77BYOjQarY7miguOoYgCnTrloRep0dB5r87IaqOs7s5qmdgz/lPliRkWUFvMNPyTCzjmTcdnCMKXhu02Ko+BUVxIstuT/SaxmBna69njsuyhOR2IYgier0Bye1CkiUtQeR/3zzuxP+/0AM6UNwgSHjm8W81v9qrEznfen35XqCxsYGammrsdjsW7+0jZrO5nfZOTx1ut4vjxcU4mhzExcYREBjYjmd/DX7rta3uKRKCoEcQDLTsjxtZ9ibV9obcn7Gs4kRW3LROWHvWd2u6fj1nH0f1O6pCnO4M5ZtlArerCQTQ6bycKUno9eotPGpqAu+fO0U0DRcszUZbk1eSZQQESktLWfbFMgoLCxk3bhyjRo0CRb2092zGq/8/oQZHNDQ28NVXX/HBBx9QXFyMJElcccUVvPzyy0RGRqJ47zg7G2RFAQX279/Po48+gsVi4e9//zthYeHaJP5vcmpXFMUjdrklcnJz+Prrr6mpqWmZN0cBWfFcAnzT5JtITk5Gkj3h5TU1NXz//fd8//33VFZW4ufnR+YlmYwbN47IyAgPhZxjPBRvO2RJoqysjPXr17N161YaGhqx+llJT09n3LhxJHRJ0O7sq66pZs2aNWzdshWjqfkOQVmWiY+PZ/z48fTo3gP1TrumpiZsdhsWswWT2QRK5x1znfj1UHNmVVZWsvpfq8nJyWHQoEGMHjXKk4fqv1TDoCgKsuK5V3jt2rV8+OGH7Nmzh5qaGoYNG8asZ2eRkZHh3cR1Z+2jR8stUl5ezsynZlJWVsZzs59j8JDBAJpm5r8N6hiJgsj+A/v55ptv2LdvH7Is06VLF8aNG0f//v0xGU1e31WPVWLXrl0sX76co0eP4na5SE5OZuLESaSkpKD3prg4FzVJsowoiJSUlHj26oJCRJ2Iol4HKHjG3Ww2c/3115N5SSZGo5HVq1ez6ftNOJucXg2fDkmW8bNauWnKFPr27eu5pF4QkSSJ+vp6rH5Wbx5OpY2grf/GL/fb4QJe9dRyYBVFwe1yI8syW7duZc5Lc2hqaqKyopLBgwbj5+fnTS7YbFn3mAw9yUzVXFQ6nQ69Tq+ZRVvU73Zrd6cBWvLTjl6YrkLy5qrx3PnY9rtlWaapqQlFUcjLzeOVl1/B4XBw04034e/vT/JFyfj7+SMgeLU3Z59wguLpi9Pp5OSJcoJDglvckSnLCm63S7t7E8Dt8uSXUS9E9r3UVk3KqLZVvTDZt6woilq/WgsV6jOKV4D2ra89ELx6crfLTX5uPu++8y6VVZU+ee7QxrVfaj8uG34Z3bt3R3JLFBwrYOHChXz44YeepLJh4bjcLn7e+jNhoWFMmDABRZZRdGe/sFjxfr/8/P0899xzfPPNN1itVkJDQ7Hb7Xz26Wes/nY1zz/3PP0H9MftdlNTVcOGdRv4bMlnGPQGnC7P3a+iIJLRP4OMizO4KPkibDYbmzZt4tVXX+XA/gNkZGQw7b5pjB49WhurTkGtE+cLdS3v25fDB+9/wNYtW7niiiuIj41n4MCBICieK4e8UPP1qbypzj9PAueWnlnqdUe+F2GfqWxH2qu+G2izPkVRcDia0Ol0HNh/gLf/9jZ5eXlcPvpyYmJi6Nq1K9HR0YjeBIPnEq9Uc5wsyzTUN1BbU4vL5dLO+GqbEND2A1/uk2VZO5i15kx1X0HxmOHU5Nq+/Wq9vn33IlHwcqbYcQ5Qn9+4cSOzZ89m185dJCQkYLaYWfPvNXyx7Euemz2bSZMmYTQZMegNLF22lLlz51JcXExiYiJOp5NvV632XMU3dx5XXHGFx5ojnp2XJLeEoBeoqKhg6edL2b59OzqdTttf9Xq9N1+bgR7de3Bx+sUYDAY2btzI4sWLtUvdBQScTicWq4XU1DR6XtQTi8XC9u3beeutt9iwYQNxcXHcf//9jB07Fn//AESR896z/6/jgt/FqULVlthsNvbs2YNOpyM5OZni4mKOHTtG7969W9isVaLRG/Toz9EslWDUDPMXAqqQZzQaW/xebZfvJeUWiwWHw8GJEyew2+089NBDPPLII6c9156NWvH+JwgCBqMBo9GovUsdHzUrvgqDsbnfrYmw9fvV/iiKclo9bSlPRVFscww6KqSZzCauuvoq0i9O1/wNVOFvw4YNvP322wwZMoSMjAwP0TZ4tJEff/wxY8aM4f777+eiiy6ipqaGkpISEhMTEUQBsR0qe3XjEUWR7t278+c//5nx48cTEBDAiRMn+Pvf/87y5ctZ8vkSkronERoait6gx2Q20a9fP5588kn69u2Lw+HAYrFgMpkIDw/H7Xaza9cu/vznP1NXV8e1113Ljh07WLBgAWFhYfTv37+FD1tHhdtO/L7hq509dOggTqeTpO5J1NXXcbzkOJlkInoz8/sewoAWWt/WdaqaFlUoac0D59NO9cCl8paBZk5SN3WVxwRBwGKxAFBRUUFdXR033ngjjz76KNHR0S3q7Aj0ej0mkwmDN+G02iZRFLXxUDlOPdyeqT8q1AvVVej0pwu5rdva+pm2ypwLarurq6v55ptvOH78OE88+QR33303QUFBfPXVV8ybN4/lK5Yz4JIB9OnTh2NFx1ixYgVOp5N58+Yxfvx4TCYTixcv5vXXX2f5iuX07tObxMREROXsvKlyfkpKCsuWLcNms2l90el0HD16lDlz5mCxWBg0aBAWi+emC6vVSlRUFA899BCDB3s0mGqi2qioKEwmE8ePH+fZZ5/lyJEjjB07VruTNDo6mhEjRqAooqYUUJ/thAe/mYAGnonb2NjI9u3bCQkJYcyYMXzxxRds3bqV3r17a+VUIUgQBE6ePMmOHTsoLi5GURT69etHRkYGVqtVK6OSUkFBAbt376akpASr1crFF19MWlqa9woPRWvDuaCSSX19PVlZWRw6dAiz2UyvXr1IS0vDYrFoC6impoa9e/dSU1PDli1b0Ov1FBUVsXz5chwOBwkJCWRkZGA2m89rkbpcrha/q6qqYufOnZhMJjIyMtDpdOzduxeXy0V6ejoHDhxg165dBAYGMmjQILp37671/dSpU+zZswd/f3969OjBjh07OHjwINHR0QwaNIiYmJjTHPirqqrIycnBZrMRHR1Nr169sFgsHe6LKIqEhoYSGhra4vclJSWUlZWhKArp6elYLBacTiclJSVs2bKFXr168fjjjzNkyBAA4uPj6devn/Z8e9qglunRowezZs0iMDAQ8Myz2NhYpk6dyu7du8nNzeXEiRNERUVpz5lMJqKjo0lJSWlRp3pKLikpISAggKeeeoqrr76a5cuX8+abb5KdnU16ejpOpxOz2axtCOez8XTi9wmV1+rq6ti9ezeiKDJ06FByc3PJzs5m5MiRBAd77kH0XHKtaJyUl5fHwYMHcTgcdO/enYyMDEJDQ1vMPb1ez8mTJ8nJyeHIkSPIskyfPn1IS0sjKCio3ZzpK5zZ7Xby8/PJzc3F5XKRlJREWloaYWFhWpnGxkZyc3Oprq5m586dNDQ0UFxczLp16zAajYSHh5Oenq5xRXs3aFUT5nK5mm+XEUVqa2vJzs6mqamJ9PR0IiIi2Lt3L7W1tfTs2ZPy8nL27NkDwIABA0hOTtYEg6amJnbt2gVAcnIyhYWF7Nu3D4vFwoABA+jWrdtpioG6ujr2799PRUUFwcHB9OnTh+Dg4A6tfXVvO3XqFAcOHCA6OpqRI0cSEhKCXq9n2LBhpKWlUVxcTGlpKb169aK8vJzS0lL69OnDpZdeir+/PyaTiWHDhrFy5UpKSkqor6/vkHbUaDSSmJh42u93795NeXk5Y8eOJSoqClmWNatMY2MjcXFxHpOqjyCsfo/Dhw9js9mYPXs2EydO5MCBAzzwwAPs3LmTiy++WDsEX0iFy/8V/CYCmipwARQWFnLgwAGGDRvGmDFjWLp0qbY4VEHK7XZ7VLPffsuCBQvIzc3FZDJpNu9p06YxZ84cbRI3Njby8ccf89e//pWysjKMRiOyLOPv78+TTz7Jww8/jNvtPuupqXVbc3JyeOGFF1izZo32Hn9/f6ZOncrjjz9OXFwcLpeLwsJCnnvuOXJzcwkPDwdg+fLlrFixAp1Ox8iRI+nRo8d5CWhqe5xOp8eEmpfHs88+y549e3jiiScYOnQox44d49VXXyUnJ4fMzEzWr19PVVUVer2eoUOH8vzzzzN48GCcTidHjx5l1qxZ2O12kpOTWb16NQ0NDQQEBHDttdfy0ksvkZSUpF02rigKOTk5zJw5k+LiYkaOHMncuXOJj4/X1NwdgWpOgWYyzc/PZ82aNXTt2pXLLrtMu5fz6NGjHDp0iKuuuor09HRKSkpwOp2EhITg7++vzZeOjKe66FWhV5ZlnE6n17dPr5ktJJ/wL0mSqKur49ixY0iSRGRkpMd5GbxXsOhwODx31ala1Lq6Ok3zaDQaqa2tpba2tsWznejE2eArHJWWllJSUkLXrl0ZPXo0FRUVHD16lIqKCkJCQvBcqeNCURR++OEH3njjDX788UfNncHtdjNhwgSeeeYZevfurQkva9eu5c0332T79u3aOwVB4M477+Shhx6iS5cuAOfc0NX1UlhYyMKFC1myZAl1dXXaerruuut47LHH6Nu3ryYUvv3226xfvx6z2YxOp2Pbtm1kZWXhcDgYMmQITz31FMHBwed9mFEP0GVlZcybN4+vvvqKyZMn07t3b+x2O//4xz/46aefSE5OZv/+/RQUFCDLMn379uXZZ5/lqquuwmKxUFVVxfz58zWt/d69ezl+/DiyLDN8+HBeeuklMjMzNSFVp9NRWFjIa6+9xtatW+nbty/PP/88GRkZHXJ3UIVSPz8/LBYLxcXFNDY2YjAY0Ov12O12ysvLURQFPz8/dDqd9rOqqgqHw4HBYECn09HY2EhdXR1dunTpsNCjzi3wzCOj0Uh5eTkrVqzA7XYzcOBAQkNDW2hH/f39qa2t5dChQxgMBiIiIrBarZo1wWQy4XK5qKqqwul0Ul5eTm1trSYj+Pn5YbPZKCsrIzw8XNO2duI3NnHa7XaysrKw2WwMGDCAHj16kJiYyI4dOygqKiIhIUEjle3bt/PEE08gSRLz58/XNCgbNmygsbFRu7TW5XKxfPlyZs6cSWJiIu+99x79+vWjtraWb7/9lvr6es234FwCkqr2r6qqYvHixXz33XdMmTKFu+66i6qqKj766COWLFlCVFQUM2fOBDxamddee42amhrN/n7LLbcwfvx47HY7YWFhHbqw3beM2h69Xk9eXh7Tp0+ntLSUF198kVtuuUUTEEwmExUVFZSVlfGXv/yF+Ph4li5dysqVK1m3bh2ZmZma4GMwGMjLyyMmJoaPP/4Yi8XC+++/z9atW1m/fj333HOPpkFrvizXjsPhoKGhQSPj84klUdugCsF2u53du3dTW1vL5MmTiYuL04S4mpoaJEnCbrfz1FNP8cUXXyAIAn379mXKlClMmDCBgICADgm9rc0bqoB28OBBSkpKuP7664mIiNDa4HK5yMvLY9q0aTidTkJDQxk5ciS33norAwYMACApKYmAgAAef/xx3njjDU6dOsXQoUMZNWoUeXl5fPbZZ6xcuZLu3bszf/58kpOTgU4fi06cGapJTJ2v+/bt48CBA9xwww1ccsklbN68mV27dnHkyBF69eqlHah2797Nq6++SnZ2Nv/zP//DuHHjCAwM5IcffqCsrAyHw6FpsX788UdefvllampqePLJJxk1ahRGo5E1a9Zoh8L2QOUDSZL417/+xYoVK8jMzOSuu+4iNDSUL7/8kmXLlhEcHMyTTz5JfHw8UVFRPP7440ybNo0tW7bwz3/+k2HDhjFlyhT8/f0JCAiga9euv8oPThRFCgsLmT17Nhs2bODee+9l2rRpxMTEUFdXh7+/PydOnEBRFO655x4uvvhi1q1bx+LFi1m9ejX9+vWjR48euFwuzSwXEhLCM888Q1JSEsuWLWP16tWsXbuWpKQkwsLCtO+lHj7dbremzesoVN+4iIgIJk6cyGuvvcbixYs1DeNnn31GQUEBU6ZMISkpiaamJhISEhgzZgyffPIJH374ITfeeCOiKPLPf/6Tmpoabr31VmJiYlqYm88FX7cYtV0FBQXs37+fPn36kJKSgsFg0LS3iqJw8uRJHn30USRJIjg4mIsvvpg77riD4cOHI4oiPXv2pFu3brz44ot8/vnnFBcX07t3b8aOHUtDQwNLlixhyZIl6HQ63nzzTVJTU7W2/N6tD7+ZgKZquvbu3YvFYiElJQWTyURiYiI//PADubm5JCQkIMsytbW1fPnllzgcDmbPns306dO1ejIzM1toeKqrq1m1ahUREREsWLCAsWPHapv28OHDaWpq0t7fHuFMEASKi4tZv349PXv25OmnnyYpKQlJkggLCyMnJ4cVK1Zw4403kpSUhNVqJSMjg8bGRs0Mm5CQQGZmZptj0F74BkXk5ORop7jZs2dzxx13tAhecLlcREREMGPGDG644QYArFYrP/30E/v378dut2taJ0mSiI+P5/HHH2f48OE4nU7sdjs7duygoKAAaCYHRVEwGAyEhYVht9s1H4KO9qUtiKKoma9DQ0PJzMzUTAoul4uGhgYcDgcrVqwgJCSEkSNHApCVlcXcuXMRBIHbbrutQ6ZrdQ6o31qWZfbt28eXX35JTEwMkyZNIjg4WDsk+Pn5kZaWRkpKCjabjfz8fN5//3327t3Liy++yOjRo0lLS2PevHksW7aMoqIiIiMjCQ0N5dlnnyUrK4vAwEBGjBjBxIkTSUhI+N0TTCfODXWOiqJIQ0MDBw4cwOFwEBkZSXh4ODExMVRVVZGfn8+ll16K1WrF4XDw448/cvDgQW6++WYee+wxoqOjEQSB/v37awKXwWCgurqajRs3UlZWxrRp07j33nsJCgoCoH///hq/tkdAUjf7goICNm3aRHR0NA8++CBXXHEFAJGRkRw9epSsrCwOHDhA165d8ff3JyUlRXNhMRgMxMbGkpGRoVkhzgcqb6lano8++ojvvvuOBx54gLvvvpvAwEBcLhd6vV6zxtx+++3ceuuthISEEBYWRlZWFqWlpdTW1gJoGvKAgABmzJjBtddei8FgQJZldu7cybFjx6itrdW0SKrW0M/Pj8DAQIKDg8/LVKf6zEqSxNSpU3G5XMyfP581a9Zo7b/55pu5++67iY2NRZIkzGYzDz74IIIg8NZbb7FkyRLAY6acPn06N954I4GBgecl6Pge2Ddu3Eh5eTlTp07VfAbVMv7+/qSlpZGQkIDRaOTAgQOsXbuWXbt2MXfuXK6++mqCg4N5+eWXSUtL4+DBg2RmZtKtWzcWLVrEjz/+qLm73HjjjXTr1k1rayd3/gYCmq958+jRo2zbto0hQ4YwYsQI3G43V199NWvWrGHLli1cc801GI1G6uvrycnJISwsjEsvvRRZlrHZbBgMBm0BqBOmsrKSgoICUlJSNOHN12TVEfWoutk3NDRQX19PamoqXbp0wWaz4XQ6iYyMpGfPnhw6dIi6ujpto3e5XJpQoZpoJUnCZrNpZrWOannUBVpQUMBLL71Efn4+9913H7fffjt2u/00856/vz9du3bVBC414rKxsbFF4kBFUYiMjCQpKQmHw4Esy5jNZs0hVX23+v7U1FTeeust7HY7QUFBhIeHa0R0PlAFP7fbTX5+Prt27SI9PZ2+fftqmk5VqFaJ++mnn+aGG27AZrOxcuVKXnjhBVavXs3IkSOJj4/H7XZrpKme6M+0wajfTFEUjhw5wqJFiygsLOSxxx7jsssu0zbGuLg4nnzySSwWC2FhYYDHx/G1117jyy+/ZMWKFaSnpxMWFkbfvn0JDQ1lzZo1LF++nNzcXPr06cNTTz3FiBEjNK1ZJzrRXqg8UFRURH5+Pj179mTw4MGEh4czZMgQNmzYQG5uLuXl5fTo0YPKykoOHjzoSUOTmUlQUBA2m01bBypnKopCVVUVR48eJT4+ngEDBmA2mzVO0el0pwUFtaetDQ0NNDY20qVLF6KiojSn8tjYWJKSksjLy6OiokI7GLlcLgwGg8aVDocDp9PZYu13VMvsdDrR6/WUl5fz+uuvc/z4cSZPnsytt96q+dSpflIul4vAwEDNh8ztdmOxWDAajTQ0NGgCrcp1qnCsaiH9/f0xGo04HI4WUe7C/2PvvOOjqtLG/713JjOTmTQSUggklAAJCQGpSQRUFEGRsiIiKhbcImtZV9217667imLZ8iqu7iprWcEfrGIHsYQivRMIEBJaQhJCepnMZObee35/3Lk3kxAgoL6rvjyfTz5J7j33nOe05zztPI8kkZKSwiOPPEJTUxNhYWEkJiaetTYwWIP68ccf8/bbb9OlSxfGjRtHaGgoW7du5euvvyY1NZUbbriByMhI/H4/ixYt4t133zV9n4UQbNu2jWXLltGvXz8mTZpk+m8bSg4Df+Ns7Yi2G2fqwYMH2bx5M7GxsWRlZREVFWX6n0mSxK233sodd9xBdHQ0FouFpqYm5s+fz4svvsjSpUsZOnQovXv3JikpiTvvvJPc3Fzeffdd5s+fb/oDT5o0iQEDBpyzW9CPGb4zHzSv18uePXs4fvw4qqry2WefoaoqpaWl2O128vLyqKmpoUuXLvh8PhoaGnA6ncTGxpq3YgzfMkPTBeDxeKirq6Nfv36EhYWZKlnDJ8DwPevsJCuKQm1trcnIyLKMw+EgJCSE+vp6XC6XyXxB640dRVHMTWhsVJvNdtZ+WsHSs9Vqpba2FofDgcvlIjc3l4kTJ5oScbC5UJZl0+cg+FaWIVUa82DctAkJCcHhcJgqeINItsclPDyctLS0Nho94925gmFG3rJlC0IIxowZQ1xcnLnR7Xa7eVkgMzOTMWPGmIxmamoqPXv2pLy8nJqaGrp3724SMlmW2xD1jja3wSCWlZXxz3/+kw0bNjBr1iyuv/761pAjVitWqxWn02ky3rIs07NnT6ZNm2ZqJk+cOMGxY8d49tlnyc3NNQnorFmz2Lt3L6+88grPPvssY8aM4Z577iEzM7MNIT8P56EjMPaaLMscOXKEkpISQkND2b17N7W1tRQXFwO6wHDs2DH69euHoiimQBgREWHGlQq+nGLsE4/Hg8fjITw8nLCwMJOBCw6jcDbMkSRJNDY20tzcTFxcnEn3DEFPkqSTzH3tQ28Y5YzvzsUFwLjJX1tbC+g+p5s2bWLnzp1ceeWVbWMvBt7bbDbTD84AQ8gPBmPPGjTW+N9gOIPB6XTSt2/fNq4iZwMG02SxWCguLubvf/87ZWVlzJs3j4kTJ+JwONiyZQv33nsv//jHP0hNTWXcuHFs2bKFV199FbvdztNPP012djY2m40VK1bw0EMP8corr9C/f3+TcTNwa3/j9FQ4CSHYsmULhYWFXHLJJSQlJbUJzwLQs2dP87z3+Xy4XC6mT5/Op59+yq5du6iqqiIkJIS//vWvfPjhhwghGDVqFPPmzePo0aMsW7aMf/7zn2RmZvLII4+Y7jnnaaYO37pjjHEgut1uNm7caJreZsyYwaxZs5g7dy5CCIqLi1m3bl0rIgHGwuDuFUUxf4I3hNVqNRkkg9EwNk1Hm+dMYDAwFosFj8djSnuGRGU4gp7O2ftc/LOCvzWYLp/PR3JyMs888ww/+9nP2LFjB6+88gput9t0Zg9mnNqr0o0bru0JniFVBzM2p8PZmEOD4HyT/hl4FRcXs2bNGrp27UpOTo65AQ0Gyel0YrVaTUf7YOJt9MswRQKm39rBgwcpKiri+PHj5nsDX2M9lJWV8fzzz/PGG28wadIk7rrrLpxOZxu/G8P/TVEU7Ha7GffHZrOZEqiiKOYliyeffJKvvvqKp59+murqat5++20GDBjA+PHjWblyJa+88gr19fVtbsieh/PQERgMUkJKjQ8AACAASURBVFNTE9u3b6e6upr9+/fzm9/8hmuvvZZHHnmEoqIiKioq2LFjB7W1tSaTZdC/9nQwOF2awRz5/X5TgxVMP4393hkwaJVx886o03hntBkck7Kjg/bb8C8yzoEuXbpw3333MWfOHGpqanj77bcpKChow3gF0z4DzsQUBkcMCGY+2+MdbFlpf16dLRw7doyGhgYyMzNJTU01tZWDBg1i7NixNDU1cejQITweD0VFRdTV1Zm3S71eLy0tLQwfPpyMjAwOHTpEcXGxeaaCfrP/yJEjFBUVmRex2s+9oeRoaGjg66+/RtM0RowYQXR0tDm/BrNq+IcbdFtVVUJDQ00zvCHwtrS0cOedd/Lll1/y5ptvAvDqq6+SkJDArFmz2LdvH3/+8585cuTIt3Lm/FjgW9WgGZtXAmprasjPzyc+Pp7777+frjExeFta0DSN3K++4t333mPPnj1MmjQJu91Or1692Lx5Mzu27zC1JEK0xu4yCElkZCRJSUkcOXKEQ4cOMXDgQFOSPJf4PhaLhfDwcFRV5ciRI/h8PlPl7/V6KSsrM8sFQzAT9E0Wk7HZjTpiu8aSk5NDRkYGu3btYsWKFSxYsIC77rrLjLpsEA5hEA+jMiGQ2xEQY0468t0yngWbpffv38+CBQsoLS0lOzubm2++mejo6E7fig0GIfSkgm63m82bN3P06FGuvfZa0wQoBX6sViuxsbF07dqVmpoa3G632abBGBmmGIOBbm5uZvHixTz99NMoisLUqVP53e9+R3x8fBvmsqKigpdeeonFixczY8YMHnzwQWJjY9toB0GfX8M8bhxuRuiVuro6IiMjcTqdDBw4kJzsbOTAt/v27WPrli1cmJPDc88/jxCCqMhI8nbvprS0lMjIyLPWUJyH/3sghDAPT4fDwU033URmZqauZZZlNm/ZwrvvvsuBAwf0aOyB+FNej4dDhw61mhD9fl3ACfgzAURGRhIfH8/hw4cpKSkhKytL31eBb6QzCGzBYNA9p9OJ3W6nurqahoYGfY/KFhoaGqitrcVusxEaGnqSgGLs+W8L/H4/0dHRpKWlMWjQICorK1m4cCFvv/02d9xxB4mJiW0sCucKwXQ6WAA0hM/FixeTl5dHSkoKN910Eyl9+sBZaAY7YvpMmq0/wOfzmbd3jfYNDaih1LDb7WZdhoIj2N/6o48+4m9/+xuHDx8mOzubp+bOZfDgwRDESBuZWgoKCti8eTOJiYkMGzaMMJfLxNXQ1rYJJ4ROy2tqamiobyA6Ohqn00lGRgYvv/xymz6uXLnSdCsZMmQI3bp1Y/HixabwEczs/1+G70SDpqgqBQcOcOJEJaNGjeKWW25h0uTJTJ8+nalTp3L1NdcQFRXFgQMHaGpqIi4ujgkTrqCmpobX33idY8eOmebLgoICPv/8czSt1Z/q0ksv5eDBg7zyyivU1NQQHh6Opmls376d3NyVne+8rPtgGA6r+fn5fPjhh4SEhJhhP3bu3ElWVpapwg6WCINDK8C5mQEDPIzJINjsNhRFoVevXtx11110jY3lrbfeYu3atdgdDtOU6nK5sBibI4CX3RFKiM2OJMlomgiYa0Ox2x0Bpi4gUQfMncEMrbEhysrK+eSTT/nwww/5KjeXhsbGbyTRCCSqq6vZuXMnERERjBo1ymSIZYvFTMvUu3dvhg4dyp49e1i7dq3p77F27VoOHTpMv/79iYuLM+dAJ0wCp9OJw+Ggubm5TUgPIaCmpoZFixbx/gcfcPn48dw+Zw42m42ysjJOnDhBRUWFqZrfu28fyz/7jKNHj+Lz+fC2tLBr1y4WLlxIZWUlQ4YMIS4uTp/nwOFnOB47XS4qq6o4fvw4tbW1HA2YpM7H9TkPZ4LgvXXo0CEOHz5Meno606ZNY/r06cyYMYNrpk9n8uTJ9OnTh7KyMioqKujSpQsjR2YR6nTywQcfsHHjxgANcHDo8GFWrVpFWVmZnpGja1dGjhyJx+Nh8eLF7Ny5C6s1BJvdzr79+/n666+prKzs1D43GI5u3boxID3d1Iw3NzcTYgth3bp17Ny5k9S0NFJSUgICpRzIU6vTnpAgk+g3AYNmGj610dHR3HbbbQwbNowlS5aQm5traoisViuhoaFYLNYAzW3VBAVnnzGeGabNVod12dQMtvd3ra6uZt269Xz88cesXLmSqqqqs05caDBZsbFxuFwuCgoKyMvLQ1EUXGFhbN+xgx07dhAeHkG3bt2w2WwkJycTERHB7t27TX9Eh8PB+vXr2b9/P8k9e9KjR4+TTJp2ux2Hw6GPDZgMumnNCayBjRs3cuLECbKysvTYZ0KYeYslSaKoqIhly5axb98+mj0eLFYr5eXlvP766xQdLGLEiBHmLXkhRMB3W2cYIyIjqa2to6LihHnh7rwgezJ8Jz5oTU1u1qz5mqamRtLS0tA0DbfbjcVqRWiCHt31q9erV69mz558srOzuOKKCWzffhP//Oc/2bhxIyNGjkRTNbZv38aYMWMYN+5yhJCJjIzkmmums2XLFhYsWEBubi6DBw+mvr6BTZs2cdNNsxg79hJUVcPSQSojA/SDXs9BFh8fz8zrr2f1mjX88o47eOPNN2l2u1m/fj39U1O54cYbcblcKIrOVGiBBefz+cxwFAYhap8q/nSgp5EVSIE8Z3X19Viths+DhYEDM/n1Pffwm9/8locefpiX5r9EWJiLxqYmmprc+P0B04KmS0hNTY00NYUH8lpKZkwvIQR+RUGWdSbN7/NTU1tLbW1doE/GppACmiqdeJsaQs5e+jQ2ut/vY9OmzaaT/cCBRtDZ1osJmhAkJCQwfvx41qxZw5w5c3j55VdQNZVdu3aRnJTE1T+5mvj4eBRVxWK1oqp69oGq6moUv4Lb3Wxufk0IJAT5+XtZsuQ/HC8vZ8P69UxeuRI14LcihCB9QDp/+MMfGDJkCJs2buK3v/0tkoQZyuDw4cPU19cz4YormDlzJi5XGKqq6SmyZBkJSOzenUsvvYyvvsplypSpuFwumpoa+dU999CzVy8IEPXzcB46AiGEyfDv2LGTffv2c+2104mPj6elxWeaj5KSkklI6MYXX3zB1q3bGDR4MKPHjOYnV1/NKy+/wk033czAgQOJiIhg166d9OrVi8cff5yusbHIksTll49n9+49vPXWm2zZsiUQoyyEXbt2cskll/Doo48SHR2DJJ0+DpokSfgVhS7R0Vx55ZVs3LCBuXOf4qOPPsbpcpK/Zw+hoaFMmjSZfv366/TQyMONMP3hDP80IQI0kM5r1oxU3T6fn8bGJpqbW11T+vbrx+zbbuOPf/wjf/nLX+naNZaLLrqIZo+HmppaWlpakOTW292GO47ByCkBrZTH4zW1VQLw+/X4iT6fzzQTGyRRlmU9y4nFomvWJcl8Z6SJPx0YDKEA+qT0Ydo11/CXP/+ZO++6i9deew1HaCg7duygrq6On//85wwdOgxJlhkxciSTp0zhn//4BzfOmsUFgy9AURR27dqFpmk8+OCDpKT0DWgQ2/pw19TW0uzxoKhqUAp7UBQVi0WmsLCITz9dhqKoZGVnExMTgxzIkarHnNNjVz700EOUlpWR0icFu91O0cEiKk+cYNCgQVx33UwSExMBCVUNpIsKDMzVP7maz1d8zi9u/wVhLhfFxcXcfvvtZuil8z5oOlgef/zxx7+tyiQJZFmi2e2moGAfCfEJXHPNNXTv3h17IHeYRdadNRW/D1tICCNHjqR7jx64nKFcmJND/379aG52c7y8jIb6Oi6+6CJ++tOf0rt3L4xka12iorhk7CUkxMdTXV3N0aNH0DSVSZOu4uc/+xnxCfGACMrzeWp8DcLQu1cvRgwfRovXS8XxcmRZYvKkSTz+hz8wevRoNFXVE8+K1uXc3OxGliUuGjOavil9kQDLGXKetWkfXYUpSfqNpKbGBgakpZKdk43DYcdisZCclESXLpG0eL0kJiaS0jeF+tpaYqK7cPFFFxERGYmEbgZsbGokPX0Aoy7MMQO0eprd9OvXl5zsLGy2ECQJnSB5vWRnZ5GVlRUYB51R9Ho91NfV0jUmmlEX5pCdlYXT6dRxlWVzDs4MumrQ2+LlWEkxFllmyuTJjBo9SpeeESahlITAYtHTMl0weDDN7mYqKo6jaSrjxl3Ggw/8lksvHaubJeXWxL/upkZaWrz065vCmNGjGD58uJ6CBIEsga/FS4uvheguXUhIiKdbYjd69exJco8e9OrZk0GZA8nKGklcfBwOuw273Ybf56OxsQGhaWSkp/Ozn/2U+++7l74pKWjCCNbbeqBYLDLJyUkMyhwIQFJSd+799a+ZMWMGoY7QwLj+twlNR+2fbh7Ptvz/Nnyf8Ts73IQQyEi43U0UHz1CZGQE4y+/nIyMDGwhIYSEWAixWrHZQxCaSmiog/T0AaT06U1kRARDLhhMRkY6mqZSVlZKVeUJBgxIY9asG8nOySbM6USWJKIiI8jOGsmAtDRavF5Kjx3D7W4ia+RIbrj+ejIzM7HbbQFB81T9CWjgLRZA0DMpiczMgTgcdsrLyvB6PGSNHMlvf3M/EydeicsVoBuShCQJJEnG42lGVRQGDxpEekY6oaGOoPRtnfWD05AlCcXvp+J4Od17dGfUqFHExcWC0OjRvTtdY2LweJqJie5C35Q+eJqbiY7uwuhRo+ie2E2/yOD3U1ZWSlJSD0aPHk1sbCyaqlJRcZxePZO58MIL6RoTjSxbUPx+amqq6d+/H8OGDyMqMhJZwgwVVFNVRZjLyeBBmeTk5BAT3cU8DzsDkqRnILVaZAZlDiQ1LRVZljh27BjuxkZS+/fnV3ffxU9vm02PHj2wWiw4HHYGZ2aSnJSE39fC8ePltLS0MGLkcH5z//3MuHY60dFd9PFHT8JeX1eL1+Ohe2I3srOyyMnO1kOGGPMu9HOz9FgJx0qKuWjMaK68YgJdoqKQ5YA2VJKQZLCF2LBYZGQJGurraGnx0rt3L2Zcey2PPfoow4YNRZYlLLKkK0sAhAZCkJTUg+yskYRY9YC7v/zlHH72058RHwgVc16TpoMkvnVvvM7okDqQK4QWUJ/qG1VR/Ph9fkKdrpO/FSKQiNwIPurFarFiDbG1ljkbjIVAaBqyJWAy1FQUVSXEqE9ogfba1/stHhRBfWqtR6LtWIkOykGH44kWeNyurBAIoSHJlqD6gr891bx9k2XSlsjr7RI034AIXEyQdeld01Q0VcPaxkwYPCZnwrX92J0KhD6/geT2qqLQ4vWAJOF0uVrrOWmcgj43x/OkF6dYN/8t6PwheG7l/7fh+4zfueDWfp8Yf4q2e8V8rrV57vfpPr4hNptuUhRa4JV8UlnF5wNZwmo19tfZrou27ft9Pv0wNuoz33XUt47gXOYxyJ9W08zmhNCQJLmV9gX3XWh6W5LcCZwMvM5EZ0717mxBajtngN/fgkWWA2eT1KYvQlMD/dRx8LV4sVitWILOMQw/LtmY+zP3uX29pyjUZkwNFxOn03C9MeifMRSt/s4I0ITQNXJB51NHftL/1+FbYtACh66qErwwTSd2WYbgZkRr3jkpSOOkaRqaqgVUxQEGTFGRAial1u8FIqCKlgKhFoQQaKqKJFuCTHYdodrxQasFfIrM6PeAGkhVYQmorduA8b9xY6d9H88ShBCoihpoL2hzCIGm6eNrjIGq6L5WFmvrAheaiqoaNzgNFT4oit/0OwtuS1N1vFvbkgKqeYEaSPWhh7GQTr9RTwmB74Rog5vFajGfByEEGBG5tdYxAFQDT2vAH8RgeiR9ztTADTI5MG/t21aVk29yGWDMtWHuaN+24fdojlOb7knmWjJMzK0+PAKLNUTv6w/iNtKpmInOMLj/Tfg+49dJ3ILWh7H+LRbZvITSWkzfs0IIZPO9hNA0/SBG3/daoFwwHWhffytNC6Jx7Rm1Uwkk7XA3zJRykNlQkqTAHjX2edCZEBCGJUk3C+ploOP11w7al+2gfaMNwwRpsVrMALAi4Jdrjq3QWstZWn3QdHobpP0yaImqM4Gy1RrE/On0TVM18wa9xTivzqZvQX0UmtZK4y1GeI/A3MuSqUgA0aZdOaCl0m/xalitJyce17TWC2GyHNBUdTDPwWeEbJ6/QfMZOJeMuiwWGcliRQmYio2z43TMlqKorTRZkrDaHG3P+fPw7TFo5sbUHZbaHkzBkyQFHfjtmzaIgiS1ZXxOaq7d4R78XRuQdBqpBePSuiA66IbJVOoKFWNRBl2bDv6uPf6nXIydINSa0KUcY/yCPzXHi4AGLMhsFvw+qIzeZODgPRVewW21r4dAW4Gxk86ZUeugLQMMHA18O+hHhzd5OhiTs3rfEXSES9C3wTdDTzn23wQ6i+fZViqdpk7RXqI+RfmTyv234PuM37eAm+FzAQG61q4qk/mROq4y8M2Zbr8FaypOXTbQn5M0dx3RTZ1OnBa3M4HR11PR1I72xunG6wxj1PqvaEvbOhj307YbXG+A3ppjcSZcOgFC1aCzbjMGDmdYQzpKQcznqfrSifEzwagnaBzOaRzPQxv4xgyaAFSh06HvkzEHMJ0ffwjwQ8Hzu4Dze/Q8nIf/O9CRbvFMbOz3jZZ/n3W3PySQ0PkGOej/89AK3+gWpxCgqoIWxc+KDfksXfYlrsgYtICf038LWg02Mvp9PmPiBUj/BbzE6f0dtE7yyD/GuDC6EurH1afvF5xubZ1Cc9Kpcv8t+D7j933G7Vzgf68/P0badh5ODcaZHGKxoHjcdAm1cNv1k0ntnYgkREBx27oe/q+uj2+mQQtYF1skONEMFY2gWAIWxYCrUODSBlrgtyx3bLX8TkD6bqUuSdLd7gIuWwFfBrBaO++S1t4dKxh0HzJ97KxW/SfYevxjWa/n0g9jTSlK23XVkbugpoGmghpkNbfIrW4yZ9uuLpi0fda+PwYemta69tuDxaLj8kOex1N5MnT0/jx0Hoz1rWn6OrGcwp3xu1w7p7I6nisYuCqKTjODrWy2EH0vaEG07VzalSRQFVDU1nE7HS7tvXG+b/Btzq9Jj9QATaLtGBljrioEmUk7qCfoDD/T2AXjb7QrSbrFTRK6hsgqIEwWJEVLhNtBFoAkTL/gVt++k33qfuzwjRk0AE0CI9KKcU1AABb054F7M6Yas/3v7wq+q32nofcT9D442r3zc9r13SGcah/K6OOo0Cp1GDpAf+CZnWCt4Y8fBPp4aEAI+iY3nonA/8Z4aIHnlkBZ0OfOSBp1NhHKjDqNn1N552ineGceeO2eGeUMvKRAHyycek7/23N9ktsKHa/B9n08D6eH4HE8g+fXd7oG2psUv422DBcYgb4Xjf1o0FONtnurM212tA6NvRO8nwzwB55ZaUsngvfk9wm+LXwEredSCK20xYc+TlZa50ej9WxuPy7BdK0zZuf2+KtBz40fWxA+CMOVTaCoiplv2ciaEBxUGAiKSSfM4MI/JvjmlwQCu0kzfALb/Y0ARRF4vT40TeBw2AkJaR9r5xybFqeXMM6mZ0GX8trUfSqfVUMSaGhws3v3Ho4ePYrX6yU5uSejR1+IMzQENeim+UmRMdrjGmR5NfzUfS0etu/cTeGBA4wZM5p+fXrhC0T8sEhBjIloew/iRwvG3Gi6BkxTVRqaPPj8PkJCQgh3OQmxWlC0oPlEl/ZafHpyeFVVsdtthLscuoZSg5MiZHQEQZK2pumBf80LFFJr0EsjarndZkWS9HZbWlr0KO+BNCzBKbYsFt1BWVU0LDI4rDKqgBZF0w8bi9yxlirYJ/d/G87U9n8Ttx8BSAEa6mvRcwJbrVYzRpnxvr0W/SRf/nNtm5MFCTj3uWxPUy0SeDxeCgqLKCoqoqqqioSEBHKyRhAbG4c4lXP66XCWWjVhkgR79uSTn59Peno6GQNSsQaCwMpSKyPiEwFGxPj2FHUafwePQft7Yu3Pjo7GILjeU707Vd++DfD7VWyBG/tNzV48Hg9WqxWXy4k9xIKiCCSL3pimBiIHSFKr0Cn0QMBCE9hsNkJsls5c8m3zt7GeLVb99rwsQJJkQmRZj5Um0RqVKLCevS1efC0+QkNDsVqtZqQFWZbx+/1tMlL4/X5T0/ZjMYd+80wCgXEwbiSbix5dpSkLlcLCQv76179SUlLC9OnTue222/TJ1YJUpUHVabQyLLLc8X6V0dWkKm0lzjZlz3aOpFbtlNEHS3tzmdD97jShUltVybzn/sw/Xn4Fv9dNqNPJFZOmMGxoJuHOaP3iRCfVhCJIZFGFrtZtbmrk88+WsWTx/6NLl2fo26enfkUdGbe3mbzde6ipqWHUhRcSHRmpj4VBsFura22DtgT4dBqgU5U5CW+TOQwEnm1XV3DbHc7RWYIAVEljf0Ehb775Fp9+8gmHjxyha9euXD5uHLNnzyYnJ1svKaChoY5lKz7nrbf+zfZt2/B6vWRkZHDttddy/czr6JYQHzCHSKfFS0MgCT047vsffcy//vUv/IofSWrNeRgSEoLT6WRQZia33Tab5O7d+fSzFbz177doqNfzFcqyjF9RiIqM5JZbbmHaNdcgSxJWi0RlZSUFBQU4nU4GpKUSHhaGKgRyYBG2n7sOB/p/E87U9o+DRv6vgQQoqoYkoPjwYf69cBFbt27loosv5obrZtCjRw9dOyu1/SaYoRIioHWXgp4FlTXoqxb0rL22xHjepv4zCcJBTEqb+kyBVn/Z1NjEP199lZdefIHikhIQgkvHjaNH/B+Ji4nR0yidhRnLEAQUoYcQCbHKrPnqC+a/9HfuuOMOUnv3JCQQlV4Tgm2793CiooKBAwfSrZsesNbsa3AfO2DOjFR5Eu0YuEBxXWCTThuoIFjQO6nN9kUF5o3Qb2LZEwJCrBaOlZbxzv/7fyxdupQ9e/bgCA0lJzub22+/nQtHjSIqIoyiokM8/+c/k5+fjyxbEEZ8SkkymaSbb7mFq66YgCuQjvGUjKmkj5ksSbibm5k/fz6rV+tpwRRVwSLL+H0+usV34w+//z0XXJCJUEGySDQ3uXl70ULef/99Dh06RLdu3ZgxYwYzZswgKirK1JjV1tayd+9eNE1j0KBBZu7j8wxaG2hdcUayI00IFL8Pn6qyffN6PnxvMQAum8xNM6/F5QpDUX1IktVMzqpqmh6XR5bNZ6gBtbWlLapC6Ml+ZSOOVUClped9CyYRHey6jnog9FxhrR2R9RhDFkug7YC2RGioqh9ZCPJ2bmfpkkVceskofnP//bhcLqKjo4mJDENGYJU05FOyLO1HUATi16h6SaFHq7dbJULtIfpEaRqqrxnJaqW8pIRnn3qC8rLjvPHm60SFpeH1evSo/5KEbMRHEwJVa40302YEApTEiOQtBKiaYmIrAhRXQAfxdFp9A8xr9rKMbLWYbQePraqprSMhyyeV6QxoQgNNcLCggCce/yMrVnzGiJEjuHL8pRQWFvLBe4sp2JvHc88+R07OhdQ31PH+0vd4/PHHsVqsXHXFOCLCI1i7di3PPT2XmspyHnjgAcLDw5HU06dkkoQWSCGlIfxelBa3vj4AJSC51VU1Ul9XT1x0BE6bFU1VOFFewu4dW7Hb7cTExKBJEkJRQHUga35kTU8h8+WXX/LMM8+Ql5eH0+lk4pUTefDBB0lNTUVTtDax/SQ6n63iPPyQQELTFJAk9u/LZ8Wyj8jfk4/idZM9bAg9unfDAkF7R2cNjITYBreiaBqqJJnaBZ2h0OP1KQFhQgrEwNJUDRVxUmodCVojEgFtuA4wVVZawMFSCuZYZBlJbqthUfwtyLKFwn35fL7sE3r3TOLpuX+ib9++hIeFk5ScjD3E2H+dVdcF4sCpCpKqYhECSbJiRSPUKmGTNP08Uv0gBB63m7de+wefffYZc+fO5eqrrw6gq58ZwSKaCPTNDEVCwAwngmKpBfqs+hWd0ZX0fWnGoTPjrYk2dZrjFXhmMbRA7Tg3ERDUASQtKGbZWex9TVX1DAL1dTz39JO8vegd+vVN4Y6f30ZVVRWfrfice/J28NTcuUyeMhXV50FSWtBamnVBPQj3sqOHdGvAjTOxWS1ImhJYN6em5ZKmIFksyJqfon17yN+5lYSEBD21lcWC0uJF9bmRhKIHi5ct+LwtPP/n5/n7yy8TFRXFgAED2L17N/fffz+1tbXcfvvtxMbGsnPnTh599FE2bdqE1+slJyeHJ554gmHDhpnz+kOHb4lBO1kPIwLR991NDaxfvxGbzUH6gAEcO1bG5i1bGXvJJUiSBVnSF7HOnGnYbI4O6m8LmtCDEwaX7Tg2bfuF3PHCNpwRrSH2VsYw6J2iqIEUP4Ak4bBbaW5upqa2Hlm2MumqyYwbN/6keo2+dQY0TYCQsAf1qYFGNE3Q0uLTmQNJf2/Y2kMdTvO31RpCeNjJybn11CyBQL5Cw9LOnqcrv3SVtqqqHSYxNgI/Wq1WXTOqaSAkbCH2k8ppQgSk/FZTnoSE1fLNEocbASl9Pj95ebvZuWsXV145kblz55KSkkJZWRl///vf+X+LF/P12nVcMGQoNTW1bNq4GZcrnEcffZSbb7oJAWzYsIGHHnyQ9es2cOjgYYYMGdImX11HIMsWZBkiI6OYfdtPuXX2bWafEYLqmhr+/tJLvPvee1x++QR69uqNp7kZuz2UuLgEbrzhBn7+85+DpGvabDa7ztgKQVHhPt5Z9P+QkPnHK/+k6GARSxYv4d133+PhRx5BUTWEojO4Vqs1EFTzPIP2YwNN07BYrbib3OTn70Xxq6SlDaCurp6CggKys7Ox2+16FPaA5lYAFkvHice1AGOhB18NmMytIW3KytbT0KjTaXeM+mXLSRovVdW9wYMPSJtdp2s1dXU0ud1cdtlljJ9wJV27dtXrE+2F6TODqgYCe4fYaENeZAt+VdPDPwGyRfdbCreG4HC6sNrs2EOdhNhPPmvMJOrozvNKQGHQkfBmnBtG/QZYLDpuiqrpK3I6XAAAIABJREFU5jYjGTkC2Xqy+U1RFF3z2G4cJYv1pEsOOrPYuXHS/bg0rFaZHTt3sW7DRtLS0nj22WfJycnBarXywgsv8Pzzz7Nh02ZGjbmI/qlp/OPV19owkADbtm3jrrvuIjExkcFDhuIIDdVxPAOzqCFhQSLE7sASYiOxRxJ/+ctfGDFiBLIst/EpUxQFJMjbs5v3P/iAfv368fzzzzN8+HC2bt3KL37xCxYvXszll19OVFQU8+fP58CBA8ybNw+LxcLcuXP597//TY8ePdqsq5CQkNbz+wcG3xnWEmCVZZqamtixfTvJSUlMnz6dJ554gvXr1jH2kktMZkgIXQ3q8fn45OOPWbFiBUUHD6JpGjk5OVx33XUMHjzYXCwIqK+t49Nly/ji8885UFhIVGQUF118EbNunEVSclIgddPpGSSjPiOLwK5t2/jPf/7Drl27CAkJISc7m2tnzCA1NdW0b5cUF7Nw0SIKDxzgRGUlVtnCRx99xJYtW9A0jeHDh3PLLbeYatjOaDoMqaq0tJRFixaxcuVKrFYrV1xxBc3NzciyjOL34/V6Wb9uHe+++y7Nzc0cOnSIutpafve73xEZGYkE5OTkMGPGDGx2O0LTcDc3szI3l3Xr1zN16lSqqqp49dVXaWpqom/fvsyePZvs7GwURUFRFDZu3Mh7771Hfn4+oQ4HY8aM4Zrp0+nVq5ep3RSqyvGKCj799FO++vJLjldU0LtXb66beR2Xjh2L3eFoDfgrBFU1NXy2fDmbNm+mV69eTJ48mf79+3dqjtrPl5EAXgIGDBhAXFwcDfX12O12+vfvT5jLRXVVFS1eLy0tLTQ2NhIeFkZCfDxNTU243W4iIyLo1q0bJSUlNDc3d7p9A0yNRJDEe/jQIdauXUt8XBwXDB6MJPSI6Yrfj6e5GYvFQnh4uClFG1q3kJAQqquraWhoYNy4cdx4440cOHCAExUnKCsro7qqiqioKCwWCyGBbBDfena28/C9ACMNTl1dHfv37aNLly6MGjWK3Nxcdu/eTU1NDfHx8TrDJen5KL0tLWzYupXPPvuMXTt34nY3MyB9ANdccw3ZWdmEOkPRNL1sc7OHdWvXsmz5cvbu3Yvf72fE8OFMnz6dwRdcYPpInhFHMLVL+/fv56OPPmLdunW0tLSQmZnJtGnTGDZsmCnsVVdXs3TpUnbu3El5eTm1tbXk5uZy9OhRVFUlMzOT6667jp49e5rarDOB0X5FRQXLli1j+fLlNDY2cuWVV1JZWYnNZsPv17OIbN26laVLl5ouBH6/n1dffZWPP/4Yn8/HkCFDuOaaa0hMTDQd0VevXs3nn3/OZZddhqqqvPPOOxw9epS4uDiuv/56LrvsMpxOJwA7d+7ks88+Y8OGDXg8HrKyspg5cyYDBgwAjOTi+lmYm5vLp59+SmFhIQkJCUyaNIkJEyYQHR3dpn8tLS18/vnnrF69GofDwdVXX82gQYNM/6uz1aBXV1fj9XrJysoiMTGRhoYGnE4nAwcOJC4ujurqajweD4Dp5xUMq1atoqSkhGnTphEfH2+WORs8/H4/LS0t2Gw2HA6dOTYtV1KA2ZNg9erVVFZWMnXqVPr06QPA1q1b8Xq91NTUsHHjRuLi4jh27BiTJk3iiiuuoEePHqxatYojR45QX19PdHQ0drvd7McPNUzHd8KgmYeQqrJz504OHz7MzJkzGTFiBJGRkRQUFOD1egkNDTVvYNTV1fGXv/yF5557jpCQEDIzM1EUhf/5n//h6NGjvPnmmyZxKCsr46mnnuK1114jOjqa/v37U1ZexjPPPEN5eTkvvPCCnkvzDAvZkCz9isLKlSv59a9/TUlJCf369UNVVb766iu+/Oor5s2bR3Z2Nj6fj2aPh7y8PPLy8nA4HMgWmZKSEk6cOAFA165dTbV0Z0DXDAmOHDnCQw89xMcff0xSUhI2m41HH33U/Nvn001hJyor2bR5cyAHqQ9V08jLy0MIgcPhID4hIRCHTtdmud1uNm/Zwttvv01hYSE7duygurqa2NhYdu3ahdPpZPDgwfh8Pt555x2efPJJGhsbSUlJwe/3s+Lzz/kqN5fnn3+e9PR0/H4/hYWFzJ07l/fee4+4uDi6devGsuXLWL1mNb/5zW/45S9/iZ6eRCdMdXV1fJWby5IlSxg8eDCDBg2iX79+uiagk+MkBcwHDoeDhIQENE1jx44d1NbWkpyczPHjxykoKKCuro6kpCTCw8Nxu90kJCSwbds2jh07hsvlwuVyUVhYyJEjR3C5XERFRZlr9mzBmDuv18u2bdsoLCxk+vTppKSkmKlebDYbLpeLAwcO8MYbb+BwOEhNTSU1NRW73Y6iKERERGCz2di8eTPr1q1j7969rF+/nquuuoq4uDgACgsL2bNnD+np6fTv31/XtvzIbiz9X4bgCO+HDh2iuLiYPn36kJWVRX5+PqWlpVRUVJhrX5Zlmj0eFi1axF/+8hdKS0vp3bs3LpeL9957j4KCAh5//HFGjhypM0l1dSxYsIBXXnmFhoYGevfujSzLLPjXvzheUcGjjz5K3759TSfr04HhS7l161Z+//vfk5ubS3JyMk6nk82bN/Pll1/y2GOPMXHiREJDQ2lubqawsJDNmzebdKy2tpbdu3fT0tKCw+GgqampzTh0pv26ujqee+45Xn/9dSIiIggNDWXevHm4XC6zLlVVqa+vZ8+ePRw5csRk2g4dOsSxY8fwer04nU7cbrd5yQd0puudd94hLy+Pw4cPU1ZWRpcuXdi2bRtWq5XU1FTS0tL4+OOP+f3vf8++ffvM8XvhhRf4/PPP+dOf/sTFF1+Mw+GgrKyM5557joULF2K1WklKSuKrr77igw8+4L777uOuu+4iPj4+cHHIgqqqbN68mbfffhun00l6ejppaWk4HI5OMxvBZZKTkwkPD2fnzp1UVVXRp08fJEliz549nDhxgssvv5zw8HCTrkiSZDJhx44dY/Xq1cTGxjJy5EgiIyM7xUQHX5xSVdXUZK1evZq8vDxiY2MZPHgwPXr0CPjm6Q6Ux48fx+Px0KNHD5xOJxs3buStt97SFRWKwqFDh7DZbERGRrJ69WomTpxIYWEh27ZtY/DgwTidTpxOJ5WVlXz22WcMHjyYtLS0c2Zu/6sgvgPQNE20tLSImpoa8fvf/17Ex8eLBQsWiOLiYjFhwgSRlpYm9u7dK1RVFU1NTcLtdouFCxeK8PBwcckll4gdO3aIpqYm0djYKNasWSPefPNN4fF4hM/nE7W1teKZZ54RLpdLzJgxQxQWFoqWlhbR0NAgPvnkE7Fw4UKhaZpQFEVomnZGPFVVFUePHhU33HCDSExMFC+++KLweDzi2LFj4vHHHxcRERHijjvuEF6vVyiKIrxer2hqahJVVVVi/vz5Ijk5WbzwwgtCURTR0NAgPB6PUBSl0+Pk8/lEfX29eOmll0RUVJSYM2eOKCkpETU1NeLFF18UCQkJIiMjQ7z//vtmG263WxQUFIif/OQnYujQoWLHjh3C7/eLxsZG4fP5zLoVRRHHjx8XTz75pOjRo4dIS0sTf/rTn0RpaamorKwUW7duFV9++aVobm4Wa9asEZmZmWLYsGFizZo1wu/3i7KyMvH000+LxMRE8fDDD4uWlhZRVlYmHnroIZGYmCj+8Ic/iPLycuF2u8XatWvFpZdeKoYNGya+/vproaqqOWYHDhwQt9xyiwgNDRVZWVli+fLlQlVV4ff7z3pdKYoiSktLxVNPPSWysrLEjTfeKJ577jlx++23i4yMDDF79mxx4MABoaqqcLvd4uuvvxYzZ84UY8eOFQ8//LCYO3eumDx5ssjJyRFvvPGGieOZ1kpHoCiK8Pv94uDBg2b777zzjlAUxZzX//mf/xERERGGr7awWCyie/fu4s477xT79+8XmqaJ+vp68dprr4mUlBThcDhETEyMmDFjhli1apX48MMPxfTp00VsbKw5dkb954Lzefh+gkGLfD6feOmll0RSUpJ4+OGHxZEjR8Qdd9whUlNTzbXl8XhES0uLWL58ucjOzhYjRowQS5YsEbW1tcLr9YpNmzaJd955RxQUFAifzye8Xq944403RFpampgwYYLIzc0V9fX1wu12i1WrVol3331XlJSUCFVVhaqqp8VTURShKIqoqakRDz30kEhOThYPPPCAOHLkiKivrxcLFiwQ6enp4rrrrhO7d+82++R2u4XP5xNLly4Vw4YNE/fff78oLS0VXq9XNDc3nzXNVBRFLF68WAwcOFBcddVV4uuvvxZut1ssWbJEDB48WCQkJIi//e1vorq6WjQ3N4vm5mZRW1srfvnLX4q+ffuKJUuWmM8Nmq1pmjkPCxYsEEOHDhWJiYni3nvvFfn5+aKurk5s375dfPHFF6K8vFzs27dPTJgwQfTv31+89tprorKyUni9XrFw4UKRnp5u0iJFUcSLL74oevXqJWbNmiV2794tFEURhYWF4tprrxX9+/cX//nPf4TX6xVer1f4/X7R0NAgHnnkEREXFyf69OkjFi1aJJqamoTf7z/jHLWfL03ThMfjEa+99poYNWqU+MlPfiKeffZZ8cgjj4gLLrhATJgwQaxdu9YcV2McfD6fUFVVvP/++2LAgAHihhtuEAcOHBB+v79TtCe4jtraWnHzzTeLsLAwkxY6HA6RlpYmXnzxRVFVVWXStbvvvlt0795dLFmyRDQ2NooZM2aI0aNHi0cffVSkpKSIO++8U5SUlIgPPvhA9OvXT7hcLhEeHi7GjBkjVqxYIVatWiV+/vOfi+TkZNG9e3fx+uuvi4aGhk7j/X2C70yDZrVaaWhoYPv27cTExJCWlobdbqd3797k5eWxc+dO0tLSsFqt1NTUsGLFCqKiorj77rsZNGgQPp8eOmHMmDGMHj3ajINSXV3N6tWr6d27N/feey99+vTB7/cTHh7OVVddZbZ/Jk5ZCGFKYmVlZWzZsoWMjAxuvPFGbDYbMTExXHPNNXz55ZesW7eOAwcOkJGRYWpxDFW4UYcU0JaEhIR0mkMXAWmtvr6evLw84uPjmTx5Mt26dcPv9zNhwgRyc3PJz883pRq73d6aHD4gSRvP7Ha7aQYz6g8OATF+/HjuvfdeU8KMiYkxJcxNmzbh8Xi45ZZbyMrKoqGhAZfLxZQpU9i5cye7du3iyJEjNDU1sXbtWvr378/1119PVFQUTU1NZGRkMGvWLObPn8+OHTsYNWqUKYkbqvSqqir69u1raoXOVpIxtGixsbFceeWVbN68mUWLFrFw4UJkWSYzM5OJEyfSt29fc34yMjK4+OKLmTdvHitXrjT7ff311zN27FhCQkLOSuPZfu4kSeLw4cNs2rSJpKQkhgwZYj63WCz06tWLW2+91bw1lpeXx5IlS1i4cCE2m43HHnuMyMhIZs6cyejRo9m9ezcnTpzg6NGjPPHEE5w4cYJ+/foxb948xowZQ3JycqtT8w9JEjwPpwXDZFdbW8uBAwdwOp307NmTsLAwevbsiaqqFBQUUF9fT2RkJA0NDWzbto3GxkZuvfVWJkyYQGhoKJIkMXLkSEaOHGmu68rKSjZt2oTNZmPWrFmMGjXK1IBcfPHFZ4Wn4fdVVlbGnj176Nu3L1OmTCEhIQFZlhk3bpxpki0qKiI9Pd2kA8ZvQ7Nu+CDptxQ779BtsVjw+Xzs27cPn8/HxIkTyczMxOFwMGHCBFauXMmHH35ongMWix7WQdM03Tk9oKWy2Wxt2g7e05Ik0djYSFZWFrfeeqtprhwyZIhZ7pNPPuHw4cNMnjyZCRMmYLPZUBSF8ePHs2rVKgoKCigvLyciIoLVq1eTkJDA7NmzSUlJobGxkeTkZG688UaKi4vZt28fY8aMISIiAovFYmrpxowZg9PpJDExsUP/4M6MlRACu93O+PHj2bhxI//5z3/45JNP0DSNhIQEfvGLX5Cenm76aQXnaPX7/axdu5bGxkYuuugi08TeGTDG0XDlMGjgkCFDCAkJYdWqVSxZsoSnnnqKiIgIrr76avx+P5WVlTidTrp06cLSpUvZunUrDz30EF27dmXp0qX4/X40TWPixIkMHTqUHTt2UF5eTmlpKS+//DL5+fl069aNu+66iyuvvJJ+/fqZc/1Dg2+dQRMBm7IkSRQWFrJp0yamTJnChRdeiM/nY9q0aXzyySesXLmSa6+9FpvNRkNDAwUFBcTExDB48OA2dfl8PnOSZVmmpqaGoqIiMjIySEtLMwmG3+83N6TVau20yUpVVRobG9E0jT59+hAeHo7f70dRFMLCwkhISKCmpsa84WkwRsFgmLpUVTWJQWfHSpIkvF4vx48fJzQ0lISEBLO/BpHOz8832wxu31hwRvuKorTZxEY9BsOckZGB0+mkpaUFq9VqmpfdbjelpaU0Njby7LPP8thjj7WpQwhBamoqZWVlWK1WamtrOX78OGPGjKGxsdEkAgYDefToUdxuN2FhYQgh6NatG3feeSdz5swxCePZ3rAxmEwhBFu2bOHRRx/l+PHjzJ07l+HDh7N//36WLFnCc889h9VqZerUqdTU1PDaa68xf/58srOzmTdvHjabjS+//JJly5bhdrv54x//SPfu3U3VvqZp5lqSAjfhTjWfsixTWVnJunXrcLvdjB07lh49epgHgNPpZNKkSUyePNkcz4kTJ5Kdnc1jjz3G1q1byc/PJycnh6amJo4ePUpubi6rV68mLCyMoUOHMmXKFFJSUkhNTaVXr14mLj9EYnMeOgZjXQMcOXKEgoIC0tPTyc7OJiYmhtGjR/PFF1+wa9cuiouLGTx4MG63m6KiImw2m2kuNy7yGPQXMBmNiooKoqOjSU5OBjBplSFgdnY/GnS4oaGB5uZm4uPjTX9bVVWJiYkhNjaW+vp6GhoagNYb38FtGDTLYEyNnzOBUd7tdlNZWUlUVJTJvPh8Pmw2G926dcNms5ltGu0YPwauxtlhnBvBfTQUAunp6cTHx5v/G7TU5/Nx6NAhFEXh7bff5tVXXzXphmHWDQsLo6KigvDwcBobGzl06BDXXXcdHo/HpC8WiwWPx0Nqair19fXEBEKNOBwOZs6cybRp08wzzbyVe5Z+XxaLhcOHD3Pfffexbds2Zs+ezfjx46mqqmLRokU8+eST+Hw+br75ZsLDw00Tq8ViYevWraxfv54BAwaQk5Nj+tEGg3HmG8+DaWawYuGee+5pcylg2rRpDBgwgHnz5rF8+XIuvPBCYmJiMEJ6lJSU8NZbb5GZmclFF11EXl6eqbiRZZn6+npKSkrYunUrH374IS0tLQwbNozbb7+dXr16kZaWRkpKSpvz6YcG3wmDZrFYaGpqYtOmTbS0tJCfn8/NN9+MEIL6+np8Ph9FRUUcPXqUPn36mIyYHjjPZRIBg6M3GAnjb6/Xa8acMsoah6sBnZkMY6PW19ejKIrpuGhoVYwD2vD3OhUhMZ61j3J8JjDqURQFt9uN0+k0cTAWdnvmoCNp02j/dE6bhs0eaCO5qqqKz+ejqqoKWZaZPHmyKbEHt921a1d69uzJ7t278fv99O3bl8svv9z0iTCInMPhYMiQIdhstjb4Gf06101izFVjYyOrVq1i//793HHHHTzwwANYLBYuuugiYmNjefDBB1m0aBEXXnghBw8e5JNPPqFXr1789re/NbUK6enpNDY2snnzZjZs2MD06dPb9MFut58ZIfTD4tixY2zatInY2Fiys7NxOBzm2AUz0MaBIMsyycnJDBw4kA0bNlBcXExMTAzPPvssK1asIC0tjTlz5nDBBRfw6aef8vzzz1NXV0dYWBhz5szh7rvvJiIiAqDTgsB5+H6Dse5UVY8ZWVpaisfj4fHHHycsLAyPx8ORI0cIDw/n8OHDDBw4EMBkyIwDCzCF02BBzuv14vP5cLlcppbNoFfBgs/Z+DUZdRqHsbEWg6O9G1HeDZoVXH+w0H22TIfRfmNjo9kPo02DgTLG1WjLYEKNcQqmgcE3Fo1vNE3DZrMRHR2Nw+FoM15G+ebmZvx+P2PHjqV///7mOWTg4XA4GDhwIDU1NXg8HpKSkhg1ahTR0dFmHUb5jIwMYmJi2tCN4NuH50I3g/uzdu1a9u7dy5QpU/j1r39tMuo9evTgvvvuY/ny5YwdO5b09HSzj4qisHXrVkpLS5k5cyaxsbEnBYc1cAum98EQ3E/jvFEUBZ/Ph8Ph4MILL6Rr165UV1fj8/mIiIggJiYGr9fL/Pnz8fl83H///fTq1cu8iOdyubBarfztb3/j9ddfJzo6milTpjBt2jTWr1/Pyy+/THl5OW63m9tuu43HHnuMxMTEHyST9p0waJqm4Xa72bhxo+7M2txMbm6u3qDVSlRUFCUlJWzcuNF0VrTb7bjdbhobG4mLi8Pn8wGtG0nTNFNDZDiANzU1ERYWZh6AwUxdZ8DYdNHR0ViteugMi8VCS0uLGVtIvwItmarxjjRzxsSfjSRofCeEHpk5KiqKyspKPB6PyRAaksmpcA+Wkg3Nz+nU4AZxaq9hczgcxMTEEBMTw9VXX80VV1zR4feaplFSUkJUVBT9+vXj4YcfNm8yddQ3ow2/309DQwNerxer1UpkZKTJsJ0NBEvOYWFh5qYztHhJSUnEx8dTXV1NdXU1NTU1lJaWMnLkSJKSkvD5fPh8PmJiYsjIyGDLli0cPHgQRVFMpry8vJxt27ZRX19PVFQUgwcPNolZe42l3+9n165d5OXlMWHCBAYMGHASA20wlsGHUUhICA6HA0VR8Hq9REVFMXXqVG655RYuuugiLBYL7733Hp9++ilTp05l6tSpvPXWWyxfvpycnBzGjh1ragd+aATnPJwMxl5pbGxk586d1NfXY7PZ2LFjB4qimLfRamtrycvLY8yYMeah6Pf78Xg8bYTY9gyR4fpQW1uL1+tto0kymIrOgiG4RkREmNp4v99v0mtjvRuCurEXzsWN4HTgdDqJiooybwYGu5q0d+1oj7/x3AgwfSoNorFX22vXDGHY5XJht9u54ooruO66605J0/bu3Yvdbic6OprbbrutjZXoVCCEoKGhAbfbjaZpREZGmsqLswGD0Tpx4oTpeB8WFobb7cZut5OamkqXLl0oLy83zz/jHKmsrOSLL77AbreTnZ1Nly5d2qwrY2zr6urYvHkzx48fJyQkhJEjR56k7Q+ej+Czy7Cm+Hw+WlpaTDN0c3MzVVVV3HXXXQwfPty0nvn9fnM+hg0bxujRo8nJySEyMpLdu3ezYMEChg0bxpw5c/jggw945513uOyyy5g8ebIpTPyQaOa3GskteALKysooLi5mwIABvPXWW+Tl5bFx40bWrFnD7Nmzqa6uprCwEICwsDAGDhxIZWUlq1evRpZlnE4nNputjblSlmXi4uJIS0tj7969bN682ZQybDabqbLvLBiEzODIDxw4QFlZGQ6Hg9DQUKqqqigqKiIsLMzcHO0lh+Df5wKapuFwOEhMTKS5uZmSkhLTDGiYfo2+G2D4KERERKCqKh6PxzSpne2hLYTA5XLRq1cvamtrWbNmDT6fD7/fr0d8DkjBbrfblHBcLhcFBQXk5+eb2j+DkQzWNhqMc1lZGX/+85+ZOHEi99xzD9u3bzffnQ0IIUzNqc/no6mpCavVSlhYGDabjebmZjweD6GhoeZPeHg4DQ0N1NXVmaEqPB4PFRUVaJpGeHi4KfEqisLu3bt54oknmDNnDr/73e/Ytm2bKRy0h4qKCrZv347VamXo0KF07dq1jZRmHAaGb6Ldbsdms1FeXs7evXuJjo6mT58+JCYmcvXVV3PxxRcjSRL19fWUlpbSv39/ZsyYwbhx45g2bRrh4eEUFxeflUnqPPxwoKKiguLiYhISEnj66afZtGkTGzduZN26dTzwwAM4HA6Ki4tpaGggLCyMlJQUmpub2bZtGw0NDSYjF6wZkmWZmJgYevfuTVlZGbt370ZRFJO2GsJvZ11CjDodDgc2m43S0lKqqqpwOBw4HA7Ky8spLi4mLCyM6Oho80BsLxSeKxh0JSwsjNjYWGpqaigpKUHTNEJDQ/F4PBQVFZlWFqNfxm+Xy9XGSmHElOzIKmLQhfbPDc2l4be1du1aSktL8Xq9JgMM4PF48Pv9xMXFERcXR0FBAUVFRSZTa5gFg5la43dTUxNvvPEGP/nJT7j11ltZu3atycB0dq4MMCxThl+4YQq2WCzU1NSYERWM89PAf8eOHRw8eJC0tDTTjB48Vgau5eXlPPPMM/zqV7/ijjvuMHENFhp8Ph+yLJu00MAnPz+f+vp6unbtSlhYGCEhIQwfPhy73c7IkSOZOXMmCQkJeL1eNmzYgM1mY8iQIabP2hVXXGH6/u3fv5/Q0FBuvvlmRo4cyc0330xSUhJHjhzB7Xa3WQc/FPjWNWjGBBcUFHDs2DFmz55NZmYmABEREWiaRnZ2Nt27d2fLli1UVFQQExPD1KlTWbZsGS+++CIxMTGMGDECIQQrV66koqKCu+++G0mS6NKlC5dddhnLly/n6aefJjQ0lIyMDBobG/n4448B+NWvftVGmuwIgjdgUlISF198MUuXLuXll1/m9ttvp6amhn/961+UlJTwy1/+ktTUVFNyau9Meq6mJqP9qKgoRo4cyeLFi/n3v/9N9+7d/z973x0eZZW+fc9MZiaZkklm0maSSW+EhJCEQCAQIcgqooiuCwjiispaF/kEGysqiqui6E/RdVXEdVVQukiTEkrohJ5CQgqkkDZpM5lezvcHnrNvhgBJAOvc15Urycz7nn6e85ynQqVSYenSpThy5AhTOXLh4+OD4OBgbN26FatWrfop+KkIvr6+CAoKYmVfTo3AtYFQKBQYPnw41qxZgxUrVkCr1eL222+HWCxGZWUls4n661//itDQUOTm5mLRokV488038fTTTyM2NhZGoxFHjx7F4cOHccsttyA3N5e5adtsNjQ2NrLQFtS46YInAAAgAElEQVQ2pS/jJZfLERsbC6fTiXXr1iEqKgqDBw/G2bNn8Z///ActLS248847oVKpYDabkZycjD179uDrr7/G/fffD29vb2zZsgWbNm2CSqVCSkoKUy/Rw83Pzw9BQUFQKBSXzC33slBbW4sTJ04gKioKWVlZXRw3XC4XKisrsX79eohEIgwbNgw+Pj44f/48u7BMmDABCQkJTORPJbpyuRxhYWGoqanB2rVrYbFYsGbNGhgMhovpfn6SgHhUnL99cC+1FRUVqKysRHx8PJKTk1nIHoFAgLS0NERHR6OsrAznzp1DdHQ0srOzsXXrVqxcuZJJYRUKBfbt24eKigqMGTMGiYmJ8PPzQ05ODnbt2oUvv/wSUqkUo0aNgpeXF7Zu3QqTyYSxY8ciPDy8WxMKLuh3kZGRyM7OxieffIL//ve/kMlkUKlUWLFiBQoKCpCbm4vExER22HOl99fCpHFtxtLT0/H9999j9erViIyMREZGBjZs2IDjx49DLBYzbQqlhSKRCJGRkbBarfjhhx9YiCCJRIKAgAAmDKCSv6tdhHJycpgpQmBgIKZMmYKQkBC0tLRg48aNIITgrrvuQnR0NG655RYUFBRg8eLFEAgEyMrKgsvlwunTp7Ft2zaMGDECo0eP7qIqpM5CMpkMBoOhC7PZGy0NcHG+fH19sWnTJsTExOC2225jTGBlZSX+9Kc/wc/Pj9FBQgiOHz+O9vZ2DB06lDl2dTcffD4fCoUCGo2Gabm4Jkk8Hg95eXnYs2cPMjIyEBUVBbFYjBMnTuC9995DQ0MDnnzySahUKhBCMGzYMAQHB6OwsBCbN28Gn8/Hnj17cPDgQcTHx2PAgAGMGad1iEQiREVFwW63Y/ny5RCLxdi0aRPq6+sRGRnJND2/JekZgOsbZoO61TY0NJDp06eT4OBg8t///pc4nU5iMBiIyWQinZ2dpLq6mtx6660kPDycbNu2jRBCSEdHB/nkk09IeHg4EQqFJCIigmi1WiKXy8ljjz1GnE4nsVqtxOFwEJ1OR1577TWiVCqJRCIh0dHRJCIigqhUKvLKK6+wdvS0zXa7nRw+fJiMHj2aCIVCotFoSGhoKJHJZGTy5MmkrKyMEEKI0+lkz3d0dJAPP/yQqNVq8t5777E6e+vG63Q6icPhILW1tWTWrFlEIpGQgIAAEhYWRsLCwkh8fDyJiYkhy5cvZ3XTMCa7du0io0aNIn5+fsTf35+Eh4eTRx99lLS3tzP39sbGRvLKK6+Q2NhYsmzZMjaO3Ha6XC5iNBrJ+vXrSUZGBhGLxSQsLIzExMQQlUpFVCoVeeaZZ0hnZyexWq2kurqavPDCC8Tf35/IZDISExNDNBoNEYlEZMCAAeTHH3/sMl9lZWXk/vvvJwKBgAwaNKjPYTboOzU1NWTevHkkMDCQyGQyEhERQQICAohMJiNTpkwhJSUlxOFwEIPBQLZt20ZycnKIl5cXCQwMJFqtlohEIpKQkEA+//xzYjQaid1uZy7eGzZsIAMHDiReXl4kJSWFrFq1in3HbQMd18DAQDJz5kyi1+tZGBA6p8eOHSPjx48nIpGIBAQEkODgYCKRSIivry+ZPHkyOXLkCHuWzgcNdVBVVUWeffZZEhYWRlQqFYmNjSVvv/020ev17B0PfvugYSsMBgOZP38+UavVZO7cuaS1tZVYrVZiMpmI3W4nDQ0NZMaMGSQwMJAsWrSIGAwG0tnZSVavXk2GDx9OZDIZUavVJDIyksjlcjJ+/HhSUFBALBYLsVqtxGAwkP/+978kPT2dSKVSotVq2bN/+9vfSGVlJdsHPWmz0+kkZ8+eJdOnTycymYyEhISQ0NBQIpFIyNixY0l+fj4ri9Itp9NJVq5cSQYMGEBmz55NLly4wMrq65i99dZbRKvVkoCAAKJWq0l0dDTp168fCQsLIwsXLiStra3E4XAwWlRYWEj++te/ErVaTUJCQkhAQAC56667yNGjR4nVaiUWi4U4nU7ywQcfkIiICLJo0SK2t+ke5YaPOHjwILnjjjuIRCIhgYGBJDo6mgQFBRGhUEjuv/9+UlpaSlwuF2lrayPvvPMOiYqKInK5nERHR5OoqCgikUiIWq0mX375Jens7Ow2zEZUVBQLs9Hb8aK0pbOzk7zzzjskMjKSSKVSEhkZSYKDg4lIJCI33XQTycvLIxaLhYUcKSgoIIMHDyZJSUlk+/bt3Z5tdE5PnTpFsrOziUgkIjKZjCxZsoQYDAZit9uJ1WolTqeTLF++nMTGxhKRSESUSiVRKpVEKBQSpVJJXnjhBVJXV0fsdjsLe/Tjjz+S9PR0IhaLiVqtJt7e3iQ1NZVs2bKFmEwmNh9cmmu1WskHH3xAIiMjiUqlIv7+/iycS1/W2a8BPEKun8yPFqXX63Ho0CEYDAZkZ2czLxh6+7Hb7Th27Biqq6uRmZmJmJgYJhWoqKjA3r17UVNTA6fTidTUVAwbNoxFeaY3Gup8cPjwYdTU1MDHxwdpaWkYPnw4Cz7aU9BbXkNDA3bs2IHy8nJ4e3tjwIABGDZsGPz8/LpILMhP6rCqqioUFRWhX79+SExMvKrU7kr1k5/E2vv378fx48fh5eWFoUOHQiqVoqamBgMHDmS2UFy0tbXh6NGjaG5uBp/Ph1arRWZmJrOpstvtKCkpQXl5OTIzMxEREXGJ/RJtN7XBOnjwIEpLS2E0GqHRaNCvXz8MHDiQ3XCoo8bJkyeZi7NIJEJcXBzS09MRHR0NkUjEyu3s7MSpU6dQWVkJpVKJtLS0Phtt0rEyGo04efIkjh49Cp1OB19fX/Tv3x9ZWVlQKpVd7FBqa2uRn5+PyspK2O12aLVaZGVlITk5+RKblQsXLrCbI7VBCwsLY/Pq3qf6+noMGDAAMTExXWxggItGxCUlJTh58iRqampgsVgQHByMpKQkpKWlISgoqNsxoO8bDAYUFxejvr4eUVFR6NevHwuj4lFx/j5A59poNKKwsBANDQ1ISEhAbGwsUz9StR7dx9RDjarqamtrceTIEZSUlMBisSAqKgpDhw5FTExMl31ICEF5eTmOHj2KiooKOJ1OJCQkMBvN3oRxoPRcp9Ph6NGjOHHiBGw2G+Li4jBixAhotdpL+sjj8VBdXY3Tp08jJCQESUlJzCGnL17dwEVngWPHjuHgwYMwm83IzMyESqVieyY+Pp6FPuLu3cLCQrYnQ0JCkJ6eDn9/f9aW0tJSlJSUICEhAXFxcd2ODbV7a2trw7Fjx3Dy5Em0tLQgICAAcXFxSE1NhUaj6aLFKCoqQkFBASoqKsDj8RAeHo6MjAwkJCRAIpGwNlJzizNnzkAsFiMtLQ3h4eF9sqEiHKeRU6dO4ejRo6iqqmJBs0eMGIGQkJBLtAOHDh2CSqVCenr6xXzF3WhhgIs2aAUFBdDpdBAIBMjIyEBEREQXG7SWlhacOnWKBV328vJCaGgoC1xOQ0XR53k8HoqLi3Hw4EHU1NRAo9EgOzsbMTExzCGEO6dctevJkydRWVl5MS1Vaipz8vgt0szryqBdK9xdsa/0HPUW+jnq7u4794O1r8wZ9/2rqa24U0UXZ0/ecWfELtfGnvbhWvt6rbhav7kMF/27OybIfQ57a7vXk3G61rHu7p3evufB7xe9ueT05UJ0tfKAS9fiz0VH3NWnl6ujJ3S6r2Nzvcf0RuFKY00d7G5U/6/2THf1X+4dbliWntTTU57i14obwqBRCRMhpNvQE1SKRn4y+uYGCqTxZugk0IPY/TCmhtvcCaD19dU2x+l0shhC9IC/Unn0eW6exL6CMh3cGEbc77prBx0vrjEmbQuXKaNjyr1JXm6B03F1Z+qofRZ9l7YV6CpZonPlLpniutxfyxxR0H7T+imxdi+b9r87L6/ubsU9jYPGHXs6Nu6gY8llEi/Xziv1ka7x3oZx8eC3A7pH6MXzcnud2vhwQ0lw9wL9jOss0F0d3P19ufXbE9A2cdf31WgmPZCvh0cdrd8dlGZ21y/6Dr2k0f5z9xalVz0ZG24buBdDd69BdzpIP7vc3qbPAj2jF1eD+/xTmu1eN1fTdTk6ScvjPktpG3W8cB8jek65ny3unrLu/afris/nXzUQPHeMfw808xeVoF1NwnA56Ud3zwHXT+1Dy/ylJvZGSKh6e9Pry/j3xPj3Rtzie9LO3j57PcFVMdF6fwu3bg9+O/gl90Fvy7sRUid3mvlLSLZ6SzN7Qgtu1FnQ03beCIlrb88L9zH4I9HOX5WK0wMPPPDAAw888ICLX9qs5pfCDcnF+UfELyWd+bXU74EHHnjQU/RW8n4j2+Chmb9+/FHn52dh0Lg2ab3JVflrB7X/AH4ZrzpqM0bt9Lrzavk1oDs7ucvZn9AAtly19bXaqnDHCfhfIvOr1c+1D7maDcavabw9+O2Dazv6e6KZALrYVf4S+4ZbPzcY7a9pD9M2cmmWuz2Vu40v13a7L4nVu2sD127scvZc3LV6JZrJVdb9msb614yfRcXp7knxeznQuuvHz9W37m5/v7ZxpYSDbm4KygS5b2KuMwP3M6fTeVXj0MuBmwaMGyaFGp9yP6OMnHseTffPqHMIJYjcRMYeeHCtcN/Hv7Z93RdwnYsAdGGMKH6OPrp7DP4ax5bSTHemnKY54n7OZeLdne26K6OnoHlWuec2rZ8bDoPSeG799H36GY93Md0UFdIAlzqzedA9biiDRos2Go2oqKhAR0cH4uPjWcyV3/Lk0IO/vLwcGzduRElJCaxWK9LT0/HQQw9BoVDc0D5SZqKmpgabN2/GqVOn0N7ejpiYGDz55JMIDg7+RaPNcxlIvV6P4uJidHR0QCKRICoqisUWA7oa9lqtVlRXV6Ourg4ikQgxMTEIDg7utSqCu6ydTicaGxtRWVkJl8uF0NBQREREsFQw9OCgY1pfX49z586Bz+cjMjKStfVyEjP67u9JyuHBLwO6tiwWC2pqatDc3Izg4GCEhYWxmGG/VVDmrKamBnl5eTh27BiampqQmJiIKVOmIC4uDsCN0UZw92xjYyN27dqFgoICnD9/HqGhoXjooYfQv39/AL+sdIcyVlarFaWlpaivr4dQKIRWq0V4eDiL6UWfBS6OV3V1Naqrq8Hj8RAVFYXg4GDweJcmqe8JKO3U6XSorKyEyWRCcHAwoqKiIBKJGB3mSh5paker1QqNRoPw8HCIxeIrOgH+ls//nw3kBoFGW7ZarWTnzp2kf//+xM/Pjzz33HMsWnN3Uatp1HYa1ZlGzu8ONEI099nr0WaLxXLZup1OJzGbzcRoNJLi4mJyyy23EB8fHxIfH09SU1PJrFmzSEtLC3u2t/Xb7XYWoZm2xWq1srbQLAImk4lUVVWRhx9+mIjFYhIREUFSU1PJAw88QKqrq1lkZZvNxsqh0a/pmHU3/rQNNpvtimN/tX7Qevbv309uv/12IhaLiUgkIt7e3mTAgAEsij+NBG2328n58+fJiy++SDQaDfHy8iIikYgMHz6cbNy4scsY9AQ04r9eryffffcdyczMJCKRiIhEIhIdHU3eeust0tbWxp5zuVykqamJfPTRRyQ5OZmIxWKWTYAbGdvlcpHq6mryySefkKeffpr85z//IRcuXGD98MCDawHd/0eOHCETJkwg/v7+ZPr06aSoqIhlmXAH3bOUVtB93h0uR1f6ip7UTWmW3W4n1dXVLPtAZGQkSUxMJPfffz85fvx4jzMZuIPSD3qmUPrGbQulaW1tbeS5554jKpWKhIWFkbi4ODJu3Diyf/9+Rv/pD7cMGhWfm/XDfQyuhWbSfjidTlJaWkoeffRRolKpiFAoJGKxmISGhpLXX3+d0Rra3/b2dvLhhx+SpKQk4uPjQ0QiEUlMTCRLliwhra2t7LmegrY/Ly+P3HbbbUQmkxGBQEDkcjl56qmnyPnz51kmB3pWr169mgwbNoxIpVIiFApJaGgoeeONN0hDQwM769va2siqVavIM888Q95//31y5swZlp3gWtbf7x03jEGjB3R7ezt55513WCqiMWPGkJqaGrbI3N9x36Dc1ETcH7ohuKALpi8pHbpLPUSJGS2PW7fFYiHr1q0jYWFhZM6cOSylxfVIJ8FN6cT9jJs6xeFwkPz8fJKcnEwmTpxIdDodcTqdxGKxXFIWN42Q1Wrt0r8bwVTQcSsrKyPTpk0jISEh5IknniDr1q0jH3zwAUshsmbNGmK324nZbCY6nY688cYbRKFQkJtvvpn861//InPnziVRUVFkyJAhjIB2RyDdQRlEm81Gtm3bRgYNGkRiY2PJSy+9RBYtWkRGjBhBYmJiyKeffsoOK7PZTL799lsSFRVFUlNTydtvv03eeOMNMnDgQDJw4ECydu1a4nA4SHFxMZk6dSqRy+UkNDSUKBQKMnnyZFJVVdWlfTQtmAce9AaUSVmxYgUZPHgwCQoKIjk5OWTjxo3d0hfKnHDXmjvd4pZN6ZT7+32lmTabrQsNuVLdTqeT7N69m4wYMYLcd999pLi4mB301+OgpmVx20LLpvXTS/Vtt91GCgoKujCF3NRBtC3cd2kdN2Jf07r1ej155plnSHBwMJk4cSJZuXIlWbZsGRk5ciRRqVTk/fffJ21tbcRoNBKbzUa++uorEh8fTwYNGkTefPNN8s9//pP079+fREVFkbVr116WqbxSGwoLC0lOTg4JCQkhzzzzDPn0008ZszZv3jzS0NDAUkLt3LmTpKamkvDwcDJ//nzy4YcfkmHDhpGgoCDy73//m7S3t5P29nby1FNPEaVSSSIiIohUKiVjxowhp0+fZkyph2Z2jxvuJGA0GlkW+sGDB+P06dM4evQoQkNDuzxH7dRcLhc6OjrQ3t4OHo8HlUoFqVR6ybNeXl5wOp1obW1FR0cHhEIhgoKCIBKJmCi9pyCcgIVGoxGtra0AAJVKBR8fny6iZLvdDqPRCIvFwkTKYWFhIISgpaUFUqkUPj4+fRLfOp1OdHZ2wuVywd/fHxaLBY2NjeDz+VCpVJBIJKx+m82G5uZmmM1mBAUFQS6Xo6Ojg9lEEUJgMplY2a2trZDJZFAqlWzMQkJC4OPj00Xc7HA4YDAY4HA44O3tDYlE0ivVHeGoIquqqlBQUICcnBzMnTsXGo0GFosFSqUSc+fOxY8//ohRo0ZBKpWivr4eBw4cQGxsLF544QXk5uaioqICjY2N2LJlC/bt24esrCy2Rq6WPcHlcqGlpQV5eXlobm7G008/jSeeeAIGgwE8Hg+vv/46du7cidGjRyMqKgpVVVXYsWMHxGIx5syZg6lTp6K+vh56vR5ffPEFdu7ciWHDhqGkpAQlJSWYP38+Jk6ciC+++ALLli3Dnj17MGXKFFitVohEouua5cKDPwYoDWxra8OhQ4dgs9mQnJyM1tZWFBcXIycnBxKJhD3HtTOidMvhcCAgIAByubyLmQG1veLz+TAYDGhvbwdwkcbJZLJL7MGuBlquUCiE0WhEe3s7nE4n/Pz8IJPJupgCOBwOGI1GCAQCNDY2wmAwMHrW2dkJAJBKpSxJd2/NGAwGA2w2G0tH1NTUBKvVCn9/f8jlcrhcLnR2dkIsFqOtrQ1GoxGRkZGQSqUwGo1d6jcajcy2tL29HRKJBH5+fuw9pVJ5yXlE6bbNZoNIJIJUKu31/qeBtKuqqnDw4EEkJSXh2WefRUZGBgDA398fL7zwAvbs2YPRo0cjJiYGLS0t2LFjBwBg1qxZmDBhAgQCAfR6PZYsWYL8/HwMGjSoRyZF3LWyc+dOnDt3DlOmTMFTTz2F0NBQ+Pv7o6KiArt27cIdd9yBAQMGwOVyYePGjaitrcXzzz+Phx56CP7+/iCEYOHChdi2bRtGjhyJpqYm7NmzBw8++CCefPJJ5OfnY8GCBdixYwdT3V9LsOTfM27YiNAJb2pqQmlpKTIyMnDPPfdgz549KCgowPjx4xnRoM+fPXsWS5Yswbp169DW1gY+n4/o6GjMmjULEydOZHZfNL/kxx9/jJ07d6KjowMCgQADBw7Ec889h1GjRrEo0D1pp9PpREdHB7799lt8+eWXqKyshFgsRkpKCh5++GHcfvvtLC9eSUkJXnnlFZYjjc/n4+OPP8aXX34JHo+HnJwczJs3D0qlstepq2pra/Huu++ira0Nd999Nz7//HNs374dcrkcQ4YMwfz58+Hv74/XX38d+fn58PX1hc1mw6ZNm7B37144nU4kJyfj9ddfh5eXFz7++GPs3bsXfD4fRUVFGDp0KPr374+1a9fCYDBg+vTpmD17NhQKBSP2x48fx6JFi1BfX49hw4Zh1qxZCAwM7FVqLZfLxRhIQgi0Wi18fX1hMplACEFsbCyioqJw+vRpVFVVISkpCWVlZSgrK0NaWhoSExPR2tqK7du3Iz8/H3w+H4WFhaisrERUVFSPbOt4PB6am5tx5swZBAUFITk5GQ6HA0eOHMGWLVvA5/NRU1ODkpISREZGoq6uDqWlpQgODkZiYiKMRiMOHjyIvLw82Gw2lJSUoKqqCoQQBAQEICkpCWq1GikpKQgICIBer4dAIIC3t7fHFs2DPoEyHK2traitrYVWq8XIkSOxYcMGlJaWQqfTMXtISjvr6+uxZs0arFq1ChUVFbDZbNBoNJg2bRruvfdelgdZIBCgsrISy5Ytw/fff4+6ujo4nU7ExsZixowZmDBhAsthfDWaRdtpNBqxadMmLF26FKdOnYLT6UR0dDTuu+8+/PnPf4ZKpQKPx2N0bd++fey9LVu2YO/evbBarcjIyMCsWbNYbtye7B96CTeZTHjvvfdQWVmJMWPGID8/H+vWrYPBYEBiYiJeeeUV5OTk4P3338f3338Pp9MJvV6PmpoaTJs2DSaTCSEhIXj55ZeRlZWFf//739i5cyeMRiPKyspYHuL9+/ejoqIC48ePx+zZs5GYmMjmoKKiAp988gmOHj2KxMREPPnkk+jXrx+zAevJvBOO3ZfZbEZcXBykUilMJhP4fD7i4+MRHR2NmpoaXLhwAQkJCaisrERxcTESEhKQlJQEANiwYQN27doFoVCIoqIiXLhwARqNhtVzOSaNrhGDwYCSkhLw+XwkJydDoVCgpKSEnRkWiwUlJSXo168fmpqacPLkSYSEhCAtLQ0+Pj44ePAgNmzYAEIICgsL0dTUBIvFAplMhqysLAQHB2PAgAFQKpVobm6GxWLpde7sPxJuCINGJRh2ux2HDh3ChQsXMHHiRAwaNAhhYWE4ceIE2tra4O/vz9JJnDt3Do8//jj27duHzMxM/OUvfwGPx8OPP/6I5cuXY8KECQAuHrzHjh3DE088gcrKSuTm5iIrKws6nQ5r167FV199hVGjRl0SrflK7TQajfj6668xe/ZsREdHY/r06Yz4zJkzBw6HAxMnToTVaoVcLsewYcOg1WpZYu2EhAR2o4iLi4NIJGJt7c2Y0eTap0+fxokTJ2A2m3HvvffC6XSitLQUhYWFuOWWW5CWlsZun7t374ZWq8Xw4cPhcDgQHh4OHx8fdHZ24ty5cyguLsbw4cORk5ODvLw8HDlyhN1q1q5di6FDh+LWW2+F3W6HUCiEXq/H6dOnUV1dDV9fX1gsFgDotVTS5XLBarWCEMKMRemtWigUQiKRoLGxEW1tbeyGazKZEBQUhMDAQBw/fhxr1qyBl5cXFAoFKioqYDAYenTTp/VQSWxgYCCCg4PR0NCA77//HqdPn0ZkZCRMJhOamprgcDjYDblfv34ICQnB+fPnsWbNGuh0OkRGRqK9vR2NjY2Qy+VoaGjAO++8g9OnT2PHjh1wuVwYOHAgLBYLiouLsXbtWtjtdjz++OPQarXXPW+sB78/UHrF5/NRXFyMs2fPIisrC0OGDMHRo0dRXl6O8+fPQ6vVMq+5+vp6/POf/8SXX36JmJgY/OUvf4Gfnx+2bt2K9evXIy0tDf7+/uDxeOxiuXXrVqSlpeHBBx+El5cXtmzZgh07dmDw4MHw9fXtUWR3epnbuHEjFixYgM7OTowbNw5+fn7Ytm0bXnrpJej1ejzyyCPw9/eHRCJhNKumpgbHjx+HRqNBWloaACA6Ohr+/v59cg4wm82oq6vDoUOHcOTIEfB4PIwePRpyuRzHjh3D+fPnQQhBYmIirFYrdDodu9xmZ2dDIBBAoVAgKCiIXer279+PjIwM5OTk4MCBAzh8+DDGjRsHqVSKzZs3Y/DgwV2SgRuNRkZreTxej+kUF5Q+Wq1WOBwOiESiLqGTqGSupaUFbW1tcDqdaG5uZgb8CoUCjY2N+Prrr+FwOKBQKJiGpSfnEJUaGgwGXLhwAcHBwdBqtfDy8sLq1avZnNXX16OhoQFWq7WLJkapVMJqteLrr79GdXU1NBoNDAYDGhoakJKSApfLhTfffBNVVVU4cOAAGhsbMWLECAQEBKCiogJr165FZWUlZs6ciYSEBE98up9wQ08Ns9mMwsJCiMVixMbGwtvbG+Hh4Thx4gTOnj2LzMxMOBwO2Gw2rFmzBocOHcJf//pXfPDBB2xxzp49GxUVFWzC2trasHLlSly4cAH/+Mc/8PzzzwO4eAOYM2cOGhoaLgnr0B0oc0ZvoevXr0d0dDQ+/fRTjBw5EkajEdnZ2XjqqaewfPly3HzzzVCpVAgPD8ecOXNgNBqxcuVKHDhwALfeeisee+yxS+ro7eLy8vKCXC4HAGRkZODFF19EbGwsHA4HOjo64HQ6ERAQgEceeQQCgQC7du3C3r17kZ6ejgULFrB+OZ1OmEwmCIVCREVFYf78+TCbzSgtLUVSUhI++OADbNq0CW+++SZT53LbLBKJIBKJuniN9bQvdFMJhUKEhISAz+ejsbERTqcTEokEDocD7e3tqK+vB3DRddtqtaK9vR0OhwNCoRA6nQ5r1qxBS0sLHn30UezatYuV0RPQw85isUCn0yE0NBRCoRDHjx/H/v378Ze//AUikQjr1q1jTKTZbEZnZyckEgl4PIIcDZ0AACAASURBVB7y8vJQUlKC++67D7W1tTh06BCsViuys7Px0EMP4aOPPsJHH32EhIQETJ06FRUVFVi4cCEKCgqgUCgwdepUeHt7A/hlYuR58NsCpW92u5157wUFBSE6OhpqtRoHDx5EWVkZU/MDwO7du7Fr1y7ceuuteOmll5CamgoAePLJJ9HY2IiAgACIRCKYzWZs3boVR48exbRp0/Dss88iOjoaAPD4449Dr9cjODi4R5Irqoqrr6/H1q1b4XA4MG/ePEyePBkSiQR5eXmYN28e8vLycNNNN2Ho0KEIDAzE9OnTAQDr16/HmTNnMGTIEPy///f/EBAQcM1jJ5fL0dnZif79++Pll1/GsGHDAFyURhFCIJPJMHHiREycOBFHjhxBWVkZEhIS8MQTTyAmJgZA1xA/Wq2WMQozZ84EAMyZMweVlZV49dVX0dbWxnIwU1BpGc0r2RvmguvFHhAQAIlEAp1OB5PJxEJd1NfX48KFC+js7ITZbIbT6YTRaOySO3r16tUoKirCY489hr179+Lw4cOMWaTM/9VgNBrR0dEBh8MBqVSKgoICrF+/Hn/605/g6+uLr7/+Gh0dHbDb7TCbzbDZbJBKpfD29sbGjRuRl5eHyZMno7m5GRs2bEBLSws0Gg3mzJmDhQsX4v3330dwcDAee+wx6PV6zJgxAzt27IDdbsfdd98NHx+fKyZE/6PhhknQ+Hw+kzDFx8dj0KBBkEgkyMjIwL59+3Do0CEMHjwYIpEIzc3N2L17N1QqFe69914IBAJYLBYIhUL4+voiPT2dbSCdTofDhw8jISGBqT0tFgtEIhHUajXUanWP20mlQi0tLaiqqkJqaiqysrJgs9kAAEOGDMGgQYNQXl6Ouro6KJVKlkibKyGiyVmtVitTewJ9c9d2uVxQKpWYOnUqoqOj2TioVCo2tsBF5lev13dJqG21WrtIqijBoURaKBTC29u7i4TTbDYDACMqsbGxeOqpp9DS0oK4uDh2A++tBMjLywsajQahoaHYs2cPli9fjltuuQXnz5/HJ598gnPnziEiIgIWiwUulwsmkwkulwsymQwnTpzAxo0bMWbMGOTk5ODHH3+E0+lk88IF96bKdf0GLqo/2traEBkZiYaGBqxYsQLBwcGYNm0aNmzYAKvVymxOTCYTjEYjfH19cebMGXz33Xfo168f7rnnHnz00UesLpVKhZkzZ2LatGk4cuQItm/fjs8//xwdHR3Izc3Fl19+iaysLMZo98amxoM/Juh+5PF4qKurQ1FREcLCwpCWlgaVSoWUlBRs27YNxcXF0Ol0UKvVaGlpwbFjx8Dj8TB27FjEx8fDZrPB5XJBoVBApVKxuFM6nQ6FhYUICgrCHXfcgYiICFitVgBAUFAQQkJCet3WlpYW1NfXIy4uDqmpqUwTkZqaitTUVGzfvh3nz5/HkCFDGI2kdsOUVtHLGQ1sCvSeZgoEAkbD7rnnHqSnp7MyqYqVXta8vLyYhMpms8HpdDL6Q2N22Ww2+Pj4sITflOkSCASQSCQQiUSsDEozQ0NDMWXKFGRnZ0OtViM8PLxXfaD95vF40Gq10Gq1yM/Px/r16+Hj4wOLxYLPPvsMZWVlzE6PalzsdjsUCgWqqqrwww8/YPTo0bjttttw9OhRmM1mxsy5xyHtbqx5PB5sNhssFguzYfzss89ACMGkSZNw8uRJuFwuVqbVamVCg87OTixduhQRERG4++678d1338FqtbLxnTBhAsaOHYsTJ04gPz8fmzZtQmlpKYYMGYKFCxciNzcXAQEBnsusG647g0YlOE6nExUVFTh16hTuu+8+hIWFwW63Y9CgQRAKhdi7dy8eeeQRtuAbGxuhVCoRFxfHGAKhUAiXy8UC99GYWg0NDcjIyIBGo4HL5WJMEbXl6g0zQdVbLpcLWq0W3t7erP1eXl7w8/Nj8V2A/92U6N8AmPEt9/Z0LeMnFosRGBgIAOwGxT3oaf+4gf6o1IobDJLac1ACQ+2jxGIxxGIxhEIhbDYb6xOfz0d4eDgeeOCBPrefi7i4ODz88MN4+eWX8eSTT7IYPlqtFklJSTAajWzMqKFoeXk5ysvL4e/vjwceeIAxkVQtSscI6Br1n0vkKUQiEYKCguBwOPDNN9+gsLAQTz31FEJCQmA2myGVSpnETCwWQyaToaKiAkuXLoXFYsHUqVOZXYZAIGCXic2bN2PVqlUoKSmBQqFATk4OQkJCUFtbiy1btsBisSA3Nxc+Pj5sHjzw4Eqga7qmpgbV1dXsoKZ2YhqNBmfOnEFNTQ00Gg2sViuam5shFouhVqvZ2qdSb3ppFAgE6OzsRHt7OwICAqBSqRhDQu1q3YO3Xgn0Ob1eD5PJBK1WC6lUyuJjUUaGMl9cUxOuZIn+zQ0A3dd9QghBUFAQNBoNxGJxFwkMHVdKR2l99Ic6VLnHDKN0k9IVbjvtdnuXMQsKCsLdd9/dp7ZTeHl5weFwICgoCA899BBqamrw6quv4t1334XFYkFkZCQCAgLQ1NTEaLW3tze8vLyg0+nw2WefwWw2Y9KkSYzmyWQyyGQyxtTRsaI0kxtclv728vKCSCQCIQTLli1Dfn4+Hn30USQkJGD//v0AAF9fX3h5eTGa3dHRgX/96184f/485s+fj6ioKCasoOfp1q1b8d1332H//v1wuVzIzc3FnXfeiQsXLmDnzp0wm8244447mCDCQzMv4oYwaACYkbWXlxc2b96MvLw85nnkcDhQX1+PkydPIjMzs0tqH4fD0W153P8pw0H/pxuxpyow97K5Nwp667wSJ08ZIO77XEPPvoKWIZPJuniCui9Wbl2X+47edCm4hJH7c7X2dFfH1UAZSolEgvHjxyM6Ohp5eXmoqalBdHQ0Bg4ciK+++gpFRUVQKBQQCoXMUHTnzp0IDg7GzJkzkZSUhMOHD7ODxt2272p9kMvlUKvVKCoqQkVFBW655RbccccdMBqNMBgMAC4SG2qH4ufnh4MHD0IqlWLGjBkYNWoUSkpKYDAYIBaLIZfLUVBQgHfffRfBwcF4+eWXkZOTg1OnTmHevHloamqCj48Pvv32W8ycOROzZs3qkhXBAw+6Az0srVYrTp8+jfr6epSVlWHSpEmMgejo6EBgYCBKS0uRkpLC3uUyIvRvyqC4M130b2ra0ReaxaW33B9u3Vz66W5LdLk6r+VA5vF4kEql3QbyvVq5vam3O7Ub9/9rlZZTCePIkSPx+eefY9euXSgtLYVcLseYMWPw7bffIj8/H1KpFHw+HxKJBN7e3sjPz4fZbMYTTzyB/v37M+ZZqVQyz1Zue7kXWfc2C4VCqNVqFBQUMJvnO++8E97e3mhtbYXT6YSvry/zVFepVCgsLMSFCxfw4IMPIicnB2azGTqdDlarFSqVCuXl5XjllVfA4/HwyCOP4O6774ZOp8OsWbNQW1sLPp/PzoOnn34aQUFBPTqf/gi4rgwaZQoEAgFMJhOOHj0KqVSK7OxsJtr28vJCfX09iouLceTIEQwaNAh8Ph+BgYEsgjwNx0BVdHTh0kPfz88PjY2NaGpqQmhoKEwmEzOq7I30jN7gqIFqQ0MDaye9gdKwDD9XFG9KvPqyON1VfO6gi96dWNJ5I4SgsbERBQUF0Ov10Gq1SE9PZ5Kr3hIfHo8Hb29vZGZmIjMzk32+b98+nDp1Cmq1GqGhoWyjKxQK6PV6jB49GuPGjYPdbkdNTQ10Oh3S09Ph6+vLGHGLxYIdO3Zg2bJlsNlsGD58OKZPnw5/f3+mflAoFJDJZNDr9cjJycGUKVOY8axOp4NMJkNQUBCrXyKRwGazYdy4cbjrrrtYCIHm5mbIZDIEBgYiPDwc69evh0ajgZeXFyorK7FhwwYolUosXboUPj4+eP3117F7925MmDABcXFxTL3jgQfdge7Zjo4OnDlzBg6HA6mpqfDz82OXk5aWFpSWluLEiRO4+eab4eXlBV9fXyZJo1oGasfJtY/y8fGBVCpFQ0MD846nUiD3Z3vaXnqJpCGHqFrR4XCwlEBUYk8ZxhsFSrv6Ukd3zmTci/GVyqTvtre34+TJk6irq0NQUBDS09OhVCr71B6adzUxMRGJiYns89LSUpw5cwYqlQphYWEQiURQqVQIDAxEQ0MDbr/9dowfPx4qlQqVlZXQ6XSMplHNkkAgwNatW/Htt9+ivr4eaWlpePjhhxEdHc2YdqVSiZCQELS1tSEiIgIPPPAAk9ieP38eTqcTGo0GPj4+UCqVUCqVOHXqFLKzszFp0iQEBwczL2Taxn79+uHrr79GcHAwC1HywQcfoKmpCR9++CFuuukmzJs3D7t378akSZOgVqt75OT3R8B1Z1GpvUFFRQUaGhqQmZmJxYsXY/ny5Vi+fDk+/fRTTJ8+HTwej7mFBwQEICsrC42Njdi4cSMEAgF8fX2ZeJS6hAMXbSYGDBiAsrIybNu2DQKBAHK5HGKxGE6nkxmf9wR0AyoUCgQHB6O0tBRFRUXw8fGBSCRCSUkJcyP28/O7ZMPSWypXbH6tcE8kfqUyKYPJJbBcqZdQKLxEgsNVLXBDQlBVR3FxMZ599lk89NBDePfdd5mhrbtk80rgShYp8aRMb3V1NVavXg2dToecnBxotVrweDzEx8cjJSUFcrkcgwYNYqErCgsL0d7ejtTUVOYuTm0laFyeXbt24dChQyymEq07ODgY/fv3h0wmQ0JCAkslQ4ldZGQkoqOj4XQ6ERwcjLi4OMhkMiQmJiI0NBRGoxFFRUVoa2tD//79odVq4efnh/DwcOZYQNelRqOBWq2Gr68vtFotBAIBs1f0wIMrga6R+vp61NXVITY2FnPnzsWyZcvw3XffYdmyZZg5cyaCgoJQX1+P9vZ2+Pn5ITk5GTabDbt378aFCxfg4+PD4jbqdDq2H4KCgpCUlITm5mbs3bsXLS0tTPpiNpvR1NTEQuD0BDweD/7+/ggJCUFdXR0qKyshEokgkUhQUlKCoqIiaDQaaDSaS6R43UlGrpVuUjvbnlxqL0enuSpPmlfXnQZzJfc8Ho9d5qurq7Fo0SI89NBDeO2113D27Nkuic57C5r4HLi4Njo7O7F69WqUlpZi8ODB0Gq1sFqt6NevHxISEuDt7Y309HRotVrw+XycOnUKjY2NyMjIYPaFtLyamhocOHAAO3bswK5du9Da2soYIRrHLiEhAXK5HCkpKYiOjoZcLkdZWRlKS0sRHx+PhIQE8Pl8xMbGIiEhAUKhEOnp6YiMjIRQKERBQQHq6uowZMgQaLVayOVyREdHQygUwmq1Mju26OhohIWFQSqVIioqCt7e3n0es98rboiK02Kx4Pjx46ivr8ekSZOgUChgNpuZPp/GkNq1axdqa2sRGRmJO+64A9u2bcOHH36IhoYGjBw5kumu5XI53n//ffB4PCiVSkycOBG7du3C888/j9LSUmRmZqKtrQ3r169HUlIS3nrrLXYjuNzmp0yK66fcjOPHj8drr72GZ599FpMnT0ZnZydWrFgBAJg4cSK0Wi3z3HFnQKh073qoOG02G5MA0c+u9DyV9HE/435HGSvqTEENiW02G8xm8yWMF1UXUJVjXzYMJU4mkwnff/89fvjhB2RmZsJut2PPnj04cOAAcnNzMX78eCYRCwkJwZAhQ7Blyxa888477Ba4cuVKhIeHIzs7m5VPx0YsFiMgIIDZW3BtA6kELScnB5s2bcK3334Lq9UKPz8/bN68GTabDePHj0dkZCScTifUajVyc3OxY8cOfPbZZ+jo6AAArFu3DiKRCLm5uSzsCNd4OCgoCAkJCVi8eDHmzJkDX19fbNq0CTfffDPUavV1Y9w9+H2Cu7+Li4tRUlKCESNGQKvVMkN2oVCImJgYhIeHo7CwEGfOnEG/fv1w0003sbhfzc3NGDt2LPz9/bFz505YrVY8+uijSEtLY+t3165d+Oyzz1BdXY1Ro0ZBJBJh+/btCAwMxIwZMxAdHc3o4uUgEAjgdDoRHh6OUaNG4cCBA3j99ddRXl4OPz8/fP/99zh58iT+9re/IT4+vkuQb+B/tOF6Xlzsdjuja1cDV2PAfZ62h8bZ5NJz7iWzOzrvcrkglUoREhICuVzeZ9UcDV/y/fffY/369YiIiIBCoUBBQQF27NiBfv364fbbb0dgYCBzWBoxYgR2796Nf/3rX7hw4QIAYOXKlRCLxSyMBZcpphojKs2iZyQ3ef2oUaOwfv16bNq0CSKRCAkJCdi+fTvOnDmD2bNnIzQ0lNng3Xrrrdi4cSO++eYbFlPuu+++Q0NDA+bMmQO1Ws3Mhui64vF4yM7Oxo8//ojXXnsNUVFRWLFiRRep8bXacv9ecN0ZND6fj87OThw7dgxyuRzp6eldJD1URJqcnMx07LGxsRgwYAAWLVqEBQsW4IsvvsDnn3/ObmozZ86EUChkDNKIESPw4YcfYv78+Vi0aBGb/JCQEGas6e650h3o4enr64tp06ahtbUVS5YswY4dOyAQCBAWFoZZs2Zh6tSpXQxa6Y1DJBJBoVAw4/drXVA0zIZer4fdbmdt7K7dwP+8ZakKkvsdLYtG9aYOD9Q7RygUMm8l7nt0o1L36b6o5riqVr1ej02bNmHVqlVMWjl+/Hg888wziI+Ph8vlgkgkglAoxKRJk6DX67F48WLMnTsXIpEIWVlZeOGFFzBkyJAuEdRpGzs6Oro4aND66XwNHjwYzz//PBYsWIDFixczR4jHH38cd999N3tHKBRizJgxaG9vx7vvvos33ngDLpcLKSkpeO655zBu3DjmwMEdf5lMhrvvvhuNjY344osv4OXlhbvuugtPPPEE/P39f9GE9R78+kHXtF6vR3l5Ofh8PhITE6FUKhm94fP5UKvVSEhIwIkTJ1BVVYXOzk7Ex8dj7ty58Pf3x6pVq7B582YQcjFm1tSpU6FSqZgjwJAhQ/Daa69h8eLF7EAFLmYSeOKJJ5itUk9stugz48aNQ0tLCz755BPMmzcPLpcLvr6+ePDBBzFjxgwEBgZ2sU0DLjru+Pr6Mhvba6WZPB6PSQN7opqkBv/Uhor7DiEEPj4+kMlkzKlAIpFALBYzo3jqyUnroO87HA6YTKYujhG9BT1XbDYbDh8+jK+++oq1aeTIkXjuuecwePBgNqd8Ph8TJkyAwWDAokWL8Pbbb8PpdCImJgZz585FTk5OF4ECrcNisaCzs7OLkwAARlvj4+Px4osvYsGCBYzx8vPzw9///nfMmDGDGfK7XC4MHToU8+bNw8KFC/HJJ5/AbrdDpVLhmWeewbhx49g8u9sk3nXXXWhsbMSnn36KTZs2IScnB88//zy7JHiYs4vgkeusg+EenHa7HX5+fpBKpV30yU6nE+3t7bBYLFAoFJBKpSz4otVqRX19PZqamgAAkZGRzGiQe8uhoTgaGhpw4cIFdstUqVS91l1TGwmHw4HGxkbU19eDz+dDq9UiICDgkk1M+2kymaDX6yGVSqFQKK557Gw2G0uZEhAQcEUDc1p/W1sbJBIJC4dBv6MRsx0OB0u/0dbWxgzyzWYz2tvbIZfLWUgIALBarWhpaYHD4WDlcj2dego6ThaLBc3NzaitrYVAIEBoaCiLz9Qd88KdAxo3jzKVXMcQ2v/29nYQQtgcuBMk4OL8tre3o7a2Fg6HA2q1GoGBgV3Gl5ZJ04fR22h4eDj8/f0BdE/4aV00RRYhhHk50Xc88OByoPvK4XCgs7MTVqsVEokEUqm0C92h6YSMRiPEYjF8fX2ZlMHhcDC7H7PZjNDQUISGhnZxqqHSGZvNhpaWFtTW1gIAo3Fcj/CetJfrKd7S0oLq6mrY7Xao1WqEhISwveq+v00mEwwGA0QiEeRy+TXbZrpcLhaXzM/Pj8UevFy7LRYLWltbGR0UCoVdaFtHRwdMJhNzXqKSdIVCAbvdDoPBAG9vbyax5/EuBpdta2tj4Z6USuVl23E1UBpEx9RmsyEkJARqtbqLV7i7hI/OP4/Hg0ajgVKp7MKA0j4ajUbo9XrmZalUKiEWi7vQTMr80QC8ZrMZISEhCAkJuex86fV6nD9/vgt95UrM3PtIYTAYYLfbIZfLLxEWeHADGLS+gGus3pv0TNfL04MrvnZfgPQ7bj2XW0DX06iRa0vW0+d/TQv7Su3hGq26v9PdGujNWHCXMyVkl6vLvczL1XO1sXWvg64lj+TMg2vF5dYe124IuJQR6m4f0HduNI2iJhru4YGuN3pLI3tS3q+Jhrqju/ZdiWZ19/mVyuY+fyX66I7uzIloW6+0ft3r+zWP/S+FGyJBozcsKunqbuCpmorL5QNgxuQU3cW34pZBCRRXBdnbieYuJq6BJq3bfdHS+iijcSMYxcuNGxdcl/buNiiX6aRMLYAu/7vbnNB5o33si/TMvY3cMCq0TK400r3d3PqvZBPDbeuVjI/pWND+ctdKd/Vz7VOoE8jVQN8DLj0sPfCgJ+DG9HNfy9z97P493TNcJoyrvuLuX+6eoZ/3dI13B255FO6qs+6ev9IzvcGVxuVyz1M60B1T4X65cmeAKfPpLs3nSrR6QruvBOp8QEHb2t2a4J5b9DN3x7Hu+s+de652ittuajtG4X5Wc9+h5+bV6Ovl2uIeYcCDi/jZJGjX+7Zzo9BTZuT3yPH/0n3qyxrpTZt/6f554IEHHvxe4KGnNx6/ChWnBx544IEHHnjggQf/w88aPfP3ynFTkTQV1V6riPv3CK4KoCdq6Ou9VtzvIZdTb3Z3X/F4FXnwc+NqNjy/ZXBNDqiJCPWa9OB/oLToaraDPaFtfambu/6467C7v93Nfzy4PvhZJGhcu7Ir6cd/a3C36/LgUtAx4tqpUBuF7tYBl3hTe4q+jq17WVxC4+61xm0nl+Bw7TTcieRvRW3vwW8PdD1Su57rZbP1awDXicCD7kHn3j2vsjvNdH+OPnstDC+lg91dDug65H5On+XaA7vbqwFdszZ4aGbP8IuoOH8vt0I6dFarlYXHEIvF8PPz8zBsuNS78UrfcQ1G3cOL3Ij10p0naU+kegBYWh1uCjKP1NSD64XfC328EqxWKwwGAwv34Ovr6wmz8BOuNP89DeJ6Iy+P3PZdjv65109pJp/PZ7S3OybOg664oQwa5ZgbGhqwadMmNDc3Y+TIkV2Cjv4Wb1GUmTAajfjhhx/w73//G+fOnYPL5cItt9yCt956C0FBQX8IQns50Lm32WwoKSnB5s2bUVpaCh6Ph5SUFNx6663o37//JRvZbrfj/PnzOHDgADo6OpCdnY2BAwdeNTNEd/W7XC40NjYiPz8f+/fvR2trK5RKJQYOHIjc3FxEREQwAqPX65Gfn49Tp05BJBIxSRoABAQEYPTo0YiMjGTEyGazsbhH3t7ef+i59uD6gUpCdDod8vPzUVlZieTkZGRlZbF0c79FcC8327Ztw9KlS3Hy5Em0tLQgOzsb8+bN6xLU/I8I6o0pEAhQUVGBLVu24Pjx43A6nYiOjsatt96KAQMGsBhrTqcTVVVV2L9/P44fP462tjb4+/tj+PDhyMnJYTE8e6Iq59LhgwcPYs+ePd0Ge7/pppuQmprKYuzReGn79u3Dvn37YDabkZKSglGjRkGj0XSZS4fDAbPZDKFQ2CW39W91Tf8sIDcILpeLWK1WYjabybp160hwcDCRSCRkypQppLOzk7hcLmK32y95z+FwsPfMZjOxWq3E4XB0W77dbmfP0udcLlef2+x0OonNZiNWq5VYLBZis9mI0+m85BmLxUJMJhPZt28fSUhIIIGBgWTatGnk0UcfJR9//DFpb29nbewNXC4XcTgcxGazXdJ/WhZtY3dl0+/o8w6Hg9jtdmK324nZbCYWi4XY7XZis9nYc921gT5jt9v7NJ5Op5M4HA5iMpnI2rVrSXJyMvHy8iIqlYqo1Wri5eVFsrKyyNatW1mbLRYLKSwsJPPnzycJCQlEIpEQrVZL3nvvvSv2+Ur1FxcXk0mTJhEABADh8XiEx+MRb29vcscdd5CCggJitVpJZ2cnKS0tJffffz8RCoXEx8eHvQOAZGRkkC1bthCXy0UsFgvZsWMHuf3220l0dDS59957SX5+PnE6ncTpdF7T+vPAA7rvdu7cSXJycohYLCYTJkwghw4dIg6H4xJ61B3NuNy+5dJMSgPsdvslZfYG7jSzO3pN943NZiOnTp0iY8eOJUFBQeTOO+8kDz74IFm4cCEpLy/vtn9XA+2/xWJhNM69DXR8uqN37t/R/937Q2lUd2PrcrnYO72hU+5l0LnIz88nY8aMIWKxmAQHBxO1Wk1EIhFJSEggy5YtI3q9nhBCyN69e0lmZiajUyKRiAgEAiIUCsn9999PSktLid1u77bflxtHl8tF3nzzTaJWq4lQKCR8Pr8LLfznP/9JdDodMZlMxGq1Er1eT1599VUSEhJCRCIRe/7Pf/4zKS4uJlarlTidTlJYWEhmzJhBoqKiyIgRI8jq1auJwWC45vX3e8cN18OZTCYUFBTAbrcjKioKdXV1qK6uRmJiojujCLvdDj6fz7hzCvcca4Rz0+CqEskVVGpXA9Xlu0eX54pwgYs3BrFYDKvVisbGRlitVsyZMwfPPvvsJWX2NlyEw+FgqUgul0WAK3Uk3Rhrct/jjgM39pl7H7ntpKq7awUhBNXV1fj222/R2dmJN954A1OmTIHFYsHy5cvx0UcfYdmyZUhNTYVKpcK5c+ewcOFCrFy5EnFxcRg0aBB0Oh2TTpE+CHodDgcCAgLwwgsv4J577oFMJkN9fT2WLFmCrVu3YsWKFYiKimJRrCUSCRITE/HUU08hKSkJFosFPj4+kEql0Gg0cDgcOHbsGF599VU0NjZixIgROH78OF566SW88847GDhwYJcYUx4Rvge9AfnJychms6G8vBwWiwUajQZNTU2ora3FoEGD2HNUKkIlvUKhsNvMGMD/AtVS2y93+tqXvQV0VW9xJS00PzA3XDC7ZQAAIABJREFUkjyVmDQ1NaGjowP33XcfZs+eDY1G06UNvd0vVMrDlci4g9puufeTtp1LJy9n58WN3ejeRne62xfQc6ujowOrV69GSUkJ/v73v+Phhx+Gn58f1q1bh0WLFmHFihVITk5GSkoKLBYL4uLiMHnyZIwYMQJ+fn6oqqrC4sWLsWXLFmRkZOD++++HTCa7JNj6lSCVSiEUCjFr1iyMHTuWSTW9vb2h1WqhUCjY2K1atQpfffUVkpKS8PTTT0OtVmPJkiVYsWIFVq1ahUcffRRWqxXPPfccTp06hdzcXJw8eRLz5s2DUqlEdnZ2l/ysvydby+uBG8agUeNWg8GA3bt3w9/fH+PGjcM333yD/Px8xqDR5+iB1tLSgpMnT6KiogI8Hg9paWno378/yzfJJUp1dXU4ffo0zp07Bx8fH6SnpyM5ObnX6ia6eDs7O3HixAmcPXsWXl5e6N+/P5KTk+Hj48OYRL1ej6KiIrS3t+PgwYMALhKd7du3w2w2Q61WIyUlhaXP6K1KrrS0FMePH0dDQwPkcjni4+MxYMAA+Pn5wWq1orKyEnV1dUhKSoJGo2FEx+Vyoa6uDmfOnEF4eDi0Wi3Onj3LclWWl5cjLi4OSUlJ2LdvH1MtxMXFdfEWam1tRXFxMUt8m5CQwETqvRlTHu9iCpjy8nIkJibi9ttvR0hICBwOB/70pz9h27ZtqKqqQn19PYKCgiAQCBAfH4833ngD48ePx7Jly7B06dI+bVb6Tr9+/fD22293ydNH+1tcXIzDhw+juroaqampzJlAJpMhPj4eQ4cOvaRcu92Oc+fOgc/n4/XXX8f48eOxZs0a/N///R8OHjyIlJQUZlNzrQTbgz8euDTmyJEjAICRI0eisLAQR48exU033cRSygkEAka32tvbUVpaitLSUlgsFsTHx7PE09w9KxQK0dTUhDNnzqC8vBxOpxPJycno378/y8XZm7byeBdTJ5WUlKC4uJjlgUxOTmbp5Xg8Hjo7O1FWVob29nYcPnwYRqMRLS0tOHToEHx8fKBQKJCYmAg/P79ej5lAIEBdXR1OnjyJqqoq8Pl8xMTEYMCAASzdUFVVFc6dO4eIiAiEh4d3ScPW0NCA4uJiBAYGIjY2FpWVlSxFXnl5OUJDQzFgwACcOXMG586dw8CBA9GvX78uabQMBgNKS0uh0+ng7++PxMRE+Pr6su97Op4A0NLSgtOnT0OtVuPOO+9EXFwc+Hw+br75Zmzbto2lQbTb7cjKysLQoUPh7e3NaF5cXByamppQWlqKoqIitLW1dUnl1xPQ8yAmJgaZmZmQyWSXfO9yuWCxWLBt2zYYjUb87W9/Q25uLkvP5+vrix07dmD8+PFoaWlBY2Mj5s2bh8mTJ6OoqAhPP/00Dh48yM5Xmo/Zg664IQwa9/ZWXV2Nc+fOYejQoRg5ciS++eYblJSUdHnW6XTC4XAgLy8PCxYsQEFBAZOOeXl54eGHH8bbb7/NDA3NZjPWrFmDhQsXoqysjC1Of39//OMf/8CTTz7Z5QZ3tba6XC5UVlbizTffxKpVq2C1WsHjXUyiPn36dMyePRtBQUFwOByoqqrCiy++iMOHDzMC8NVXX2HJkiUQCAS47bbb8O677yIwMLBHDBrtv9lsxtq1a/HSSy+hvr6eMXhisRjTp0/HP/7xD/D5fOTl5eGNN97A7NmzMWvWLBbBuaOjA0uXLsXSpUv/P3tnHld1lf//JzsXuOyrLLKvAoIoimuaoeaSaWk59bOmZqZpJrPNbJqyxSlrstJmmrapzFJSp4zcNTc0BEVREEGRVRZBdrjce7n3/v7wcU4fCBUsm/nO8Ho8eiTw+ZzP+3M+57zPe3+zZMkSpkyZwsqVK/nmm29wcnKipqaG4OBgAgMDOXLkCJ2dnUyZMoXXXnuN4OBgqV3n5eWxdOlSKisrmTBhAsuXL8fPz08GdfZnDYj4rKamJjo6OuTvOzo6aG5uxt3dXfZp9fX1ZfHixdjY2NDQ0CCzfn+KBUpYI5VZSV1dXd0slaLxsIjVMBqNtLe3U1FRgclkwsfHB0C+v6WlJXq9nvb2dvR6vezdJ6yeVlZWtLe309TUdN19TAfwvwszMzOqq6uprq4mMDCQMWPGUF1dTXl5OfX19VJAE1aH7Oxs3nnnHbZt20ZHRwdmZmbo9XruuOMOnn32WSIiIuT1e/fuZfXq1WRkZKDX66XV5re//S2PPvoovr6+wLU7YQgrcXV1Nf/4xz/49NNPuXTpEkajERsbG+bMmcOjjz5KZGQkFhYW1NTU8Pbbb/Ptt99iY2ODSqVi9+7dfPvtt7S1tTFx4kSWLVtGQkJCnyz4gmeam5uzZcsWli9fTm5urtzLWq2We+65h6eeeoqIiAiysrJ4+eWXmTFjBosWLeoWm/XVV1/xxhtvsGDBAh5++GG++OIL0tLS5B729/fHz8+PM2fOUF1dzfjx43nxxRdJSUkBLiuDpaWlvPnmmxw+fJj4+Hj+/Oc/M3To0H5lK4prReP3Cxcu0NHRIc/Rzs5OLl68SGdnp1Q4ra2tJX/T6/XodDpsbW3l73uO31eI87upqYmLFy9SV1eHm5sbarUavV4vrYzCG+bn54e3tzdWVlZs2rSJTz75hM7OTiorK7l48aK0bra3t2MwGGhsbJRJdXDZYic8Us7Ozle1hv6v4YZZ0MRB/P3339PZ2cno0aOJiooiJCSEQ4cOUV5eTkBAADqdDnNzc3Jycli0aBGtra0sW7aMcePGYTQa2b59O3q9Hq1Wi7m5OXq9ni1btvD444/j7OzMm2++yfDhw2lsbGTz5s3U19f3mUZhVm1oaOCjjz5i06ZNzJw5k4ULF9Lc3Mxnn33GJ598grOzM0uWLMFgMBAYGMhf/vIXGhsbOXDgAGlpadx7773MnDmTzs5OPDw8pCbY101hbm5OSUkJq1atwtLSkvfee4+EhAQuXrzIiRMncHZ2xtzcHHt7e+Li4nB1dWX//v3cfffdeHh4YDQauXjxIhkZGfj7+zN27Fg5tqurK7/97W8xNzdn9erVVFZW8uqrr3Lq1Cl27txJTk4OQUFBkuGZTCa0Wi0ajYbW1tZuLrv+YvDgwUybNo0PPviAjz/+mIULF6LRaFi3bh1NTU3cfffdBAQESMYuhCclrtf9Iu4VwpeVlZVk3oWFhVRXV5OUlCQFb8Hkzpw5w+9//3taW1sZNGgQEydO5M4772TYsGEYDAZCQ0Plevjggw+oqqoiLi6OiRMnUlxcTFpaGunp6fj6+rJ8+XLCwsL6LdwO4H8PYp0bDAZOnTpFUVERM2bMIDk5mYyMDE6ePMm5c+cIDQ2V4R25ubm8/PLLHDt2jHnz5nHbbbfh5OTE3r17qauro6OjQ+7rgwcP8vLLL1NVVcUf/vAHJk+eDMCuXbuwtrams7Ozz3SamV1uuv7VV1/x+eefExUVxf3334+LiwubNm3i66+/xtbWliVLlhAQEICXlxePPvoo999/P1lZWXzxxRfExsZyxx13YG9vj1qtJiwsrM97RCiTVVVVrFmzhqqqKpYsWUJqaipmZmYcPXq0m9sxMTGRkJAQsrKyOH/+vBTQqqur2bNnDzY2NgwfPly67hobG/nVr35FUFAQn3zyCaWlpSxZsoTKykq+/PJLjh8/TkJCAjY2NpiZXW5zpNfr0ev1aDSaH/GwvkBYRD08PJg9ezZvv/02n3/+uWxonpaWxvnz55kzZw7+/v7d7rWyspIKqE6nIy8vj4aGBkJCQqRA3x8lUYy1evVqXnnlFVxcXIiPj2fBggVMnjwZBwcHTCYTra2ttLe34+LigpubGxUVFXz22Wd4enoSFBREWVkZtbW13HTTTYSHh/PSSy+RlpZGdXU1QUFBTJs2jc7OTv75z3+ydu1adDodq1evJj4+HhioPwk30IIGl+PP8vLysLW1JSIiAhsbGwICAti/fz/5+fn4+/tjMBhoaWlh48aNtLa28swzz7Bo0SI51tixY+ns7MTGxgaDwUBDQwNff/01KpWK5cuXM2/ePHnt5MmTJaO5lhYotDALCwvKy8v55ptvCA8P54UXXiAkJASDwcCgQYP49a9/zdatW5k/fz6BgYFYWFgwatQo2tvbpak5JCSkm1Ak0BfrmdK9eunSJZKSkliwYIFkLjfffLPUaEwmE/7+/iQmJnLs2DEKCgqkgFFUVER5eTnTp08nNDSUqqoqDAYDHh4ezJw5k5aWFr744gtiYmKYP38+arWanTt3SsuWkmZra2vperges7OwaLq6uvLAAw9gNBpZsWIFH330Eebm5jg5OfH73/+ehx9+WGq94j6xKX+OOAQROyEsZ2ZmZpw7d45vvvkGLy8vbr/9dpydnSVDtbGxwd/fX8af5efns3r1ao4dO8ZLL73EuHHjGDJkCC+++CIff/wxpaWlJCcn4+fnx4oVK9i+fTvm5uZMnjyZefPm4evrO9BfbgB9gjhANRoNhYWFtLe34+XlhaenJ35+fuzbt4+ioiLGjx+PlZUVGo2GAwcOcPr0aebPn8+SJUtkPNeoUaPQarUAWFtb09TUxK5du7hw4QIPP/wwv/nNb6QLbvz48VJJ7ovHQeyjsrIy9uzZg6urK48//jipqakA+Pv7U1VVRVZWFoWFhQwePBgHBwdpURIhFwEBAYwaNQp3d3f5/tA3nimubW5upq2tjaioKKZNm8aIESMAGDlyZLeeykFBQURFRbFu3Try8/NJSEhApVJRXFxMdXU1MTExBAYGYm5ujsFgwM/Pj8mTJxMVFcWOHTvw9/dn3LhxVFRUsHv3btrb2+nq6pKWHktLS6ysrLCwsMDGxqbXeLdrQfA8k8nE/fffj6WlJcuXL+fLL7+UpSkWLlzIokWLfsRXhGBmZWXF3r17+eabb4iLi2Py5MnSzd0XHiSusbCwwN3dHW9vb1xdXSksLGTXrl0cPnyYF154gbvuugtnZ2fa29vRarWoVCosLS357LPPpNKQn5/PyZMnaWhowMHBgZdffpnQ0FCysrKIiooiPj6ezz//nG+//Za6ujpGjhzJgw8+SFBQkKRjgG/eAAFNKXRUVlaSnZ1NUlISo0ePxszMjEmTJrFz506OHDnClClTsLa2prq6mtzcXNzc3Bg7diwGg4GOjg4Z+2RnZ9fNR3/u3DliYmIYN24cWq0WvV4vgzjt7e37Ra9waWm1WkaMGIG/vz8dHR3o9Xq8vLwICwvj3LlzNDU1dStm2tXVRXt7u0xuEDTb2Nj0uUigclM6ODjg5ubG4cOHWb58OVOmTJEBmcp3cnFxYfjw4Xz33XdkZGQwZswYmpubOXz4MGZmZowdO1bG68EPyQHiPxE30t7ejk6nQ6PRdCuCGB8fz+rVq6U10NPTs99ChihMrNFo2LlzJ1u2bCE4OFgy6dzcXHbu3ElUVBSzZs3qtaBhz8SQ3qB0XQr6extLWMiqqqp4//33OX36NIsWLWL8+PEy6WLQoEE8+eST/PnPf5YHXVFREW+88QZbt24lPT2doUOH4uTkREJCAn5+fmzfvp20tDS+/vprwsLCWLp0KZMmTfpRAswAoxnAtSAO9IqKCgoKCggPD2fkyJF4eHgwatQodu/eTV5eHjU1NYSEhNDU1MT58+dxcnJi1KhRODk5SVe70k1oMpm4dOkS5eXl+Pr6MnToUGxsbKQ7VFia+ppYpVS+tVotgYGBeHl50d7ejtFoZNCgQYSEhFBUVCTdnsI6bWVlJXml4LlCoba2tu4zzxT7ydHREXt7ew4cOMAHH3xAfX090dHRuLq6SqFBuHGHDx/Otm3byM7OliV2srOzqa6u5tZbb2XQoEEyFtra2lpaxpSCluCD4h3EXAcHB/PMM8/Q0NCAWq0mODi433URBc8zGo3s2bOH9evXY21tzZw5c3BwcCAnJ4fs7Gx2797NnDlzpOBlbm6OVqvFysqKwsJC3nnnHVpbW3nyyScJDw/vRid055nKgrLKeZ01axbTp0/Hx8cHlUpFW1sbn332Ga+//jobNmwgOTmZhIQEKQS7urpy9uxZtmzZwqRJkxg9ejT5+fmSh5tMJoKCgli6dCn79u1j/fr1/P3vf8fT05O77rqLqVOnEhsbi0qlGggH6YEbJqDp9Xry8vKoqKhgyJAhHD58WMbsWFhYcPToURobG3F1daWrq4uGhgZUKhWDBg2SWTnCLaWMR9JoNDQ0NBAWFoabm5uM+xFahliQ/Yn/unTpEnq9Hnd3dxmbJJicWq2WAZEC4lBXBpuKTKWeFer7OmeBgYEsXryY5cuX88ILL/DKK6/g7e3NhAkTWLx4sQxkd3BwICUlBT8/P7Kysqirq6O+vp6cnBz8/f2JjY2V4wrBSzBglUqFlZUVtra2qNVqVCqVdGEKmoUA2BP9fSczMzPy8vJYtWoVRqOR1atXS4F6+/btPPHEE6xcuVIG9CpdrH1FX7pSCCZx8eJFVq1axaZNm7j33nt58MEH5ZoR3zw4OFjeYzQaZYbUkSNHyM/P5+LFi1y4cIFVq1aRnp4u697Nnz+fsrIy0tLS+Oijj7j55pt58MEHCQkJAfhZrIED+O+FUnkqKyujsrISOzs7ioqK6OjooLKyEnNzcwoLCykrKyM0NFQWxxaFsZXWHLGHhLWrvb2dtrY2nJyccHJykvumN+XtWhBCSlNTE21tbXh6ekq+YmZmJot1d3V1odVqZYiB2GPifvFvocz2Z48IwcvHx4cHHniAixcv8umnn/LJJ5+gVqsZN24cjzzyCCkpKfJ58fHx+Pn5kZeXR1VVFba2tmRnZ6NWqxkyZAgODg5S4BE809bWVs6VsoWfEEwEzfb29sTExFzHl/8Bgv9duHCBN954g+LiYl577TWmT5+Ora0tmZmZPProo6xcuZLg4GBuuukmKSxaW1tz/vx5nnnmGbKzs3n22WeZNm0aNjY2P5rbvvDMwYMHS5r0ej12dnYsWLCA3bt3c/ToUS5cuEBsbKw8d0tLS1m+fDkmk4n77rsPT09PDAYDdnZ2uLi40NzczFtvvUVaWho1NTUkJyfzpz/9ifr6eimMDh06lCeeeIL4+Hj5HQYEtRsYg9ba2srevXuxsrLiwIEDbNy4UW5MV1dXqquryc7OJjU1VWotXV1d6HS6btqEyNgUh7fYKFqtFq1W260EhohNgL4JFEKwEgxGMBShYYiYpZ+r9MSVaBDxZXPmzGHYsGHk5+eTlZXFjh072LBhA21tbaxatQovLy9p2UpKSmLPnj2cOHGCrq4uzpw5wz333ENAQAB6vb7X5/Rkkr0JRFdi1v3N4DQYDFy4cIGWlhZuvvlmhg4dKoNEY2NjmTBhAtnZ2TKGC36IfRBzr/y/iLsRwrfJZJJxckajEZVKhaOjYzfhXIxXVVXFX//6V9auXctdd93F4sWLsbW1RafTyYNNuAnEehLxcKL8hl6vp7Ozk8bGRjQaDU899RQzZszA29tbJokkJCQQHBzMhg0b0Ov1LFu2TAr4A0LaAK4EsT46OjrIzc2lvr5eFqo1GAzY2tpiZ2eHh4cH+fn5JCUlyYNXlAfqWalduV/FvtdqtdKaLBJixF7pT7a5UhkV4/Xcr0qrTG9K1/U8U3mv2OcTJ04kPDycs2fPcvToUXbu3Ml3331HU1MTf/nLXxg5ciRGoxFfX18SExP59NNPOXPmDO3t7ZSVlTF8+HCio6N7pVPJJ3ujVZlcdC2ar/V+AuXl5TQ3N5OUlER0dLSM9YqPj2fChAmsXbuWkpISRo0aJQXJqqoqnn32WQ4ePMijjz7KnXfeKYttKzu1CANHS0sLJtPlji2ixJCSVp1OJ8sxiaLc4owSfNdgMGBtbY23tzenT59Go9Hw5JNPEhkZiU6no6amBp1Oh6OjI42NjVy4cIEFCxYwffp0IiMj2bp1K8uXLycyMpJJkyaxefNmTCYTy5cvJyAgALh2mNL/An5WqUMZlN3S0sLZs2cZNGgQixcvxt3dXQpUe/fuZdOmTeTm5pKamoq1tTUBAQHk5ORw6tQp/Pz8JMNRZnQYDAacnJzw9/ensrKS8+fPExsbi0ajuW7rlaWlpdQqKyoq0Gg02NraSg3w0qVLmJubS3frjYDSxRgZGUlkZCRz5szhgQce4Omnn6a8vJzq6mq8vLwAcHZ2JjExkfT0dLZu3SqFk1GjRsksw57jA92EH2XtGeV/586d44svvqC6uprExETmzZuHk5OTzHy8FpQlO8S/lfQoBW8lQwekwKgUHsXPYrOKw6C9vZ20tDT++te/0tXVxYwZM1i6dCleXl7dBKKamhpWr17NZ599xqxZs1iyZAk+Pj4yhkQwZpPJJLV5kalkaWmJRqORgbB2dnbExMSQkpIi56KgoIDDhw8zYsQIVq5ciZmZGatXryYvL4/y8nLJZAcEtAFcDcIVWVhYiK2tLY899hhDhgyR4RtHjhxh48aNFBQU0NzcLL0Nx44d49y5c4wdO1YqmcJyIiDCJ8rLy7lw4QJJSUnSfSfcef2hU1jyVSoV9fX1NDc3S+W4tbWVhoYGabEX+6u30IO+WsuvRJ+Ilw0ODiY4OJjU1FR+97vfSWHlwoULks9YW1uTnJzM1q1byc7O5uTJk1y6dIn4+HiZcd/fPSrcpxUVFXz99decPn2agIAA7rzzThnT1p/YLyW0Wq0MpRF12Hrybzs7OyorK3nuuefYsWMHf/zjH/ntb3+Li4vLj1yswkL31VdfsWrVKkpKSkhJSWHZsmUMGTJECpriWULAExa6xsZGWlpapFfJ0tISPz8/vLy8yM3N5fbbb2fGjBk4OztTUVFBaWkpHh4eeHl5ERcXxwcffNDt/Xbt2oWPj4/M3g0JCWHjxo3U19cTHBzcL6vufzN+9lNDHL75+flcuHCBlJQUFi5cyG233ca8efOYPXs2s2bNwsHBgaKiItra2vDw8GDixInU1tayZs0aamtrcXBwwNzcnLNnz7Jjxw46Oztllsu4ceMoKiriww8/pLW1FXt7e5n9tH//fknH1RiA0szu7e1NWFgYubm5bNu2TWqGO3fu5MSJEyQlJREQENBNUACkNe+nWNeEm7Wqqkq2I1L+TWxQYU62tLTE3t5eZibt3r2bgwcPEhQURGJiYreF3bN4JSBLRYjCg4J2sekrKipYv349n3zyCenp6TQ3N/eLmYqxLC0t8fb2xtLSkhMnTpCTk4O9vT22tracPXuW/Px8rK2tZY0eYcESZSuUhYiF1qdsuG4wGOSaMBqNNDQ0SEFQfPvGxkbWr1/PV199xW233cZjjz2Go6Mj9fX1tLW10djYSGdnJ3q9nrNnz7Jv3z5qamrkM86cOcPatWupqamRjFzJyERau729PS0tLTQ0NNDS0iIPhv4efgP434Nyb5WWlsoi3rNmzWLOnDnMnz+fuXPnMnPmTIKCgigvL6empgZXV1dGjBiBjY0Nmzdv5ujRo1hZWaFSqSgvL2ffvn1UVlbS1dWFp6cnI0aMoKmpibS0NAoKClCpVNjY2FBUVMThw4epq6vr0z5X8syQkBCKi4s5cOCALOqclZXFiRMniIyMJCQk5EcWJqGI/pSCpILO2tpaWctQ8AaDwSCFm57PiI+PJzY2luzsbPbu3cvgwYMZOnRot1Zt5ubmktcqXZ7K80L8TfCeuro6du7cyZo1a0hPT6e2tlbS2Z93gstt5ezs7CguLqagoABzc3OcnZ05efIkubm52Nvb4+3tjY2NDbW1tbz99tvs3r2be++9lwULFmBpaUlrayvNzc3dsvAFhJfIaDRSX18vi8OLUJC6ujr27NlDYWEhWq0WS0tLWlpaSEtL4/jx44SHh+Pv74/RaMTb25vExER5hohEvvT0dEpLSxk7dqws0STOMvEcR0fHbjy4trZ2wNPQC352v52ZmRkdHR1kZWXR0dFBVFSUtKiJ2IHBgwfj7e3Nvn37KCwsJDExkalTp5KZmcn69es5deoUo0ePxmQysX//foYNG8bEiRMBUKvVzJo1i8OHD/Phhx+SlZUly2xkZGRw++23yxId1zKRik3m6enJ/Pnzeeyxx1i8eDFff/01er2ePXv24Obmxp133omjo6O0IgmtTJlafT1QakO5ubk8+OCDeHh4kJKSgkajITMzk9raWu655x4GDx7cTUB0dnYmPDycffv24eHhwQMPPIC3t7fUBE0mUzc3sEhiEGngnZ2dNDU1yWwvJYQGpYxn6SuUzDg0NJRbb72Vv//97yxcuJAxY8bQ1dVFZmYmOp2O++67j/j4eEnr1q1befPNN2loaKCtrU26Kd5++21CQkJ47rnniIuLk4JYV1eXFNx6alsmk4mCggI2bdpEbW0thw4dIjMzs5slMCoqiqeffpq4uDiOHDnCn/70J2xtbWXB2aKiImpra5kwYQKzZ8/GwcFBWgoEk/bx8WHs2LF899133HnnnTg4OFBbW8tDDz2Ev79/Nxf8AAbQE2J/GY1GTp48SWFhIbNnz8bLywuNRiPd8IMGDcLb25v9+/dz8uRJEhISGDlyJNOmTePDDz/k/vvvZ9SoUTg7O5ORkYGnpyfLli2TST6TJ0/m+PHjpKWlcfr0aZKSkrC0tCQzM5MRI0awZMkSXFxcfqSE9oRwq7q5uTFt2jSysrL461//SkZGBmq1mszMTIxGIw8++CBhYWHyHgGdToder5eKp3IO+gqxB0tKSnj66aepqalh+PDh2NracurUKfLy8pg6daos8irG9/DwICYmhj179nDx4kXGjx+Pn59fN6u/ssahCKgXLj/hIhaChrhPzJmNjc2PrJd9haAzKCiI2267jbfeeotFixaxceNG7OzsyMzMpKqqigULFhAbG4u1tTVHjhxhx44dtLW1SW+KsCp2dnYycuRIli5dSlRUlKRVJGgI4U1plTM3N6e+vp4XX3yRwsJCoqOjcXd3p6ysjIKCApydnVmwYAGBgYFyvm699VYOHDg9nYX7AAAgAElEQVTA2rVrOXXqFM7OzmRlZeHr68u0adPw8PCQz1W6W6dOncq2bdt45JFHcHR05PTp0yxcuFB2bOlvXOJ/KyyWLVu27OcaTGhLLS0tnDp1Ci8vL+bPn4+Pj4889MVCFtaPxMREBg8ejFqtZsKECfj6+lJSUkJBQQEVFRXExcXx61//mvDwcDm+l5cXkyZNwtHRkeLiYmmuHjNmDAsXLsTb27tbyYZr0WthYUFERAQJCQlUVFRw+vRpWltbGTNmDC+//DITJ06UViFxj9FolBWnR48e3Y2+vlpNlNcLS1dFRQWnTp2ipKQEb29vfv3rX7No0SJcXV2BH5idSqXC2dmZtrY2oqOjmTNnDkFBQVIwFeVL3NzcGD16NFZWVjQ1NREeHs6IESOkljVixAi5gc3NLze+raurk204kpOTZexBXzeMeCcHBwfi4+MZNGgQtbW1UuCJioriscce44EHHpA1dUSsWHFxMXZ2dvj5+REUFISnpycODg6EhoaSkpKCm5ubFMYuXbpES0sLQUFBJCcnk5iYKDNYzcwuVzBvaGjA0dERT09P7O3tcXV1xdXVFRcXFwYPHszIkSOl67irq4tLly5RUVFBQ0MDgwYNYuHChSxZskS6KpUxfOJ7hISEEB0dTVNTE66urjzyyCMsWLBAungGGM0ArgSxltva2igsLESlUjFt2jSGDBmCjY2NrLAuwi7Mzc2JiIggODgYNzc3RowYQWRkJI2NjZw+fZri4mICAgKYP38+KSkpODo6Ym5ujouLC6NGjSIoKIjq6mry8vKorKwkKiqKO+64g/j4eFkAtS88UyQ2RUdHo9VqKSgooKqqisjISJ5++mmp0PQcr7W1lc7OTmJjY4mJienTM69Eh1C06urqKCws5Ny5c1hbW3PPPffwxBNPEB4eDvwgVFpaWuLg4EB7ezu+vr7MmzeP2NjYbkkAdXV1ODg4MGrUKNzc3KitrSUwMJDhw4djYWFBS0sLcXFxknZzc3M0Gg0XL17EysqK6OhoUlJSuhXD7QsET7G0tGTo0KEEBgbS3NxMQUEBlZWVeHt789BDD/Hwww/LgsKCv7m5ueHs7IyTkxMuLi64uLigVqsJCQlh5MiRuLq6ynXW0NBAa2srHh4eJCcnM3r0aPl3YT2Ey90sampqKC8vx8rKismTJ7N8+XImT54sM2RNJhOurq4kJiZiYWFBaWkpjY2NjBw5kj//+c+MHj1aCqxKl6tYOwkJCdJbcv/99/O73/0OHx+fPp3d/yswM/VXffmZodRelO6jtrY2TCZTr+0/lMGZQhCxsLCQtX2U4/UVQoMQGoaZmZl0v10pGPRG+MgNBgOtra10dXXJOmRKTU08V+CXoOl6oaS7q6tL1lxTtpX5T6FX0KHVamltbcXCwkLGWvSc/573Xe1v/wnvNoD/fFxrrVwpjgt+WHttbW0YDAbs7e1/1MFCea3JZKKtrQ24XMLoei28yvFFmQ0x3i+59o1GI21tbeh0OhwcHKTLErrvy96s7OKavtDbcz5vxPv1HFdYukR/zKvxm/6M29vfleN2dXXJOVWr1VKQvtJZJBIQDAYDKpVKGgmuFIfX23soEwIHcBk3TEATbrUrmSqFiVjJHIRJWZmtJz6a8jrxe2EtUl4LXFdMmIidE9K+crxrvcPPkRIsfPTKgpE9aert+UJ47EmDMFsL+sXvlBqwEEqvdF9/LYK9QdCo1KCUdPf8rj2ZpvLfPWnpeX1vB5iynlrPpa6ct97mQ5lFfLW6Rsp1Ku7ra+HPAQxAQKzB3g6pnvv5amtUybeUa1ZZhkiM35NH9Jde5aEqni14Ym9jXu0dr+f5gn6l+6wnTUqIcwN+4Ou98RQlnwS68YietIvfK+PYfgrP7I0XCbqVNPfk1T1jCK92LvSkVXlfz3cUc6r0ICghymApy5Bcax6U56v4+afEJf634t9uQRO4mnZztXt6u/bnEJb6Os7VrFm/xPP/L+E//b16E+AGMID/K7gevvVz8qx/537p6/vcCH59I/FL8cye83I1seBqQpfy7//uNfHfgP8YAe3/Kv6vbfgB9I4B4WwAAxjAAK7uyh0Qun5ZDAhoPxEDB/t/D3rbCgPfcwADGMAABvDvwA3rJNATIu7ovy19VtmKSvjRr6fB+H8jRFzdtWK4eoOymK2Y1/6O0R+I5/UG8cyemUiCPnHNT6FP7A+B3lwbvcXx9YYbOU8D+GWgjBX6b+SZyr0t4jX/m97xenGteK+rQcRwi3HMzMz63Bf6p6A/vPDn5pvKsXqDcu9cjWf+p+6xX8SCJhaLmMwb1Tbp34GB4no/P8Th9EsG2SsPRAEl01AGvPYWnNzXhIK+0tAz6aFnfKUyIFjpdugtkUKZfNNb4O6AMPefg97cS//psZv9wdUC7f8b3u+n4KfMwZWSvm40TCaT7LyiTDgQHTB6fmNxrbIzjCiB0t9zVPDAnjXp4IekFyU/FDy7p5DWm3Am6vSJ4vD/rrX5iwhoSo1JWUvs/zLEtHV2dsr6Q3q9Hl9fX0aMGIGdnd3/LNMRc9Pc3ExOTg56vZ6RI0fKMih9SfzQaDQUFxdz9uxZ2traCAgIYPjw4d3qnN0Imnt+M2Eh7blRhXVQFLS0tLREpVL9pMNUaTERzxDtXgBZR1CphQqaejvMewva7U34G8B/FsR3Umaq/zcotWI96nQ6SktLOXfuHJcuXcLT05PExERZ1PR/cW2KuRGFvOvq6hg5ciSDBg265jmiNICcO3eOc+fO0dDQgLu7O0lJSbi5ud2QPa+kSxTwVXqRlAKjkhcJ4Uen02FtbY21tbUcsz80ij3SU7jqTVkWLfx0Oh1WVlY/2k/KMXoaXURXm3/Hurxhu17p3jpz5gwrV66kurqaefPmsWDBAilBX6l8hcC1FlZ/ru0r3crF1Nt4Quqvr69n5cqVfPLJJ2g0GqysrJg+fToxMTHXLaD1lip9tTTw3u4X9ynHUd7zcx3UPZ+lFHKMRiM1NTW89957VFZW8u677xITEyMbkCuf3dPCWlNTw7vvvss///lPNBoNRqOR6dOnExgYSEBAgGx9paRB0NFf+sVm3r9/P++88w7Nzc1YWVlJV4EYMygoiN/85jeMGDGCc+fO8emnn7Jnzx7q6+vRarW4ublx8803c/fddxMfH3/VRsq90XD06FH+9re/UVJSgkqlkkKZqGfl5OTE//t//48ZM2ZQXV3NunXr2LZtm2zTYmZmhk6nIywsjIceeoiEhARp0hftgXx9ffH19f23aoQDuDoEzywpKWHt2rUcO3aMcePGMX/+fPz8/IAr19y7Ft/qed21ru0r+vJswafb2tp47733+OCDD6ipqUGr1XLTTTfxwgsv4OrqKg/V631+bzRcjUf0psQox1QKGDeCZyqtOhYWFnR0dLBmzRpycnJYsWIF3t7evZYkEhDrRafT8c477/Duu+/S0NCARqMhJSWFFStWyHntOV8/5V3Ee2i1WrZs2cKnn35Kfn4+BoMBLy8vZs+ezYIFC/Dx8ZFCW0tLC5s2bSItLY3z58+j0+kIDQ3l3nvvZfr06bIn9rVoEkJZdXU1L730EgUFBVhbW0sFV9Tja29v58EHH2TGjBk4ODiwbt061q9fj06nk99Wr9fj4ODAE088IXtZm5ubU1lZSXFxMW5uboSGhv7ilkmBGyqg6fV6TCYTx48fZ9OmTZhMl5vWzp07V/bP7Cm59pRer1ZLTbnxeprNf0oskFhQ4ueeNArpPD8/ny+//JLExESeeuop7O3tcXFxkcV1r9dk21Ow6uviELQptQNlTaAruc+uB8pN3rMenDIuQGmGhu6VyMXPgk4hFOXn57NhwwbCw8NlCxpHR0d8fHxkXIWSjqvViusLzMzM6OzspKqqisbGRiwtLaXVzGAw0NTUJNeyyWSirKyMbdu2UV9fL3vRnT59mr/+9a/k5OTwxhtvEBsb+6NvcTWIgstVVVVYW1uj0+nkPDU2NjJ48GAptHV2dlJUVERWVpZs5SO+g6enp6S9vr6eNWvW8N5771FbW4uPjw+/+c1v+PWvfy2tmQPu+f8sCD5WVFTE9u3bOXHiBJ2dnYwYMYJBgwYB/Gid93TZXMmK25d92F8oXZbKvdgzJED0fCwsLGTHjh14eXnx3HPPERISgp2dHUFBQde1f3vWghQ0iJ/Fe16pNlxPJVHJy0SxVXHfz+lqVp51yu8gqvmLLgWCNnFPT9qFwnvu3Dm+/fZbfH19eeGFFwgICMDFxYWQkJAffYufQzgTVqUNGzbwwgsv0NHRwdixY3FycuLw4cM8//zztLa28oc//AEXFxfMzc356KOPWLlyJba2towePRpLS0syMjJYtGgRzc3N3HPPPTg7O/fJYgg/tPqrrq7+0dnZ0tIC0I2PlpaWcuzYMezs7GSfZJ1Oh5eXF52dnRgMBmxsbPjiiy9YsWIFxcXFWFpa8rvf/Y7Fixfj5ub2i1vSbqjdXLQXys7OxtbWluDgYKqqqjh58iSjRo3qdq1YsFczPfZ2bU+fs/h7fyfxasVFRf9GsXGtra3RaDTU19djMpmYNWsWN998c7d7rtd6dqUDs6eGqtxo4u8mk6mbZamnMNPz3XqO0R8oN3jP+5WMRbyTaNDes6Ck+Fn8TTRMt7OzY9asWUybNu1HNCuf91OCOwUTt7CwYNq0aaSmpnbb5Hq9nrS0NFatWsVNN93EkCFDMJlMxMTE8M9//pNBgwZJhnL+/HlWrFhBRkYGmZmZDBkyRDL8q9EnNOPk5GTS0tK6vSfAzp07WbZsGfHx8YwcORK47Oq0s7MjPj6eZ599ljFjxqDT6bC0tJQaoNFo5Pjx4/zrX/8iPj6eW2+9lW+//ZYvv/yS6Ohobrnllm4FJQcSC/79EPu3o6ODgoICDAYDUVFRtLa2cv78eanhizWlPNSvhZ4xkwI/hzVIOWZv/NPMzAwbGxsA2Wd30qRJTJkyBXd395/0/J48TqmkK6/prbtBb1a/nvRf6936CyXPVNIp3kGEVCjjunoaLOCHb25rawtAfX09Go2GadOmccstt8j2dcr37PmuPwWiKfuuXbvo7Ozk2Wef5a677sLZ2ZmDBw/yxz/+kd27dzNz5kw8PT0pLy/n66+/xtramtdff50pU6agUqnYvHkzS5YsYe/evUyZMgVHR8dr0ijmytfXl48//lie93q9HpVKRWFhIb/61a/w9PQkJSWlWzN3Ly8vli5dyuTJk+W6EKEjVlZWlJeX8/777+Pq6srixYs5dOgQn376KQkJCcycObObMvRLJGDcUAHNzOxyj7msrCwCAgKYN28eK1as4NChQ4waNepHVha9Xs/Bgwf55ptvuHDhAkajkdjYWBYsWEBISEg3TU2j0bBnzx527NjBhQsXUKlUjBkzhjvuuANPT88+B+8r3VyiuXZBQQFWVlYkJSUxd+5c/Pz80Ol00vS5bt06ysrKqKmpwcrKih07dnD27Fl0Oh1Dhw5l3rx5ODk59Vn4Ee/f1NTEt99+y/bt22lubkalUhEZGcncuXOJjo5Gr9dz4MABMjIymD17NklJSVJY7erqIjs7my1btjB27FiSk5PZtWsXZ8+eBeDEiRMkJyeTnJzMhg0baGho4M4772TmzJl9bs0i5kpowv/6178ICwsjKiqKzz//nPz8fDw8PEhNTWXq1KnyepPJRF5eHmlpaZw4cYLw8HDmzJnD8OHDpbWnsrKSf/3rXxQXF1NTU4NGo2HXrl2Ul5djMpkYOnQos2fPxtHRUQp2JSUlpKenU1VVRWJiIqmpqTg5OfUrwUDJmJVWU6PRSGVlJZmZmVhYWJCUlIStra004QvXg2g27+/vz5gxYzh8+DDl5eVotdpuLWeuBSH4K7Xpqqoq9u/fT1tbG2PGjMHd3V3GeQgrpbW1Nfb29tjb23ezJmi1WkpLS3FxceH+++9n2rRpeHp6snr1aoqKirjlllvk4TZgRfvPgGD+DQ0NnDx5ErVaTXJyMnv37iUnJ0cKNEqlrKuri7y8PHbu3MmpU6dob28nKiqKmTNnMnToUFQqVbc1kZ2dzc6dOykqKsJgMDB06FBmzJhBdHS0VO76wrOEoFBSUsKWLVvIyspCp9MRHR3NzJkziY2NlcJFfX0933zzjezX2drayuHDh2lqasJgMBAaGsrs2bMZPHhwnxUusUfa2trYu3cvO3bsoLKyEpPJRFhYmHx/tVrN4cOH2bNnDyNHjmTMmDHY2NhIL8mJEyfYvHkzkZGRpKamsnfvXul+y83NJSIigtGjR3Pw4EGKiopITU1lxowZuLm59dmzIayKFy5cYMOGDXh6epKQkMDWrVs5fPgwFhYWTJo0idtuu61b7NbZs2c5fPgwOTk5uLm5cfvtt5OSkoJKpZLr5Msvv6SoqIjKykpaWlo4ePAgdXV1GAwGQkJCuPPOO2VYiLm5ORcvXmTr1q0UFBQQHBzMzJkz8fHx6fN3FzAzM6O1tZWWlha8vb0ZMmQIXV1dtLa2EhkZSUBAAKdPn6apqQmj0UhdXR0dHR34+fkREhKCRqPB3NycmJgYnJycaG1tlUJpXw0HSp4Nlw1C5ubm7Nq1i9raWm6//XbZuxmQgq+DgwNqtVoqDcIzYWZmRkFBAS0tLSxZsoQZM2Ywffp0zpw5Q35+PhMnTsTZ2fkXDRG5IQKaUug5efIkxcXFzJ8/n9GjR6NWq8nPz6ezsxMbGxt54LS2trJq1SpeffVVzMzMCA0NBZCLac2aNcDlj1BZWcmLL77Ixx9/jLOzM0FBQXR2drJt2zZOnz7N3//+d2kd6IvQ0dXVxf79+/njH/9IWVkZ/v7+mEwmNm7cyL/+9S9WrVpFQkICWq2W5uZmvv/+e06fPi0D1s+ePUt1dTVGo7Fb/FJ/hJ66ujreeust3njjDen3vnDhglxsK1aswNramsrKSv7xj3+g1+sZNmwYRqMRvV5PfX09aWlppKenExgYSEREBOnp6Xz99dd4e3vT0dHBnj17cHJywszsckP7c+fO4evrKwW9vrjjhHBQWlrKZ599hoeHBxYWFhw5cgRXV1c6Ojo4c+YMkZGRktlWV1fz/PPPc+nSJdzd3Tlw4ADbt2/npZdeYtasWdK9l5mZSU5ODiqVCq1WS0lJCdXV1dICl5qailqtlgfZ+fPn+fTTTyksLJTMy9HR8bozQHu6Y8+dO0d2djaRkZEkJiZ2u1Z8Y8Esy8rKOH78OO3t7bi5ucm+eX3dyEqrqKCltLSU48ePExAQQHx8vHyuUmM8duwYDQ0NqNVqoqOj8fX1lQKsu7s7DQ0NZGZmEhISwr59+6ioqMDd3V1aK48fP05zczMjRowYcHv+G6G05pSWllJZWcngwYMZNWqUPIBramrw8PCQ37+zs5O1a9fyxhtvcOHCBfz9/VGpVBw6dIisrCyWLVtGcnKyPEz//ve/849//IPW1lb8/PwwNzdn9+7dFBUV8ac//YnQ0NBrxoApXYhHjx7lueeeY/fu3fj6+mJjY8O2bdtIT0/n2WefJTU1FZVKRXt7O8ePH+fgwYOYTCa0Wi1VVVU0Nzej0+nQaDRMmjSp2zxcDWLv6fV6PvroI9566y3a29sJDAwEICMjg7KyMp555hmGDh1KTU0NmzZtorq6mrCwMHx9fTE3N0er1bJ582beffddHn74YSZOnMjBgwf58MMPcXJywmAwsGvXLt59910cHBxoaGggJycHFxcXpk+f3ud9IvZ1ZWUlGzdulN6YkydP4uDgQGtrK7m5uYSHhxMbG4u1tTVtbW2sWLGC9vZ2XFxcqK6u5quvvmLZsmXcddddODg40NHRQX5+PgcPHkSn06HVaqmoqKCpqQmNRkNraytTp07tFpZTV1fHF198wb59+0hOTmbYsGF4e3tLWvtyXgk4OzujVqspKyujvLycpKQkVCoVpaWl1NTU4OrqKt2CgwYNwtHRkZKSEurq6oiOjsbS0pLy8nLa29sJCAjA2tq6325kwWOFy7W+vp709HRsbGxISUnByckJvV4P/OA+PnbsGB0dHdjZ2REVFcXgwYOlp8fT0xODwcDu3bsZNmwY+/bto7S0lICAAFQqFVZWVhQUFFBQUMD48eNxc3PrE53XixsqoLW3t5OdnY2FhQVxcXF4eXkRFBTEkSNHKC0tJSIiQh44O3bsYOXKlSQlJfHmm28SEREBwJEjRyguLu7mW96wYQPr1q1j5syZvPLKK/j7+9PZ2cnevXtlo/O+uGzEmHV1dXz++ee0t7fz1ltvcffdd9PQ0MDHH3/M22+/zccff0xcXBzW1tZERkby+eefo9PpWL9+PStWrODRRx/loYceor29HWtra2l27qv1zNzcnKqqKtLT0xk1ahTvv/8+AQEBtLa2UlZWRnt7O7a2ttjZ2TF69GhGjBjBsWPHOHfuHMHBwQDU1taSlZUlNWKtVou1tTWhoaG8/vrrGI1GHn30UQICAnj99dfZv38/7733HufPn5cCWn8sftbW1jg4OFBSUkJKSgr79u0jIiKCsrIyiouLcXFxkXRrNBqGDRvG888/j7e3N19//TWvvfYan3/+OcOHD8fPz4+IiAg++ugjtFot69at429/+xv33HMPf/jDH6S2Kxr2igNExGrY2Nj8yM1xPVBa02pra8nIyKCtrY3Ro0fj4+MjDwYxVyUlJWRkZFBRUUFeXh55eXlMnjyZ1NRULCws+l2CRWk9a2tr48iRI5SXl3PXXXdJhUU8X6vVcvz4cXJzczEajahUKmJiYrjvvvuYO3cuDg4OxMXFERMTw6pVq/jwww+xs7Pj9ttvJyIigg8++ICNGzdy+vRpJk+eTGBgIGq1+rrmbQA/HUqrQV5eHkVFRQwfPpy4uDj8/PzYs2cPZ8+eJS4uTl576NAh1qxZg5OTEy+88AI333wz9vb2nDhxgsLCQmltMxqNbN++nfXr1xMZGcnTTz/NyJEjMTMzIzMzk8bGRhwcHPrsKjU3N6elpYUtW7Zw5swZFi1axMMPP4yrqytffvklb775Jps2bSIyMpLIyEh8fX159dVXsbKyIj09nVdeeYWbbrqJRx99FBcXFwDZYLsvEDRUVVXx3Xff4enpyfPPP8/o0aNluEFbW5uM2RszZgyJiYnk5uZSVFSEn58fFhYWlJaWkpWVRWhoKBMnTsTJyQkHBwd8fX1ZsmQJQUFBvPjii2g0Gl577TXOnTvHK6+8QklJCVqt9opla3pCyVc8PDw4evQooaGhfPTRR4wdO5bm5mby8vIkL1epVFy8eJGoqChefPFFhg4dynfffceyZctYt24dSUlJJCYm4uXlxSuvvIKlpSVbtmzh+eef55ZbbuGPf/wjzs7OWFlZYWdn142vwGW3qEql+kmZwQaDAVtbWx544AFaWlr46KOPqKysxMHBgR07dtDZ2cnvf/97goOD6erqwtPTk0WLFrF69WrefPNNTp06BUB6ejqOjo7ccccd3QTFvkLMrVgTWVlZVFRUMG7cOEJCQiQfFvtAGDtEGRA/Pz/uu+8+HnzwQZycnIiLi2POnDm88847bNu2DY1Gw+zZs0lISGDbtm1s3LiRjIwMIiIiCAwMxNnZuVv8489tWfvZBTQhnImsjdzcXNzd3YmLi0OlUhEVFUVeXh6nTp0iIiJCBkFv3boVR0dHHnnkEZKSktDr9VhZWTF58mQmT54sg8gvXrzIrl27CA4O5qmnnpJCnr29PXPnzpU0XIvZCMuZcK9lZmYSFRXFvHnzUKvVqFQq5s2bx65du6R5OzIyEjMzM2k5E+ZokbarVqu7bdi+CIiCVr1ej0ajwc7ODkdHR+zs7LCzs5OxBAaDAb1ej5OTE+Hh4Wzfvp38/HzCwsLo6uoiNzeXhoYGpk+fjpubG5WVlej1euzs7PD396elpQWVSoWXlxd+fn44Ozuj1+vp6OjoZrnpz3fu7OzEx8eHJ554guHDh2MymYiLiyM2Nha4bFk0GAw4Ozszd+5cIiMj6erqYsKECRw6dIiTJ09SVFSEr68vZmZm0hplY2MjA+yF0NAzmNdkMuHi4kJ8fDyOjo5ERERgY2Pzs8RYCPdmdnY2vr6+jBw5UmqhwjJmNBrJz8/nlVde4ezZs1haWpKYmMisWbOIjo6WQuX1xCGaTCaqqqo4ceIE9vb28h2FlmhtbU1sbCyPP/448fHxMjX/m2++YdWqVTg6OjJ37lwGDx7M66+/zsKFCzl9+jSXLl2ipKSEhx56CDMzM8aOHcuiRYtkKj78PHE2A+g/BB9oaGjg7NmzqNVqwsLCcHFxwc/PD71eT2FhIS0tLTg6OtLS0sLhw4dpaGiQLmx7e3sAUlJSSElJkVaTmpoaDh48iNFo5N5772XChAmSP4rY2b4eLuKwq6ioICcnh5CQEG6//XZpkZs6dSr79+8nJyeHoqIioqOjMTc3x9bWtlsRb0tLS+mev554YTMzMzQaDXq9HltbW5ycnGRy1rBhw4AfLG1eXl5ER0fz3XffkZOTQ3JyMs7OzhQUFFBdXc2IESNkApJWq0WtVuPj44O/vz82NjY4ODjg4OCAl5cXarUarVYr3WJ9gTIOToSuPP7440ydOlUKbWFhYQBcunRJuuHmz58v3dRTp04lIyODtLQ0ioqKiIuLw8LCQiqnQsBVqVSoVCocHBykAKlMClCr1QwbNgyTyURUVJQUMPrD/5Xxc+PGjaO8vJxly5axdOlS4DIPWbhwIampqTg7O8t1OHXqVIqKinjrrbfYtWsXXV1dWFtb8+STTzJ+/HhZpqi/FnxxVhgMBjIyMrh06RLDhw+XzxZ8OCAggIULFxIREYFarebUqVN8/vnnvPrqq6hUKu677z6cnJxYunQp06dP59SpUzQ0NFBRUcEf/vAHWlpaGDZsGC+//DITJkzA39+/X+f99eCGWdCUWROpqakkJyej0+mYMmUK69atY//+/dx5551YWRZeuKEAAB1LSURBVFnR1tbG2bNncXd3l4tHHEbCdy4WeFtbG5WVlYSEhMgDX1wvBMP+HDLCvabT6QgJCUGtVst6KSqVikGDBlFQUIBOp5PvJiwoIrNP0CCk8r5qJmLTdHV14ezsTGRkJAcOHOCuu+5i0qRJDBs2jIiICJmJYzKZcHV1JSUlhfT0dA4dOsSUKVO4dOkSmZmZMg5PacGzsrKSG1UE6ouxRCyfMvFA3HctusX9vr6+hIaGyto24m/i2+n1etRqNf7+/hiNRnQ6Hfb29nh7e5OVlUVjY6O8R8RVKS1Vwjzds5OAmZkZ0dHRvPrqq3R1dUmtUFx7PRDfVqPRcOLECUpKSrj55psJCgqS608wDwsLC8aOHcvatWupq6sjNzeXL7/8UloKpkyZIpmDWCPK2jy9dZtQBn2Xl5dz8uRJAgICpNVEfENvb28eeOABabIHmDJlCv7+/rz33nvs27eP0aNH4+npiUajobGxke+//56srCwcHBwYM2YMMTExhIWFMWTIkG5xGgP490DMf3l5OUVFRYSFhZGQkICTkxMpKSls376dkydPUlFRwZAhQ+jo6KC8vBwrKytCQkKwtbWVyUx6vb7bHm5paeHixYt4e3sTHBzcLVNdGYzeH7S1taHRaPD09MTZ2VkqMO7u7vj4+JCZmUlra6t8lgg5EXxDeE6Ue6KvEHzA09MTX19f0tLSeOSRR0hNTSUhIYHo6GiCg4NRqVSSlyQmJuLj40N+fj41NTXY2Njw/fff09TUJL07St6i3O89E7OEYHg9MBgMhIeH4+/vL2soiqQeEQ+q1Wpl1rqVlZUUZEQ9s8bGRnk+ibhTwTvFOajMZBVzBuDn58fjjz8uzyphYetPKIZ4D5PJJC1i4eHhLF68GCcnJ/bt28e2bduwsLDg6aefxs/PD41Gw0svvcRnn33GmDFjZPLXV199xXvvvYfJZOLhhx/Gw8NDCpRifgT9V4r9EnNXVlbGd999J8N2elplZ8+ezV133SXP5zvuuIOYmBiefvppduzYwbRp03B2dqatrU3GzmdkZKDX6xk1ahSxsbGEhoYyfPjwX6xm3w2xoIlFLHy9paWlLF68GIPBQHNzMxYWFpw5c4aSkhICAwNl0ToLCwupUSkFC2XZho6ODuk6s7W1lZMtNlDPlPNr0WowGGhtbcXMzExqoD0zNoVgISAWtPLZYkP3VzgQ9wYHB/PSSy/xt7/9je3bt3PgwAEsLCyIiIjgySefZMGCBfJAjo2NJTIykqNHj1JWVkZTUxMnTpwgMjKSqKiobuMrM/SEpc/KygqVSiWZ+vXAZLqccebl5fWjDM2elZ2F8CToF3Ol0+loa2uTdCo1TaUgcyXt3tLSEicnp+ui/0rvZDKZqK+v5/jx41hYWDBq1Ch5APV0o7q5uUnL0/jx43F1dWXZsmWsX7+eYcOG4eHhIYU0ZTHGK0HMW0NDAwcPHqStrY3x48fLmEglsxX7QtT0cXR0JDExEW9vbyoqKrh06RJFRUU888wzFBUVMXbsWJYuXYq7uztr167lscceQ6PRkJSUxNNPP82tt94qx/6lAmAHcBlCWDIajRQWFlJWViYPP7VaTUdHBzU1NTQ1NVFSUkJMTIxUXkRIhdh7gncpE0Y6Ozvlga4MB+iprPXnkNZoNGi1WslTxLoRAkJvSolS2BH/vp54R5HJ6ubmxhNPPIGnpyebN2/mrbfeorOzk8DAQBYtWsTdd9+Nq6srJpNJuqROnTolE4+EBXDo0KFyfyrnQEmvkuafAjMzM5ycnOR3UO5lpYAo/qY8Y9RqNVZWVjQ3N6PVaiVP7Tmf4v7e5tbCwuInhzIInibKTLm4uPDSSy8xcuRIzM3NueWWW6iqqmLz5s2MHTuW2267je+//54tW7YwZMgQnn/+eaKjozEzMyMlJYVf/epXpKenk5qaKmMsxVnRn7aJ3333HVVVVdxxxx0EBAQAP1imTSaTTKQSBhhbW1tSUlKIiYmhpKSE2tpazM3NefLJJ9m9ezdxcXHcd999TJgwgbS0NFauXElVVRXu7u689tpr3H777XLv3SieecMEtLa2Ng4ePIiVlRXV1dVkZWVhNBqxt7fH0dGR0tJSDh06xODBg4HL7kKNRkNbWxuenp6ybo6wiolNb21tLQNPOzo6uhW8NZn630bK0tISV1dXAJqamjA3N5fZHsIq1lv5jf4Kg1eCUrAbNmwY77//PhcvXuTkyZNs3ryZDRs28P7775OSkkJwcDCdnZ14eHgwatQoPvvsM7KysmSG0Ny5c/H09KSzs1OO3XPzKktgXKn3ZF9oFgtSWHWg97ZXIii4s7NTbg7xfxsbG5nterXSKFc6PPR6Pc3NzdKVK1K0rwdKy2hxcTFZWVkEBQWRlJQkDwQllK1AxLoLDg7G29ubhoYGWcnbZDLR0tLC6dOnpcUjIiKCqKioK5rGKysryc3NxcvLi2HDhkkloee3E78TCoyNjQ02NjbodDoZ9/G73/2OoUOHEh8fT1NTE2+++SbHjx9n+fLlqNVq/vGPf7BhwwZGjBiBl5fXdSdYDOD6IdZWa2srJ0+epLW1FZPJxFdffYVOp8PBwQF7e3s0Gg2nTp1izJgxUuESGdxiPSjLaYh1ZWdnh62tLZcuXUKr1cr1oqwf1p99YzKZUKvV2NnZodPp0Ov13RQ9wWeEkv1z8MmeEHshMjKSF198kcWLF3PmzBl27drFunXr+Oc//0lkZCQ333wzRqORQYMGMXLkSA4dOkReXh6XLl3i4sWLTJo0SVrIf47wiKtB8DGRbSh+J6B8vphT4Z0xMzOTmY5CwLuaa/JKvxcGCWFBU6vV/T4zxdi1tbUyvtjb25u2tjZMJhO2trYkJydTUFBARUUFGo1GxgWKcIr29nbMzc1l+NP+/fuprq6W5YLMzMw4ceIEpaWldHZ2Sp4p4pCVtFhZWdHQ0MCOHTvQ6XSkpKTg4uLyo3NKma0p+LaIYxaKhYODA1OmTOHJJ59k2LBhqFQq3n33XdasWcPvf/97kpOTee6553jvvfdITk4mNDT0hsSeCfys6VrKmKqqqiqqqqoIDw9nzZo1lJSUUFBQQGZmJvfddx+NjY0UFxdjZmaGo6MjCQkJ1NXVsW/fvm7WKXE4Cmbi6elJWFgYRUVF5OTkSAlbaBv9YQbiQ4l4L1HiQUjudXV1FBUVoVKppGWvtw/xc30coUl7eXkxZcoUnnrqKWbNmgVcbpsE/7+9s4+p8rof+Od57gveixXtBS0inYIiBUWRAq1oFUfSLs2WviybTadZl7lJ0+y/9Q+z/fNrZpY169KZLM3qH+v+WU3cZpZ0dXPGVL34AiKoMHzjRUGQKqBwy+W+POf3x3PP4blXtL5AR/V8EoJ4n3ue836+5/v9nu+xO9qsWbPUoYV//OMf7N27l8zMTJ599tmkPDp3qBP5md0u7tvd5NPp1+AkdVDIwXPu3DnVrjdv3qSrq4sZM2YoJ+HUtG73b/luy7I4deoUb731Fs8//zzbt2+nv79fqffvp0yGYSjtVX9/P6Wlpco069QOSvN7Wlqa6ivyu+FwGL/fT1pamnq2s7OTd999l9dff5233nqL3bt3J2kaZLpgB6FtaGigra2NVatWKUHOWQdyLMj4PVKAa29vp7e3l+zsbAKBAMuWLeOHP/why5cvJxaL0dfXR1dXF6tXr2bTpk28+OKLfOtb32J0dJQrV66outXmzv8NfX19dHZ2kp2dzW9+8xtOnz5NS0sL9fX1bNu2DZ/Px8WLFxkaGmLmzJksXryYcDjMiRMnuHnzptKaeL1eNe6lxiY3N5e+vj5Onz6tNp1yPN7PZm3mzJn4fD6uXLnC9evXlWa+p6eHrq4uMjIyksb2VCD7qtvtZvbs2axevZpf/OIXvPTSS4Bt2pV9WQhBWVkZBQUFHDlyhL///e9Eo1FKSkqSgqOm/kxl/lPTlu0wY8YMBgcH6ejoIBwO4/F4CIfDam2aO3euChGRmo78nTqG5XzT0dHB22+/rfxPZRimexn38h3yVKMMizRjxgzS09NVaBUhBH6/H5fLxaxZs/B4PHR2dhIKhXC73aSlpTE2NsbAwAB+vx+fz5dU7zt37qS2tpZNmzbxwQcfqPAhzjVebjaampr473//S0VFhToh6tTayn4if+Tm4dy5c3R1dZGTk0MgEOCJJ56gtraWNWvWKDed06dPs3jxYl555RVqamr48Y9/rE4iT8Xmw8mka9CkM39bWxvt7e1s3ryZiooKYDyi9Nq1a/nLX/5CfX09/f39BAIBXnzxRfbs2cOOHTsIBAI888wzCCE4ePAgvb291NbWKh+sF154gX//+99s374dr9dLcXExoVCIf/7znwghqK2tVdqF2w0u5w40NzeXtWvX8te//pUPPviAn/70p9y4cYM//elPXL58mS1btqgDDc6J70HU9BIpfLa2tvLJJ59QWVnJ0qVLiUaj1NXV0dTUhNvtVqespCBaUFBAfn4+hw8fVnfZSfPm7VTyTrPjg+TbqY37MqE1LS2NUCjErl27WLhwIYsWLWLPnj0Eg0HWr19PcXFxkpkFSEpb5nsiASUUCtHZ2UlHRwf9/f3KL+R+BAw5iHt7ezl58iSZmZlUVVXh9/tVG1mWxfDwMHv37qW5uZm1a9fy5JNPYhgGJ0+eZOfOnQwNDbFs2bJb7tDz+XxkZ2eTlZWlJtfUuhPCvuZKaptLSkqSYvrJPDQ0NHDo0CGWLl2q/P/q6+vZuXMnY2NjlJeXM3/+fCKRSFJk9zlz5pCVlcXBgwf59NNP8Xq97N+/n5ycHHUYZaq1CJpknJud8+fPc+HCBZYuXcrKlSuTrnYqKysjPz+f9vZ2Ojs7ycvLY82aNezbt49du3aRkZHBd77zHWbPnk0wGKSjo4NvfvObFBQUMGfOHNasWcOBAwf485//zGOPPcaGDRtwu90cOHCA4eFhampqlDXjTvOCHJe5ublUVFTwxz/+kY8++ohZs2bx+OOP8/HHH3P8+HGqq6uTTh47580H1VZJc+D58+f5z3/+w7x581i1ahUej4fW1lbq6+sRQihHebmILl26lMLCQvbv38/o6CilpaUUFhYmxYF0ulh82c+9kjpvTiQUxeNx5Tu1e/duFi5cSFlZGQcOHGDfvn0UFBRQUFCQVJ/OenW+ayJGR0fp6+tTgnQoFLpr32OJ3KwuXLiQnJwcDh06xEcffcTmzZsJBAL861//Yu/evWqdSk9Pp6ioiIyMDPbt20dpaSkvvfQSfr+fXbt20dDQQEFBAYsWLVIx6sDW/M6dOzfpAF5qXcn2raur4/r167z22mvKj00+Y5omp06dYvfu3RQWFlJUVITf7+fcuXPs3LmTtrY2fvKTnyjLnawL2SeWLFnCJ598ouKT7tq1SymLpnqunHQBTZ5U+eyzz3C5XBQVFSnHa6nhysvLY8GCBZw5c4bW1lbWr1+vdj/bt2/n+9//vjpyOzg4yMaNG5Xpxufz8corr9DV1cWOHTt4/vnnmTt3LkIIQqEQtbW1wHjD3A1ZWVn84Ac/oLGxkV//+td8+OGHCGHHZnvhhRd44403khpMDiy5K3E26r1gp4MSDH73u98xPDxMdnY2Y2MRhoYGyczMZNu2bSxZsiQxebgB2/9JBjs0DIOiomICgQDh8JgSeKLRqPI/EUIQiUSIRCLKp25kZCTJt+5e8h2LxQiFQoyMjKgJMLW+I5EI165dIxKJcPHiRV599VX8fj8jIyOsXLmSLVu2EAgE1ITrPHwhTSd3Uh/HYjHC4bDKz4P401mWxRdffMGRI0c4duwYa9eupbi4OOkZmZfe3l527NjB+++/T3p6OuFwmHA4THp6Oi+//DIbN27E6/UmmelDoRDd3d1EIhF1rYjT5Czfcfr0aYLBIHl5eZSXlydpj+Wk093dzR/+8Af6+vpUGJNIJEIgEGDz5s28/PLLSjPivKNu3rx5vPrqq5w5c4YtW7bgcrkoKCjgu9/9rgpWqWOgfbXITV8oFKKxsZHOzk6qq6vJzMxUArbX61XCfTAY5OTJk1RUVFBWVsbWrVt57733+OUvf8m7775LWloaAwMDPPfcc1RVVan31NTUcO3aNX7/+9+zdetWdf3O9evXef3116mpqbmrjY00qft8Pr797W+rhe/TTz/F7XarmHqbNm0iLy9PCQ5SQyfNsVITcj/mIblhGR4e5m9/+xvBYFDF9rt+/To+n4+f/exnlJaWAuOLbWZmJpWVlezfv5+rV6+ybNky5d8p5x85Pp1mY/lbzvdOU/K95luenJeHJiaq356eHsbGxujt7WXr1q2kpaUxODhIbm4ub7zxhopX55wTpEO9dCG5E/I5yf20QSwWIzs7mzfffJOBgQHef/99PvzwQ/x+v4p3uW3bNioqKtT69POfv8077/wf27Zt47e/fS9hdbhOXl4eP/rRj5IC6hqGwchIiMuXL3Pjxg0GB4eSfNFlfRqGQUtLK7t378YwDFY/u1qd5pVtatdPjD179nD27FnS09PVLUfxeJyNG1/jzTffJCsrK8n8Kdvoe9/7Ho2NjfzqV79SF7y/8847LFiwYErNmwCGmER7hkzpxo0bHDhwgJGREaqrq8lZkINQsUjs8AzBYJDunm6qVldRULCEeNwiHo9xpqWFw4cOc+nSJSxhaxHWr1vPokULsQQYCCxLEImMceJEI0eOHqG7uxufz8eq0lVUV1cTyMwEcS83CQhA0N3dY0fZPn8Oj9tDSUkJ1dXVzJ03F5GYFAQgLEEsFuXChYs0NzdTvKyYkuXLsRLlN++hvayEgDYyMkJDQwONjY10X75MLBYjLy+P1atX21f8GIBA/Y7H41y6dImDBw9iulxUrX6WvLw84pbANA1Ghkc40djI0NAQ69etIxqNEgwGCQQCVD7zDF1dXTQ1NfFUYSHLlhVjWWCYBgZwu/4mhEBgv7+np4djx46RmZXJmqoqXG43CPu78rnBgUGOHT9GOBwmNzeX+vp6Oto7yMvLY8OGagoKChCAaRiqHeJWnPPnz3PqlB2GpXTlSlVmw0C9HwQ9PVcIBoMMDQ2Rn59PZWUFM2fOVGneLTK/Y+Ewzc2naGlpYcWKFaxcuUKVC2Q/sX0vZBiBK1euEI1GyX0ylxUrVlBeXk7GrFnOpmJgYICG+gba29tJT0+npKSEkpISTJcJQmr8bMH03PnzNDefIvuJJ6isrEyEdEksIInJ4PP+zzl27BhnWs5wte8qhmHwjYULKS9/mtKVK/H5Et8xzQnr7dLly9QfrycSjSizjxDcse01U4MlBAb2qciTTU10d3dTXFTMU08V4nZE9o9GIjQ1N9PW1saSxUtYsaLEvqkCg/b29kTw7BZGvxglLz+fdevW8VRhIR6PGyHANO0x1tLSSjAYtE1bhq1VWrvmORYvzrfdSgy7H3wZ8biFYcDVq/0cPXqUE42NRMbGyM/PZ8OGDeTn54FhYCRSs4TANKCjo5PGxkZycnIoKSmx+/ddvjO1zkZHR2k+dYrGE410dXUxOjqqXD0qKsoTgZcNTNNwhBy5Sl1dHcPDw1RWVqqNr2EYYBg01NfTc+UKTz/9NBkZGRw9cgTT5WLVqlKGbw5TX1+fOFm9nBkzfHeVd5nfzz+/Rl1dHT6fj/Lyp5ntMAFbcQvTNIhEo3z22WcMDQ7x5De+QWtrC21tZwk8/jg1NTUUFxfhTUtLjFVDpd3Z2UXDiQYWLFhAyfLl+Px+9YwQ4/U/ODhEMBjk0qVLzJ8/n6qqKjKzMgED4x7aYTxNgwsXLnD48GHOnj1LJBIhJyeHqqoqu458PmSqhgFNTc0cO3o00f8M8hN9dfHifFymC8NhOTl65AhtbW2Ew2GKioooKytzuBrZfdA0TTo6O6kLBvGnp7N+3TrbZC3rx7JwmSahL0IcP15Pc3Mz7RcvEo3FmD9/PsXFxWzYUM2c2bOxLKHWQLmWy+8PDA5SV1fH1atXWVVaSlHRU3i8XswptjhMkoAmEj8qWZKb2uIWCUO5vwlbeDPNlP9PSV+M7wqkxsPlnuhkXOJZQ6Z3N6TmyZGaEAgrhulyO9K7tQyIeOKd94NAWALDnEihKQArUXXOMqXUsRAI4hiGmfi3wDDcKZ+5HWni+L6FWqHtnn2HvDrbUT6X2v7OZ2+Xlki8M/Xz1L9Fym/5ZyIPSXXuTPMeu3VCSDMMp0+eo1wq3TuVCYSwEFYcU/n2GSm/k55Ozqdq49TPHeWZsNwpad6pDlT7JvIjLISw1AKl+aqZqH845jupub9tX4fbuxLLuVCmQSKNu+iLd4EQFgbmLX1RiLjjXc7+LZLfL6x7k8xu4fZj0c4bjnFgJP7PUY/CQu1gbkkzdY5M/tsu4z1KNHcqu9LQ31qfycnEHeVKzbN6ilvr/XZz1723+/g7BVY8jmG67HynEI9FMV2m+iwei2G6Jn42ef28zRqXJEfIRy0wXOPPiXjS57aWzUzIF7e559qKYW9oXakf2L+EXJsd7ihWYq1V/zU1c+eDC2gCBHFiMfvkmMu07fmRMduU5vV6cbldSapJebIvnohf5XK7EVbiPs5YFGEJTJetZrTiFm6PG7crWXiRJjtLjPuaCUvgcruSroy462IIQTwWJxaP2cJSYlLzej22FiW10Iyb1Txujyrj/UrTtvo7hmWNH7eW5g+vx4uRopaT+ZUxjzyeRB6k6G9ANBJVbWCYJmNjYQwM0makqe96Eo7mapGWX75Th0to8OT9pN4074TltizLzoMY96GSz5mmaZ9Ewt6JOcsVi8aIxWPqCP/tUGEmLAu3x4PH7bmlnu4KgS3QYsfeiUYjuD2e5NAYjjlDnvJFgMvtUvWBwYR5FkIQjUSIxey2dXvcE/ZR1aaxKC7ThcfrSa7XhLYtbo2bKNQhEGv84mjTtCeOCfuikPmPYFlCBQy9r3rTTCqyX7ldthOzsDsmQJJLhcvtUu1sa/Nj4yYzA6x4HJfLfUv/sSyLWHT89DFGIoaUy8Ttub/7Be3xEk0yubldtiO23aeS55JYLEYsGhsPufMA/U7NL/KEs3HrARrnfAj2OI1Fo6rvuz1yEzteHsuy8Hg9mIYdQFwgSPN6EQJ1g8D91Jew7DXLnq/dCaHB8bmw29u5rklkm9lzppFUJkj0nUhEtbv9sd0fxgV81Nos/bc8Ho+tyf/y3I9XUkqepTkYxrWBMjKBLaCNZzQSidjt7xr3wzMME4/HfYu7h9PM7EqMCdPRX5RpOm4RiUbUOihNlDI/hmGvPWPhMBhgmi5Mw7DXemGf5HS77PYQDqFM4nyHFbdwJeZMhIFpmHjS0hJtOflz6KRo0KbaDqvRaDQajUYz/Ui1Hk4eD3RIQCCIxy2suKD17GUaTp7BP8u+XmHSHNumJferFv7fc2/C9Jdo0jQazdecqZ7L9BzyVTG1ipKv75o32dgmT5N4PMqcDB/rnykl4zE/Bilm7EngwQQ0IbCwTyJ+MRrj84FhZuEn7ojv9FBiJPzCHnpMEHpy1TzMyFAHj2h4EUMuvFM1Xxsg9Mngrz1T3k++LiR84EyTaCyK6TKIyVOz0l14Mt/2YCZOO0dxAa5HcG7TaDQajUbz6GIJC4PEAY9JltAmxwcNiMQgEo3jSj0J8dDyKOwktNSt0Tz8TLWJU/Nw8CiseXeHSBy6cBEnzWMkDtVOvqZ40uKgCRynedHDUqPRaDQazcPOFNg2E0xioFppn34UfLPg0RBB9Y5Jo3n4mcq5TM8hDw+Pwpr3ZSSEMQG2xmxqNVKTeNXTlwfx1Gg0Go1Go/la8xUdKJr0uzi1gKbRaDQajUbzYOjzzxqNRqPRaDTTDC2gaTQajUaj0UwztICm0Wg0Go1GM83QAppGo9FoNBrNNEMLaBqNRqPRaDTTDC2gaTQajUaj0UwztICm0Wg0Go1GM83QAppGo9FoNBrNNEMLaBqNRqPRaDTTDC2gaTQajUaj0UwztICm0Wg0Go1GM83QAppGo9FoNBrNNEMLaBqNRqPRaDTTDC2gaTQajUaj0Uwz/h9UH88XOOmmbwAAAABJRU5ErkJggg==)"
      ],
      "metadata": {
        "id": "XMgm1cJaVIBO"
      }
    }
  ]
}